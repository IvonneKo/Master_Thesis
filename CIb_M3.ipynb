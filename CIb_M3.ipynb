{
 "cells": [
  {
   "cell_type": "markdown",
   "metadata": {},
   "source": [
    "# Bayes models: CIb\n",
    "#### Transformation model based variational inference (TM-VI)\n",
    "#### Image data: CIb model , compare MF-Gaussian-VI with MF-TM-VI (last layer FCNN)"
   ]
  },
  {
   "cell_type": "code",
   "execution_count": 1,
   "metadata": {},
   "outputs": [
    {
     "name": "stderr",
     "output_type": "stream",
     "text": [
      "2021-11-26 20:05:18.142990: I tensorflow/stream_executor/platform/default/dso_loader.cc:49] Successfully opened dynamic library libcudart.so.10.1\n"
     ]
    },
    {
     "name": "stdout",
     "output_type": "stream",
     "text": [
      "Num GPUs Available:  1\n"
     ]
    },
    {
     "name": "stderr",
     "output_type": "stream",
     "text": [
      "2021-11-26 20:05:19.493175: I tensorflow/compiler/jit/xla_cpu_device.cc:41] Not creating XLA devices, tf_xla_enable_xla_devices not set\n",
      "2021-11-26 20:05:19.493733: I tensorflow/stream_executor/platform/default/dso_loader.cc:49] Successfully opened dynamic library libcuda.so.1\n",
      "2021-11-26 20:05:19.552332: I tensorflow/stream_executor/cuda/cuda_gpu_executor.cc:941] successful NUMA node read from SysFS had negative value (-1), but there must be at least one NUMA node, so returning NUMA node zero\n",
      "2021-11-26 20:05:19.553003: I tensorflow/core/common_runtime/gpu/gpu_device.cc:1720] Found device 0 with properties: \n",
      "pciBusID: 0000:01:00.0 name: NVIDIA GeForce RTX 2070 SUPER computeCapability: 7.5\n",
      "coreClock: 1.815GHz coreCount: 40 deviceMemorySize: 7.79GiB deviceMemoryBandwidth: 417.29GiB/s\n",
      "2021-11-26 20:05:19.553037: I tensorflow/stream_executor/platform/default/dso_loader.cc:49] Successfully opened dynamic library libcudart.so.10.1\n",
      "2021-11-26 20:05:19.555728: I tensorflow/stream_executor/platform/default/dso_loader.cc:49] Successfully opened dynamic library libcublas.so.10\n",
      "2021-11-26 20:05:19.555806: I tensorflow/stream_executor/platform/default/dso_loader.cc:49] Successfully opened dynamic library libcublasLt.so.10\n",
      "2021-11-26 20:05:19.558103: I tensorflow/stream_executor/platform/default/dso_loader.cc:49] Successfully opened dynamic library libcufft.so.10\n",
      "2021-11-26 20:05:19.558518: I tensorflow/stream_executor/platform/default/dso_loader.cc:49] Successfully opened dynamic library libcurand.so.10\n",
      "2021-11-26 20:05:19.561192: I tensorflow/stream_executor/platform/default/dso_loader.cc:49] Successfully opened dynamic library libcusolver.so.10\n",
      "2021-11-26 20:05:19.562688: I tensorflow/stream_executor/platform/default/dso_loader.cc:49] Successfully opened dynamic library libcusparse.so.10\n",
      "2021-11-26 20:05:19.568221: I tensorflow/stream_executor/platform/default/dso_loader.cc:49] Successfully opened dynamic library libcudnn.so.7\n",
      "2021-11-26 20:05:19.568331: I tensorflow/stream_executor/cuda/cuda_gpu_executor.cc:941] successful NUMA node read from SysFS had negative value (-1), but there must be at least one NUMA node, so returning NUMA node zero\n",
      "2021-11-26 20:05:19.568747: I tensorflow/stream_executor/cuda/cuda_gpu_executor.cc:941] successful NUMA node read from SysFS had negative value (-1), but there must be at least one NUMA node, so returning NUMA node zero\n",
      "2021-11-26 20:05:19.569073: I tensorflow/core/common_runtime/gpu/gpu_device.cc:1862] Adding visible gpu devices: 0\n",
      "2021-11-26 20:05:19.569428: I tensorflow/core/platform/cpu_feature_guard.cc:142] This TensorFlow binary is optimized with oneAPI Deep Neural Network Library (oneDNN) to use the following CPU instructions in performance-critical operations:  SSE4.1 SSE4.2 AVX AVX2 FMA\n",
      "To enable them in other operations, rebuild TensorFlow with the appropriate compiler flags.\n",
      "2021-11-26 20:05:19.569867: I tensorflow/stream_executor/cuda/cuda_gpu_executor.cc:941] successful NUMA node read from SysFS had negative value (-1), but there must be at least one NUMA node, so returning NUMA node zero\n",
      "2021-11-26 20:05:19.570210: I tensorflow/core/common_runtime/gpu/gpu_device.cc:1720] Found device 0 with properties: \n",
      "pciBusID: 0000:01:00.0 name: NVIDIA GeForce RTX 2070 SUPER computeCapability: 7.5\n",
      "coreClock: 1.815GHz coreCount: 40 deviceMemorySize: 7.79GiB deviceMemoryBandwidth: 417.29GiB/s\n",
      "2021-11-26 20:05:19.570226: I tensorflow/stream_executor/platform/default/dso_loader.cc:49] Successfully opened dynamic library libcudart.so.10.1\n",
      "2021-11-26 20:05:19.570244: I tensorflow/stream_executor/platform/default/dso_loader.cc:49] Successfully opened dynamic library libcublas.so.10\n",
      "2021-11-26 20:05:19.570260: I tensorflow/stream_executor/platform/default/dso_loader.cc:49] Successfully opened dynamic library libcublasLt.so.10\n",
      "2021-11-26 20:05:19.570275: I tensorflow/stream_executor/platform/default/dso_loader.cc:49] Successfully opened dynamic library libcufft.so.10\n",
      "2021-11-26 20:05:19.570289: I tensorflow/stream_executor/platform/default/dso_loader.cc:49] Successfully opened dynamic library libcurand.so.10\n",
      "2021-11-26 20:05:19.570304: I tensorflow/stream_executor/platform/default/dso_loader.cc:49] Successfully opened dynamic library libcusolver.so.10\n",
      "2021-11-26 20:05:19.570320: I tensorflow/stream_executor/platform/default/dso_loader.cc:49] Successfully opened dynamic library libcusparse.so.10\n",
      "2021-11-26 20:05:19.570335: I tensorflow/stream_executor/platform/default/dso_loader.cc:49] Successfully opened dynamic library libcudnn.so.7\n",
      "2021-11-26 20:05:19.570388: I tensorflow/stream_executor/cuda/cuda_gpu_executor.cc:941] successful NUMA node read from SysFS had negative value (-1), but there must be at least one NUMA node, so returning NUMA node zero\n",
      "2021-11-26 20:05:19.570760: I tensorflow/stream_executor/cuda/cuda_gpu_executor.cc:941] successful NUMA node read from SysFS had negative value (-1), but there must be at least one NUMA node, so returning NUMA node zero\n",
      "2021-11-26 20:05:19.571083: I tensorflow/core/common_runtime/gpu/gpu_device.cc:1862] Adding visible gpu devices: 0\n",
      "2021-11-26 20:05:19.571114: I tensorflow/stream_executor/platform/default/dso_loader.cc:49] Successfully opened dynamic library libcudart.so.10.1\n",
      "2021-11-26 20:05:19.933313: I tensorflow/core/common_runtime/gpu/gpu_device.cc:1261] Device interconnect StreamExecutor with strength 1 edge matrix:\n",
      "2021-11-26 20:05:19.933347: I tensorflow/core/common_runtime/gpu/gpu_device.cc:1267]      0 \n",
      "2021-11-26 20:05:19.933351: I tensorflow/core/common_runtime/gpu/gpu_device.cc:1280] 0:   N \n",
      "2021-11-26 20:05:19.933501: I tensorflow/stream_executor/cuda/cuda_gpu_executor.cc:941] successful NUMA node read from SysFS had negative value (-1), but there must be at least one NUMA node, so returning NUMA node zero\n",
      "2021-11-26 20:05:19.933792: I tensorflow/stream_executor/cuda/cuda_gpu_executor.cc:941] successful NUMA node read from SysFS had negative value (-1), but there must be at least one NUMA node, so returning NUMA node zero\n",
      "2021-11-26 20:05:19.934040: I tensorflow/stream_executor/cuda/cuda_gpu_executor.cc:941] successful NUMA node read from SysFS had negative value (-1), but there must be at least one NUMA node, so returning NUMA node zero\n",
      "2021-11-26 20:05:19.934266: I tensorflow/core/common_runtime/gpu/gpu_device.cc:1406] Created TensorFlow device (/job:localhost/replica:0/task:0/device:GPU:0 with 7209 MB memory) -> physical GPU (device: 0, name: NVIDIA GeForce RTX 2070 SUPER, pci bus id: 0000:01:00.0, compute capability: 7.5)\n",
      "2021-11-26 20:05:19.934448: I tensorflow/compiler/jit/xla_gpu_device.cc:99] Not creating XLA devices, tf_xla_enable_xla_devices not set\n"
     ]
    }
   ],
   "source": [
    "# packages\n",
    "\n",
    "import warnings\n",
    "warnings.filterwarnings('ignore')\n",
    "warnings.simplefilter('ignore')\n",
    "import tensorflow as tf\n",
    "from PIL import Image\n",
    "import pandas as pd\n",
    "import numpy as np\n",
    "import matplotlib.pyplot as plt\n",
    "import os\n",
    "from tensorflow import keras\n",
    "import seaborn as sns\n",
    "from numpy.random import seed\n",
    "from tensorflow.keras import backend as K\n",
    "from tensorflow.keras.optimizers import Adam, RMSprop\n",
    "from tensorflow.keras import initializers\n",
    "from tensorflow.keras.models import Model\n",
    "from tensorflow_probability import distributions as tfd\n",
    "from tensorflow.keras.callbacks import EarlyStopping\n",
    "from tensorflow.keras.preprocessing.image import ImageDataGenerator, load_img, img_to_array, array_to_img, save_img\n",
    "from tensorflow.keras import layers\n",
    "from functions.scoreCI import score_ci\n",
    "from tensorflow.keras import regularizers\n",
    "%load_ext autoreload\n",
    "%autoreload 2\n",
    "import glob\n",
    "from functions.vimlts import VimltsLinear,DenseViGauss \n",
    "from functions.sample_bernoulli_nll import sample_bernoulli_nll\n",
    "from functions.logScore import logScore\n",
    "\n",
    "from sklearn import preprocessing\n",
    "from sklearn.metrics import roc_auc_score\n",
    "\n",
    "print(\"Num GPUs Available: \", len(tf.config.experimental.list_physical_devices('GPU')))\n"
   ]
  },
  {
   "cell_type": "code",
   "execution_count": 2,
   "metadata": {},
   "outputs": [],
   "source": [
    "## add resize images and add path to patient\n",
    "dat = pd.read_csv('../thesis/patientData.csv')\n",
    "train_dir = \"../thesis/trainRes/\"\n",
    "dat['path'] = train_dir + dat.image_name + \".jpg\"\n"
   ]
  },
  {
   "cell_type": "code",
   "execution_count": 3,
   "metadata": {},
   "outputs": [
    {
     "name": "stdout",
     "output_type": "stream",
     "text": [
      "(21200,) (5300,) (6626,)\n"
     ]
    }
   ],
   "source": [
    "np.random.seed(3004)\n",
    "idx = np.arange(len(dat))\n",
    "np.random.shuffle(idx)\n",
    "\n",
    "\n",
    "train_idx = idx[:int(len(dat)*0.8)] # 80% training\n",
    "test_idx = idx[int(len(dat)*0.8):] # 20% test\n",
    "valid_idx = train_idx[:int(len(train_idx)*0.2)] # 20% of training as validation\n",
    "train_idx = train_idx[int(len(train_idx)*0.2):]\n",
    "print(train_idx.shape, valid_idx.shape, test_idx.shape)"
   ]
  },
  {
   "cell_type": "code",
   "execution_count": 4,
   "metadata": {},
   "outputs": [
    {
     "name": "stdout",
     "output_type": "stream",
     "text": [
      "(21200, 9) (5300, 9) (6626, 9)\n"
     ]
    }
   ],
   "source": [
    "X_train = dat.iloc[train_idx]\n",
    "X_valid= dat.iloc[valid_idx]\n",
    "X_test= dat.iloc[test_idx]\n",
    "print(X_train.shape, X_valid.shape, X_test.shape)"
   ]
  },
  {
   "cell_type": "code",
   "execution_count": 5,
   "metadata": {},
   "outputs": [
    {
     "name": "stdout",
     "output_type": "stream",
     "text": [
      "(21200, 1) (5300, 1) (6626, 1)\n"
     ]
    }
   ],
   "source": [
    "y_train = dat.iloc[train_idx]\n",
    "y_train = y_train.loc[:, y_train.columns.intersection(['target'])]\n",
    "y_valid= dat.iloc[valid_idx]\n",
    "y_valid = y_valid.loc[:, y_train.columns.intersection(['target'])]\n",
    "y_test= dat.iloc[test_idx]\n",
    "y_test = y_test.loc[:, y_train.columns.intersection(['target'])]\n",
    "print(y_train.shape, y_valid.shape, y_test.shape)"
   ]
  },
  {
   "cell_type": "code",
   "execution_count": 6,
   "metadata": {},
   "outputs": [
    {
     "name": "stdout",
     "output_type": "stream",
     "text": [
      "Train dataset shape: (21200, 128, 128, 3) \tValidation dataset shape: (5300, 128, 128, 3) \\Test dataset shape: (6626, 128, 128, 3)\n"
     ]
    }
   ],
   "source": [
    "# save image path\n",
    "train_files = X_train.path\n",
    "val_files = X_valid.path\n",
    "test_files = X_test.path\n",
    "\n",
    "# img_to_array image als array transformieren\n",
    "train_imgs = [img_to_array(load_img(img)) for img in train_files]\n",
    "validation_imgs = [img_to_array(load_img(img)) for img in val_files]\n",
    "test_imgs = [img_to_array(load_img(img)) for img in test_files]\n",
    "\n",
    "train_imgs = np.array(train_imgs)\n",
    "train_labels = y_train\n",
    "\n",
    "validation_imgs = np.array(validation_imgs)\n",
    "val_labels = y_valid\n",
    "#\n",
    "test_imgs = np.array(test_imgs)\n",
    "test_labels = y_test\n",
    "\n",
    "\n",
    "print('Train dataset shape:', train_imgs.shape, \n",
    "      '\\tValidation dataset shape:', validation_imgs.shape,\n",
    "     '\\Test dataset shape:', test_imgs.shape)"
   ]
  },
  {
   "cell_type": "code",
   "execution_count": 7,
   "metadata": {},
   "outputs": [],
   "source": [
    "#scale pixel zwischen 0 und 1\n",
    "\n",
    "train_imgs_scaled = train_imgs.astype('float32')\n",
    "validation_imgs_scaled  = validation_imgs.astype('float32')\n",
    "test_imgs_scaled  = test_imgs.astype('float32')\n",
    "train_labels = train_labels.astype(\"float32\")\n",
    "val_labels = val_labels.astype(\"float32\")\n",
    "val_labels = val_labels.astype(\"float32\")\n",
    "train_imgs_scaled /= 255\n",
    "validation_imgs_scaled /= 255\n",
    "test_imgs_scaled /= 255\n",
    "\n",
    "#plt.imshow(train_imgs_scaled[0])\n"
   ]
  },
  {
   "cell_type": "markdown",
   "metadata": {},
   "source": [
    "### OOD and augmentation data"
   ]
  },
  {
   "cell_type": "code",
   "execution_count": 8,
   "metadata": {},
   "outputs": [
    {
     "data": {
      "text/plain": [
       "(17, 128, 128, 3)"
      ]
     },
     "execution_count": 8,
     "metadata": {},
     "output_type": "execute_result"
    }
   ],
   "source": [
    "## random images \n",
    "filelist = glob.glob('./oodImages/*.npy')\n",
    "x = [np.array(np.load(fname)) for fname in filelist]\n",
    "randomX = np.asarray(x)\n",
    "oodRandom = randomX.reshape(17,128,128,3)\n",
    "oodRandom.shape"
   ]
  },
  {
   "cell_type": "code",
   "execution_count": 9,
   "metadata": {},
   "outputs": [
    {
     "data": {
      "text/plain": [
       "TensorShape([103, 128, 128, 3])"
      ]
     },
     "execution_count": 9,
     "metadata": {},
     "output_type": "execute_result"
    }
   ],
   "source": [
    "## augmentation images\n",
    "data_augmentation = tf.keras.Sequential([\n",
    "  layers.experimental.preprocessing.RandomRotation(factor=0.9, fill_mode=\"wrap\"),\n",
    "  layers.experimental.preprocessing.RandomTranslation(height_factor=1, width_factor=1, fill_mode=\"reflect\"),\n",
    "  layers.experimental.preprocessing.RandomFlip(\"horizontal_and_vertical\"),\n",
    "])\n",
    "# Add the image to a batch\n",
    "image= test_imgs_scaled[300:403] \n",
    "augmented_image = data_augmentation(image)\n",
    "bright = tf.image.adjust_brightness(augmented_image, 0.2) ##add additionaly brightness \n",
    "bright.shape\n",
    "#plt.imshow(bright[10])\n",
    "#plt.axis(\"off\")"
   ]
  },
  {
   "cell_type": "markdown",
   "metadata": {},
   "source": [
    "### Functions"
   ]
  },
  {
   "cell_type": "code",
   "execution_count": 10,
   "metadata": {},
   "outputs": [],
   "source": [
    "def softplus_inv(y):\n",
    "    return np.log(np.exp(y) - 1)\n",
    "\n",
    "\n",
    "\n",
    "#combine two components\n",
    "def modelOn(X):\n",
    "    added = X.layers[14].output   ## before sigmoid to obtain eta(B)\n",
    "    out = tf.math.sigmoid(added)\n",
    "    model1 = keras.Model(inputs = X.input, outputs = out, name='model_XXX')\n",
    "    return model1 \n",
    "    \n",
    "prior_dist=tfd.Normal(loc=0.,scale=1.)"
   ]
  },
  {
   "cell_type": "markdown",
   "metadata": {},
   "source": [
    "## Gauß-VI last-layer eta Bild"
   ]
  },
  {
   "cell_type": "code",
   "execution_count": 11,
   "metadata": {},
   "outputs": [
    {
     "name": "stdout",
     "output_type": "stream",
     "text": [
      "Model: \"model\"\n",
      "_________________________________________________________________\n",
      "Layer (type)                 Output Shape              Param #   \n",
      "=================================================================\n",
      "inImg (InputLayer)           [(None, 128, 128, 3)]     0         \n",
      "_________________________________________________________________\n",
      "conv2d (Conv2D)              (None, 128, 128, 32)      896       \n",
      "_________________________________________________________________\n",
      "max_pooling2d (MaxPooling2D) (None, 64, 64, 32)        0         \n",
      "_________________________________________________________________\n",
      "conv2d_1 (Conv2D)            (None, 64, 64, 32)        9248      \n",
      "_________________________________________________________________\n",
      "max_pooling2d_1 (MaxPooling2 (None, 32, 32, 32)        0         \n",
      "_________________________________________________________________\n",
      "conv2d_2 (Conv2D)            (None, 32, 32, 64)        18496     \n",
      "_________________________________________________________________\n",
      "max_pooling2d_2 (MaxPooling2 (None, 16, 16, 64)        0         \n",
      "_________________________________________________________________\n",
      "conv2d_3 (Conv2D)            (None, 16, 16, 64)        36928     \n",
      "_________________________________________________________________\n",
      "max_pooling2d_3 (MaxPooling2 (None, 8, 8, 64)          0         \n",
      "_________________________________________________________________\n",
      "conv2d_4 (Conv2D)            (None, 8, 8, 128)         73856     \n",
      "_________________________________________________________________\n",
      "max_pooling2d_4 (MaxPooling2 (None, 4, 4, 128)         0         \n",
      "_________________________________________________________________\n",
      "flatten (Flatten)            (None, 2048)              0         \n",
      "_________________________________________________________________\n",
      "dense (Dense)                (None, 128)               262272    \n",
      "_________________________________________________________________\n",
      "dense_1 (Dense)              (None, 128)               16512     \n",
      "_________________________________________________________________\n",
      "dense_vi_gauss (DenseViGauss (1000, None, 1)           256       \n",
      "=================================================================\n",
      "Total params: 418,464\n",
      "Trainable params: 418,464\n",
      "Non-trainable params: 0\n",
      "_________________________________________________________________\n"
     ]
    }
   ],
   "source": [
    "## Complex shift image\n",
    "from tensorflow.keras import regularizers\n",
    "\n",
    "    \n",
    "in_ = keras.Input(shape = (128,128,3), name = \"inImg\")\n",
    "x = layers.Convolution2D(32, kernel_size=(3, 3), padding = 'same', \n",
    "                             activation = 'tanh')(in_)\n",
    "x = layers.MaxPooling2D(pool_size=(2, 2))(x) \n",
    "x = layers.Convolution2D(32, kernel_size=(3, 3), padding = 'same', \n",
    "                             activation = 'tanh')(x)\n",
    "x = layers.MaxPooling2D(pool_size=(2, 2))(x)\n",
    "x = layers.Convolution2D(64, kernel_size=(3, 3), padding = 'same', \n",
    "                             activation = 'tanh')(x)\n",
    "x = layers.MaxPooling2D(pool_size=(2, 2))(x)\n",
    "x = layers.Convolution2D(64, kernel_size=(3, 3,), padding = 'same', \n",
    "                             activation = 'tanh')(x)\n",
    "x = layers.MaxPooling2D(pool_size=(2, 2))(x)\n",
    "x = layers.Convolution2D(128, kernel_size=(3, 3), padding = 'same', \n",
    "                             activation = 'tanh')(x)\n",
    "x = layers.MaxPooling2D(pool_size=(2, 2))(x)\n",
    "x = layers.Flatten()(x)\n",
    "x = layers.Dense(128, activation = 'tanh',kernel_regularizer=regularizers.l2(0.01), ##numerical stability\n",
    "                activity_regularizer=regularizers.l2(0.01))(x)\n",
    "x = layers.Dense(128, activation = 'tanh',kernel_regularizer=regularizers.l2(0.01),\n",
    "                activity_regularizer=regularizers.l2(0.01))(x)\n",
    "out= DenseViGauss(units=1,\n",
    "                      size= train_imgs_scaled.shape[0],\n",
    "                      activation=tf.keras.activations.linear,\n",
    "                      num_samples=1000,     \n",
    "                      prior_dist=prior_dist)(x)\n",
    "\n",
    "nn_imG = keras.Model (inputs = in_, outputs = out)\n",
    "nn_imG.summary()"
   ]
  },
  {
   "cell_type": "code",
   "execution_count": 12,
   "metadata": {},
   "outputs": [],
   "source": [
    "\n",
    "nn_image = modelOn(nn_imG)\n",
    "nn_image.compile(optimizer=Adam(1e-4), loss=sample_bernoulli_nll, run_eagerly=False)  ##adamle-5"
   ]
  },
  {
   "cell_type": "markdown",
   "metadata": {},
   "source": [
    "#### Train model"
   ]
  },
  {
   "cell_type": "code",
   "execution_count": null,
   "metadata": {},
   "outputs": [],
   "source": [
    "nn_image.compile(optimizer=Adam(1e-4), loss=sample_bernoulli_nll, run_eagerly=False)  ##adamle-5\n",
    "results = nn_image.fit(x = train_imgs_scaled, \n",
    "                        y = train_labels,\n",
    "                        validation_data = (validation_imgs_scaled, val_labels),\n",
    "                        batch_size=256,\n",
    "                        epochs = 100,\n",
    "                        verbose= True)    "
   ]
  },
  {
   "cell_type": "code",
   "execution_count": 15,
   "metadata": {},
   "outputs": [],
   "source": [
    "# save results\n",
    "#dat = pd.DataFrame({'train_loss': results.history['loss'], \n",
    " #                      'test_loss': results.history['val_loss']})\n",
    "#dat.to_csv('../thesis/performance/gaussVI/history.csv', index=False)\n",
    "\n",
    "### save model weights whole model\n",
    "#nn_image.save_weights(\"../thesis/models/CNNGaus\", save_format =\"tf\")\n",
    "### save model weights eta\n",
    "#nn_imG.save_weights(\"../thesis/models/CNNGaussEta\", save_format =\"tf\")\n"
   ]
  },
  {
   "cell_type": "markdown",
   "metadata": {},
   "source": [
    "#### Load model weights"
   ]
  },
  {
   "cell_type": "code",
   "execution_count": 13,
   "metadata": {},
   "outputs": [
    {
     "data": {
      "text/plain": [
       "<tensorflow.python.training.tracking.util.CheckpointLoadStatus at 0x7f28c06cea90>"
      ]
     },
     "execution_count": 13,
     "metadata": {},
     "output_type": "execute_result"
    }
   ],
   "source": [
    "### recreate Model eta\n",
    "nn_imG.compile(optimizer=RMSprop(), loss=sample_bernoulli_nll, run_eagerly=False,metrics=[sample_bernoulli_nll])\n",
    "nn_imG.load_weights(\"../thesis/models/CNNGaussEta\")\n",
    "\n",
    "### recreate whole Model\n",
    "nn_image.compile(optimizer=RMSprop(), loss=sample_bernoulli_nll, run_eagerly=False,metrics=[sample_bernoulli_nll])\n",
    "nn_image.load_weights(\"../thesis/models/CNNGaus\")"
   ]
  },
  {
   "cell_type": "code",
   "execution_count": 15,
   "metadata": {},
   "outputs": [
    {
     "data": {
      "text/plain": [
       "<matplotlib.legend.Legend at 0x7f98b06b0670>"
      ]
     },
     "execution_count": 15,
     "metadata": {},
     "output_type": "execute_result"
    },
    {
     "data": {
      "image/png": "[encoded data removed]",
      "text/plain": [
       "<Figure size 360x360 with 1 Axes>"
      ]
     },
     "metadata": {
      "needs_background": "light"
     },
     "output_type": "display_data"
    }
   ],
   "source": [
    "\n",
    "plt.figure(figsize=(5,5))\n",
    "loss0 = pd.read_csv('../thesis/performance/gaussVI/history.csv')\n",
    "plt.plot(loss0['train_loss'],label=\"Train Loss\")\n",
    "plt.plot(loss0['test_loss'], label=\"Validation Loss\")\n",
    "plt.legend()\n",
    "plt.xlabel(\"epochs\")\n",
    "plt.ylabel(\"loss\")\n",
    "plt.ylim(0.075,0.2)\n",
    "plt.yticks(np.arange(0.075, 0.2, 0.005))\n",
    "plt.xticks(np.arange(20, 110, 10))\n",
    "plt.xlim(20,110)\n",
    "plt.legend(fontsize='x-small')"
   ]
  },
  {
   "cell_type": "markdown",
   "metadata": {},
   "source": [
    "## Performance"
   ]
  },
  {
   "cell_type": "code",
   "execution_count": 15,
   "metadata": {},
   "outputs": [
    {
     "name": "stderr",
     "output_type": "stream",
     "text": [
      "2021-11-19 17:10:09.071107: W tensorflow/core/framework/cpu_allocator_impl.cc:80] Allocation of 1302724608 exceeds 10% of free system memory.\n",
      "2021-11-19 17:10:09.225977: I tensorflow/compiler/mlir/mlir_graph_optimization_pass.cc:116] None of the MLIR optimization passes are enabled (registered 2)\n",
      "2021-11-19 17:10:09.244073: I tensorflow/core/platform/profile_utils/cpu_utils.cc:112] CPU Frequency: 2899885000 Hz\n",
      "2021-11-19 17:10:09.355831: I tensorflow/stream_executor/platform/default/dso_loader.cc:49] Successfully opened dynamic library libcublas.so.10\n",
      "2021-11-19 17:10:09.488580: I tensorflow/stream_executor/platform/default/dso_loader.cc:49] Successfully opened dynamic library libcudnn.so.7\n",
      "2021-11-19 17:10:10.406137: W tensorflow/stream_executor/gpu/asm_compiler.cc:63] Running ptxas --version returned 256\n",
      "2021-11-19 17:10:10.583515: W tensorflow/stream_executor/gpu/redzone_allocator.cc:314] Internal: ptxas exited with non-zero error code 256, output: \n",
      "Relying on driver to perform ptx compilation. \n",
      "Modify $PATH to customize ptxas location.\n",
      "This message will be only logged once.\n"
     ]
    }
   ],
   "source": [
    "y_pred = nn_image.predict(test_imgs_scaled,batch_size =1)\n",
    "\n",
    "samples = y_pred.reshape(-1, 1000) ###every datapoint one sample\n",
    "meanpred = samples.mean(axis=1)  ###mean samples \n",
    "predictions=meanpred.reshape(6626,1)"
   ]
  },
  {
   "cell_type": "code",
   "execution_count": 16,
   "metadata": {},
   "outputs": [
    {
     "data": {
      "text/plain": [
       "-0.07690533584516547"
      ]
     },
     "execution_count": 16,
     "metadata": {},
     "output_type": "execute_result"
    }
   ],
   "source": [
    "logScore(test_labels,predictions)"
   ]
  },
  {
   "cell_type": "code",
   "execution_count": 19,
   "metadata": {},
   "outputs": [
    {
     "name": "stdout",
     "output_type": "stream",
     "text": [
      "AUC=0.82, 95% CI: 0.79-0.86\n"
     ]
    }
   ],
   "source": [
    "score, ci_lower, ci_upper, scores =score_ci(test_labels, meanpred, score_fun=roc_auc_score)\n",
    "print(\"AUC={:.2f}, 95% CI: {:.2f}-{:.2f}\".format(score, ci_lower, ci_upper))\n",
    "ciAuc= \"{:.2f}-{:.2f}\".format(ci_lower, ci_upper)"
   ]
  },
  {
   "cell_type": "markdown",
   "metadata": {},
   "source": [
    "### Prediction on OOD and testdata (ID) eta(B) "
   ]
  },
  {
   "cell_type": "code",
   "execution_count": 14,
   "metadata": {},
   "outputs": [
    {
     "name": "stderr",
     "output_type": "stream",
     "text": [
      "2021-11-26 20:05:34.379720: I tensorflow/compiler/mlir/mlir_graph_optimization_pass.cc:116] None of the MLIR optimization passes are enabled (registered 2)\n",
      "2021-11-26 20:05:34.400127: I tensorflow/core/platform/profile_utils/cpu_utils.cc:112] CPU Frequency: 2899885000 Hz\n",
      "2021-11-26 20:05:34.502065: I tensorflow/stream_executor/platform/default/dso_loader.cc:49] Successfully opened dynamic library libcublas.so.10\n",
      "2021-11-26 20:05:34.609991: I tensorflow/stream_executor/platform/default/dso_loader.cc:49] Successfully opened dynamic library libcudnn.so.7\n",
      "2021-11-26 20:05:35.647202: W tensorflow/stream_executor/gpu/asm_compiler.cc:63] Running ptxas --version returned 256\n",
      "2021-11-26 20:05:35.800396: W tensorflow/stream_executor/gpu/redzone_allocator.cc:314] Internal: ptxas exited with non-zero error code 256, output: \n",
      "Relying on driver to perform ptx compilation. \n",
      "Modify $PATH to customize ptxas location.\n",
      "This message will be only logged once.\n"
     ]
    }
   ],
   "source": [
    "\n",
    "##eta with random images\n",
    "Gy_predTabOOD = nn_imG.predict(oodRandom,batch_size =1)\n",
    "GsamplesImgOOD = Gy_predTabOOD.reshape(-1, 1000) ###every datapoint one sample\n",
    "GmeanpredImgOOD = GsamplesImgOOD.mean(axis=1)  ###mean samples \n",
    "GpredictionsImgOOD=GmeanpredImgOOD.reshape(17,1)\n",
    "## IQR Range\n",
    "Gy_predictions_25ImgOOD=np.quantile(GsamplesImgOOD,0.25,axis=1)  \n",
    "Gy_predictions_75IMGOOD=np.quantile(GsamplesImgOOD,0.75,axis=1)\n",
    "\n",
    "##dataframe\n",
    "GImgCenterOOD = [sublist[-1] for sublist in GpredictionsImgOOD]\n",
    "GImgLowOOD = [sublist[-1] for sublist in Gy_predictions_25ImgOOD.reshape(17,1)]\n",
    "GImgHighOOD = [sublist[-1] for sublist in Gy_predictions_75IMGOOD.reshape(17,1)]\n",
    "##range of IQR\n",
    "GImgwidthOOD= [x1 - x2 for (x1, x2) in zip(GImgHighOOD, GImgLowOOD)]\n",
    "\n",
    "##eta augmented images\n",
    "Gy_predTabOODA = nn_imG.predict(bright,batch_size =1)\n",
    "GsamplesImgOODA = Gy_predTabOODA.reshape(-1, 1000) ###every datapoint one sample\n",
    "GmeanpredImgOODA = GsamplesImgOODA.mean(axis=1)  ###mean samples \n",
    "GpredictionsImgOODA=GmeanpredImgOODA.reshape(103,1)\n",
    "## IQR Range\n",
    "Gy_predictions_25ImgOODA=np.quantile(GsamplesImgOODA,0.25,axis=1)\n",
    "Gy_predictions_75IMGOODA=np.quantile(GsamplesImgOODA,0.75,axis=1)\n",
    "\n",
    "##dataframe\n",
    "GImgCenterOODA = [sublist[-1] for sublist in GpredictionsImgOODA]\n",
    "GImgLowOODA = [sublist[-1] for sublist in Gy_predictions_25ImgOODA.reshape(103,1)]\n",
    "GImgHighOODA = [sublist[-1] for sublist in Gy_predictions_75IMGOODA.reshape(103,1)]\n",
    "##range of IQR\n",
    "GImgwidthOODA= [x1 - x2 for (x1, x2) in zip(GImgHighOODA, GImgLowOODA)]"
   ]
  },
  {
   "cell_type": "code",
   "execution_count": 15,
   "metadata": {},
   "outputs": [],
   "source": [
    "### Prediction on Testdata\n",
    "\n",
    "Gy_pred = nn_imG.predict(test_imgs_scaled[0:120],batch_size =1)\n",
    "Gsamples = Gy_pred.reshape(-1, 1000) ###every datapoint one sample\n",
    "Gmeanpred = Gsamples.mean(axis=1)  ###mean samples \n",
    "Gpredictions=Gmeanpred.reshape(120,1)\n",
    "\n",
    "Gy_predictions_25=np.quantile(Gsamples,0.25,axis=1)\n",
    "Gy_predictions_75=np.quantile(Gsamples,0.75,axis=1)\n",
    "\n",
    "GImgCenter = [sublist[-1] for sublist in Gmeanpred.reshape(120,1)]\n",
    "GImgLow = [sublist[-1] for sublist in Gy_predictions_25.reshape(120,1)]\n",
    "GImgHigh = [sublist[-1] for sublist in Gy_predictions_75.reshape(120,1)]\n",
    "GImgwidth= [x1 - x2 for (x1, x2) in zip(GImgHigh, GImgLow)]\n",
    "\n",
    "### Testdata\n",
    "Gimagedata = pd.DataFrame(\n",
    "    {'Gwidth': GImgwidth,\n",
    "     'Gcenter': GImgCenter\n",
    "    })\n",
    "\n",
    "###Out of distribution\n",
    "\n",
    "GimagadataOOD = pd.DataFrame(\n",
    "    {'Gwidth': GImgwidthOOD,\n",
    "     'Gcenter': GImgCenterOOD\n",
    "    })\n",
    "\n",
    "###Out of distribution\n",
    "\n",
    "GimagadataOODA = pd.DataFrame(\n",
    "    {'Gwidth': GImgwidthOODA,\n",
    "     'Gcenter': GImgCenterOODA\n",
    "    })"
   ]
  },
  {
   "cell_type": "code",
   "execution_count": 77,
   "metadata": {},
   "outputs": [
    {
     "data": {
      "text/plain": [
       "<matplotlib.legend.Legend at 0x7f988471d160>"
      ]
     },
     "execution_count": 77,
     "metadata": {},
     "output_type": "execute_result"
    },
    {
     "data": {
      "image/png": "[encoded data removed]",
      "text/plain": [
       "<Figure size 720x360 with 1 Axes>"
      ]
     },
     "metadata": {
      "needs_background": "light"
     },
     "output_type": "display_data"
    }
   ],
   "source": [
    "fig = plt.figure(figsize=(10,5))\n",
    "plt.rcParams.update(({'font.size': 15}))\n",
    "fig.add_subplot(121)\n",
    "plt.scatter(GimagadataOODA[\"Gcenter\"],GimagadataOODA[\"Gwidth\"],label=\"Gaussian-VI\\nOOD (modified)\",s=20,alpha=0.3, color=\"dodgerblue\")\n",
    "plt.scatter(GimagadataOOD[\"Gcenter\"],GimagadataOOD[\"Gwidth\"],label=\"Gaussian-VI\\nOOD (random)\",s=20,alpha=0.7,color=\"darkblue\")\n",
    "plt.scatter(Gimagedata[\"Gcenter\"],Gimagedata[\"Gwidth\"],label=\"Gaussian-VI ID\",alpha=0.3,s=20,color=\"orange\")\n",
    "plt.ylabel(\"IQR\")\n",
    "plt.xlabel(\"mean $\\\\vartheta(B)$\")\n",
    "plt.yticks(np.arange(0, 6, 1))\n",
    "plt.xticks(np.arange(-20, 10, 5))\n",
    "plt.legend(fontsize=13)\n",
    "#plt.savefig(\"./plots/uncertainty/imagegausTMVIcompare2.pdf\")\n"
   ]
  },
  {
   "cell_type": "markdown",
   "metadata": {},
   "source": [
    "## CNN Last layer TMVI"
   ]
  },
  {
   "cell_type": "code",
   "execution_count": 19,
   "metadata": {},
   "outputs": [],
   "source": [
    "\n",
    "### Kein Bias Bei Linear Shift\n",
    "M=50\n",
    "theta_start = -3  ##Range Gauss-VI\n",
    "theta_stop = 3\n",
    "num_samples=1000\n",
    "\n",
    "\n",
    "vimlts_initializers=dict(kernel_init_alpha_w = initializers.Constant(1.),\n",
    "                             kernel_init_beta_w = initializers.Constant(0.),\n",
    "                             kernel_init_alpha_z = initializers.Constant(1.),\n",
    "                             kernel_init_beta_z = initializers.Constant(0.),\n",
    "                             kernel_init_thetas = [initializers.Constant(theta_start)] +\n",
    "                              [initializers.Constant(softplus_inv((theta_stop-theta_start)/(M))) for i in range(M)])                 "
   ]
  },
  {
   "cell_type": "code",
   "execution_count": 20,
   "metadata": {},
   "outputs": [
    {
     "name": "stdout",
     "output_type": "stream",
     "text": [
      "WARNING:tensorflow:AutoGraph could not transform <bound method VimltsLinear.call of <functions.vimlts.VimltsLinear object at 0x7f28db73ea00>> and will run it as-is.\n",
      "Please report this to the TensorFlow team. When filing the bug, set the verbosity to 10 (on Linux, `export AUTOGRAPH_VERBOSITY=10`) and attach the full output.\n",
      "Cause: module 'gast' has no attribute 'Index'\n",
      "To silence this warning, decorate the function with @tf.autograph.experimental.do_not_convert\n",
      "WARNING: AutoGraph could not transform <bound method VimltsLinear.call of <functions.vimlts.VimltsLinear object at 0x7f28db73ea00>> and will run it as-is.\n",
      "Please report this to the TensorFlow team. When filing the bug, set the verbosity to 10 (on Linux, `export AUTOGRAPH_VERBOSITY=10`) and attach the full output.\n",
      "Cause: module 'gast' has no attribute 'Index'\n",
      "To silence this warning, decorate the function with @tf.autograph.experimental.do_not_convert\n",
      "Model: \"model_1\"\n",
      "_________________________________________________________________\n",
      "Layer (type)                 Output Shape              Param #   \n",
      "=================================================================\n",
      "inImg (InputLayer)           [(None, 128, 128, 3)]     0         \n",
      "_________________________________________________________________\n",
      "conv2d_10 (Conv2D)           (None, 128, 128, 32)      896       \n",
      "_________________________________________________________________\n",
      "max_pooling2d_10 (MaxPooling (None, 64, 64, 32)        0         \n",
      "_________________________________________________________________\n",
      "conv2d_11 (Conv2D)           (None, 64, 64, 32)        9248      \n",
      "_________________________________________________________________\n",
      "max_pooling2d_11 (MaxPooling (None, 32, 32, 32)        0         \n",
      "_________________________________________________________________\n",
      "conv2d_12 (Conv2D)           (None, 32, 32, 64)        18496     \n",
      "_________________________________________________________________\n",
      "max_pooling2d_12 (MaxPooling (None, 16, 16, 64)        0         \n",
      "_________________________________________________________________\n",
      "conv2d_13 (Conv2D)           (None, 16, 16, 64)        36928     \n",
      "_________________________________________________________________\n",
      "max_pooling2d_13 (MaxPooling (None, 8, 8, 64)          0         \n",
      "_________________________________________________________________\n",
      "conv2d_14 (Conv2D)           (None, 8, 8, 128)         73856     \n",
      "_________________________________________________________________\n",
      "max_pooling2d_14 (MaxPooling (None, 4, 4, 128)         0         \n",
      "_________________________________________________________________\n",
      "flatten_2 (Flatten)          (None, 2048)              0         \n",
      "_________________________________________________________________\n",
      "dense_4 (Dense)              (None, 128)               262272    \n",
      "_________________________________________________________________\n",
      "dense_5 (Dense)              (None, 128)               16512     \n",
      "_________________________________________________________________\n",
      "vimlts_linear (VimltsLinear) (1000, None, 1)           7040      \n",
      "=================================================================\n",
      "Total params: 425,248\n",
      "Trainable params: 425,248\n",
      "Non-trainable params: 0\n",
      "_________________________________________________________________\n"
     ]
    }
   ],
   "source": [
    "in_ = keras.Input(shape = (128,128,3), name = \"inImg\")\n",
    "x = layers.Convolution2D(32, kernel_size=(3, 3), padding = 'same', \n",
    "                             activation = 'tanh')(in_)\n",
    "x = layers.MaxPooling2D(pool_size=(2, 2))(x) \n",
    "x = layers.Convolution2D(32, kernel_size=(3, 3), padding = 'same', \n",
    "                             activation = 'tanh')(x)\n",
    "x = layers.MaxPooling2D(pool_size=(2, 2))(x)\n",
    "x = layers.Convolution2D(64, kernel_size=(3, 3), padding = 'same', \n",
    "                             activation = 'tanh')(x)\n",
    "x = layers.MaxPooling2D(pool_size=(2, 2))(x)\n",
    "x = layers.Convolution2D(64, kernel_size=(3, 3,), padding = 'same', \n",
    "                             activation = 'tanh')(x)\n",
    "x = layers.MaxPooling2D(pool_size=(2, 2))(x)\n",
    "x = layers.Convolution2D(128, kernel_size=(3, 3), padding = 'same', \n",
    "                             activation = 'tanh')(x)\n",
    "x = layers.MaxPooling2D(pool_size=(2, 2))(x)\n",
    "x = layers.Flatten()(x)\n",
    "x = layers.Dense(128, activation = 'tanh',kernel_regularizer=regularizers.l2(0.01),\n",
    "                activity_regularizer=regularizers.l2(0.01))(x)\n",
    "x = layers.Dense(128, activation = 'tanh',kernel_regularizer=regularizers.l2(0.01),\n",
    "                activity_regularizer=regularizers.l2(0.01))(x)\n",
    "eta = VimltsLinear(units=1,\n",
    "                      activation=tf.keras.activations.linear,    ###Linear\n",
    "                      num_samples=num_samples,\n",
    "                      size = train_imgs_scaled.shape[0],\n",
    "                      **vimlts_initializers,\n",
    "                      prior_dist=prior_dist)(x)\n",
    "nn_im = keras.Model (inputs = in_, outputs = eta)\n",
    "nn_im.summary()"
   ]
  },
  {
   "cell_type": "code",
   "execution_count": 21,
   "metadata": {},
   "outputs": [],
   "source": [
    "\n",
    "nn_imageTMVI = modelOn(nn_im)\n",
    "nn_imageTMVI.compile(optimizer=Adam(1e-5), loss=sample_bernoulli_nll, run_eagerly=False)  ##adamle-5"
   ]
  },
  {
   "cell_type": "markdown",
   "metadata": {},
   "source": [
    "#### Train model"
   ]
  },
  {
   "cell_type": "code",
   "execution_count": null,
   "metadata": {},
   "outputs": [],
   "source": [
    "results = nn_imageTMVI.fit(x = train_imgs_scaled, \n",
    "                        y = train_labels,\n",
    "                        validation_data = (validation_imgs_scaled, val_labels),\n",
    "                        batch_size=256,\n",
    "                        epochs = 250, ##250\n",
    "                        verbose= True)  "
   ]
  },
  {
   "cell_type": "code",
   "execution_count": null,
   "metadata": {},
   "outputs": [],
   "source": [
    "# save results\n",
    "#dat = pd.DataFrame({'train_loss': results.history['loss'], \n",
    "                     #   'test_loss': results.history['val_loss']})\n",
    "#dat.to_csv('../thesis/performance/imageTMVI/history.csv', index=False)\n",
    "\n",
    "#### save model weights only eta\n",
    "#nn_im.save_weights(\"../thesis/models/CNNLastLayerTMVI\", save_format =\"tf\")\n",
    "#### save model weights whole model\n",
    "#nn_imageTMVI.save_weights(\"../thesis/models/CNNLastLayerTMVIWhole\", save_format =\"tf\")"
   ]
  },
  {
   "cell_type": "code",
   "execution_count": 32,
   "metadata": {},
   "outputs": [
    {
     "data": {
      "text/plain": [
       "<matplotlib.legend.Legend at 0x7f18941378e0>"
      ]
     },
     "execution_count": 32,
     "metadata": {},
     "output_type": "execute_result"
    },
    {
     "data": {
      "image/png": "[encoded data removed]",
      "text/plain": [
       "<Figure size 720x432 with 1 Axes>"
      ]
     },
     "metadata": {
      "needs_background": "light"
     },
     "output_type": "display_data"
    }
   ],
   "source": [
    "loss1 = pd.read_csv('../thesis/performance/imageTMVI/history.csv')\n",
    "plt.figure(figsize=(10,6))\n",
    "plt.rcParams.update(({'font.size': 16}))\n",
    "plt.plot(loss1['train_loss'],label=\"Train Loss\")\n",
    "plt.plot(loss1['test_loss'], label=\"Validation Loss\")\n",
    "plt.legend()\n",
    "\n",
    "plt.xlabel(\"epochs\")\n",
    "plt.ylabel(\"loss\")\n",
    "\n",
    "\n",
    "plt.legend(fontsize='x-small')\n",
    "#plt.yscale('log')"
   ]
  },
  {
   "cell_type": "code",
   "execution_count": 22,
   "metadata": {},
   "outputs": [
    {
     "data": {
      "text/plain": [
       "<tensorflow.python.training.tracking.util.CheckpointLoadStatus at 0x7f28c06d18b0>"
      ]
     },
     "execution_count": 22,
     "metadata": {},
     "output_type": "execute_result"
    }
   ],
   "source": [
    "### recreate Model eta\n",
    "nn_im.compile(optimizer=RMSprop(), loss=sample_bernoulli_nll, run_eagerly=False,metrics=[sample_bernoulli_nll])\n",
    "nn_im.load_weights(\"../thesis/models/CNNLastLayerTMVI\")\n",
    "\n",
    "### recreate whole Model\n",
    "nn_imageTMVI.compile(optimizer=RMSprop(), loss=sample_bernoulli_nll, run_eagerly=False,metrics=[sample_bernoulli_nll])\n",
    "#nn_im.fit(x =train_imgs_scaled,y = train_labels, verbose=True)\n",
    "### load the state of the old model\n",
    "nn_imageTMVI.load_weights(\"../thesis/models/CNNLastLayerTMVIWhole\")"
   ]
  },
  {
   "cell_type": "markdown",
   "metadata": {},
   "source": [
    "## Performance"
   ]
  },
  {
   "cell_type": "code",
   "execution_count": 40,
   "metadata": {},
   "outputs": [
    {
     "name": "stderr",
     "output_type": "stream",
     "text": [
      "2021-11-19 12:13:17.948693: W tensorflow/core/framework/cpu_allocator_impl.cc:80] Allocation of 1302724608 exceeds 10% of free system memory.\n"
     ]
    }
   ],
   "source": [
    "y_pred = nn_imageTMVI.predict(test_imgs_scaled,batch_size =1)\n",
    "samples = y_pred.reshape(-1, 1000) ###every datapoint one sample\n",
    "meanpred = samples.mean(axis=1)  ###mean samples \n",
    "predictions=meanpred.reshape(6626,1)"
   ]
  },
  {
   "cell_type": "code",
   "execution_count": 41,
   "metadata": {},
   "outputs": [
    {
     "data": {
      "text/plain": [
       "-0.07636242000345499"
      ]
     },
     "execution_count": 41,
     "metadata": {},
     "output_type": "execute_result"
    }
   ],
   "source": [
    "# logscore\n",
    "logScore(test_labels,predictions)"
   ]
  },
  {
   "cell_type": "code",
   "execution_count": 42,
   "metadata": {},
   "outputs": [
    {
     "name": "stdout",
     "output_type": "stream",
     "text": [
      "AUC=0.83, 95% CI: 0.80-0.86\n"
     ]
    }
   ],
   "source": [
    "# AUC\n",
    "score, ci_lower, ci_upper, scores =score_ci(test_labels, meanpred, score_fun=roc_auc_score)\n",
    "print(\"AUC={:.2f}, 95% CI: {:.2f}-{:.2f}\".format(score, ci_lower, ci_upper))\n",
    "ciAuc= \"{:.2f}-{:.2f}\".format(ci_lower, ci_upper)"
   ]
  },
  {
   "cell_type": "markdown",
   "metadata": {},
   "source": [
    "## Posterior for 1, 2 images"
   ]
  },
  {
   "cell_type": "code",
   "execution_count": 82,
   "metadata": {},
   "outputs": [
    {
     "data": {
      "image/png": "[encoded data removed]",
      "text/plain": [
       "<Figure size 864x360 with 2 Axes>"
      ]
     },
     "metadata": {
      "needs_background": "light"
     },
     "output_type": "display_data"
    }
   ],
   "source": [
    "fig =plt.figure(figsize=(12,5))\n",
    "plt.rcParams.update(({'font.size': 16}))\n",
    "plt.subplot(121)\n",
    "y_pred = nn_im.predict(test_imgs_scaled[8:9],batch_size =1)\n",
    "flat_list = [item for sublist in y_pred for item in sublist]\n",
    "flat_list2 =[item for sublist in flat_list for item in sublist]\n",
    "sns.kdeplot(flat_list2,label=\"TM-VI\")\n",
    "\n",
    "y_pred = nn_imG.predict(test_imgs_scaled[8:9],batch_size =1)\n",
    "flat_list = [item for sublist in y_pred for item in sublist]\n",
    "flat_list2 =[item for sublist in flat_list for item in sublist]\n",
    "sns.kdeplot(flat_list2, label=\"Gaussian-VI\")\n",
    "plt.yticks(np.arange(0, 0.9, 0.1))\n",
    "plt.xticks(np.arange(-10, 2, 2))\n",
    "plt.xlabel(\"$\\\\vartheta(B)$\")\n",
    "plt.ylabel(\"$p(\\\\vartheta(B)|D)$\")\n",
    "\n",
    "plt.legend(fontsize=12)\n",
    "plt.subplot(122)\n",
    "y_pred = nn_im.predict(test_imgs_scaled[7:8],batch_size =1)\n",
    "flat_list = [item for sublist in y_pred for item in sublist]\n",
    "flat_list2 =[item for sublist in flat_list for item in sublist]\n",
    "sns.kdeplot(flat_list2,label=\"TM-VI\")\n",
    "\n",
    "y_pred = nn_imG.predict(test_imgs_scaled[7:8],batch_size =1)\n",
    "flat_list = [item for sublist in y_pred for item in sublist]\n",
    "flat_list2 =[item for sublist in flat_list for item in sublist]\n",
    "sns.kdeplot(flat_list2, label=\"Gaussian-VI\")\n",
    "plt.xlabel(\"$\\\\vartheta(B)$\")\n",
    "plt.yticks(np.arange(0, 0.9, 0.1))\n",
    "plt.xticks(np.arange(-10, 2, 2))\n",
    "plt.ylabel(\"$p(\\\\vartheta(B)|D)$\")\n",
    "plt.legend(fontsize=12)\n",
    "fig.tight_layout(pad=1.5)\n",
    "\n",
    "#plt.savefig('./plots/uncertainty/imagePosteriorExamples.pdf')\n",
    "# plt.show()"
   ]
  },
  {
   "cell_type": "markdown",
   "metadata": {},
   "source": [
    "## OOD "
   ]
  },
  {
   "cell_type": "code",
   "execution_count": 23,
   "metadata": {},
   "outputs": [],
   "source": [
    "###eta\n",
    "y_predTabOOD = nn_im.predict(oodRandom,batch_size =1)\n",
    "samplesImgOOD = y_predTabOOD.reshape(-1, 1000) ###every datapoint one sample\n",
    "meanpredImgOOD = samplesImgOOD.mean(axis=1)  ###mean samples \n",
    "predictionsImgOOD=meanpredImgOOD.reshape(17,1)\n",
    "##IQR \n",
    "y_predictions_25ImgOOD=np.quantile(samplesImgOOD,0.25,axis=1)\n",
    "y_predictions_75IMGOOD=np.quantile(samplesImgOOD,0.75,axis=1)\n",
    "\n",
    "\n",
    "##dataframe\n",
    "ImgCenterOOD = [sublist[-1] for sublist in predictionsImgOOD]\n",
    "ImgLowOOD = [sublist[-1] for sublist in y_predictions_25ImgOOD.reshape(17,1)]\n",
    "ImgHighOOD = [sublist[-1] for sublist in y_predictions_75IMGOOD.reshape(17,1)]\n",
    "## IQR range\n",
    "ImgwidthOOD= [x1 - x2 for (x1, x2) in zip(ImgHighOOD, ImgLowOOD)]\n",
    "\n",
    "\n",
    "###eta\n",
    "y_predTabOODA = nn_im.predict(bright,batch_size =1)\n",
    "samplesImgOODA = y_predTabOODA.reshape(-1, 1000) ###every datapoint one sample\n",
    "meanpredImgOODA = samplesImgOODA.mean(axis=1)  ###mean samples \n",
    "predictionsImgOODA=meanpredImgOODA.reshape(103,1)\n",
    "##IQR \n",
    "y_predictions_25ImgOODA=np.quantile(samplesImgOODA,0.25,axis=1)\n",
    "y_predictions_75IMGOODA=np.quantile(samplesImgOODA,0.75,axis=1)\n",
    "##dataframe\n",
    "ImgCenterOODA = [sublist[-1] for sublist in predictionsImgOODA]\n",
    "ImgLowOODA = [sublist[-1] for sublist in y_predictions_25ImgOODA.reshape(103,1)]\n",
    "ImgHighOODA = [sublist[-1] for sublist in y_predictions_75IMGOODA.reshape(103,1)]\n",
    "##IQR range\n",
    "ImgwidthOODA= [x1 - x2 for (x1, x2) in zip(ImgHighOODA, ImgLowOODA)]"
   ]
  },
  {
   "cell_type": "code",
   "execution_count": 24,
   "metadata": {},
   "outputs": [],
   "source": [
    "###vorbereitung image\n",
    "\n",
    "\n",
    "y_pred = nn_im.predict(test_imgs_scaled[0:120],batch_size =1)\n",
    "samples = y_pred.reshape(-1, 1000) ###every datapoint one sample\n",
    "meanpred = samples.mean(axis=1)  ###mean samples \n",
    "predictions=meanpred.reshape(120,1)\n",
    "\n",
    "y_predictions_25=np.quantile(samples,0.25,axis=1)\n",
    "y_predictions_75=np.quantile(samples,0.75,axis=1)\n",
    "\n",
    "ImgCenter = [sublist[-1] for sublist in meanpred.reshape(120,1)]\n",
    "ImgLow = [sublist[-1] for sublist in y_predictions_25.reshape(120,1)]\n",
    "ImgHigh = [sublist[-1] for sublist in y_predictions_75.reshape(120,1)]\n",
    "Imgwidth= [x1 - x2 for (x1, x2) in zip(ImgHigh, ImgLow)]\n",
    "\n",
    "imagedata = pd.DataFrame(\n",
    "    {'width': Imgwidth,\n",
    "     'center': ImgCenter\n",
    "    })\n",
    "\n",
    "###Out of distribution\n",
    "\n",
    "imagadataOOD = pd.DataFrame(\n",
    "    {'width': ImgwidthOOD,\n",
    "     'center': ImgCenterOOD\n",
    "    })\n",
    "\n",
    "###Out of distribution\n",
    "\n",
    "imagadataOODA = pd.DataFrame(\n",
    "    {'width': ImgwidthOODA,\n",
    "     'center': ImgCenterOODA\n",
    "    })"
   ]
  },
  {
   "cell_type": "code",
   "execution_count": 29,
   "metadata": {},
   "outputs": [
    {
     "data": {
      "image/png": "[encoded data removed]",
      "text/plain": [
       "<Figure size 1440x576 with 2 Axes>"
      ]
     },
     "metadata": {
      "needs_background": "light"
     },
     "output_type": "display_data"
    }
   ],
   "source": [
    "fig = plt.figure(figsize=(20,8))\n",
    "\n",
    "plt.rcParams.update(({'font.size': 30}))\n",
    "\n",
    "\n",
    "\n",
    "fig.add_subplot(121)\n",
    "plt.scatter(imagadataOODA[\"center\"],imagadataOODA[\"width\"],alpha=0.3,s=25, label= \"OOD (modified)\",color=\"dodgerblue\")\n",
    "plt.scatter(imagadataOOD[\"center\"],imagadataOOD[\"width\"],alpha=0.7,s=25, label= \"OOD (random)\",color=\"darkblue\")\n",
    "plt.scatter(imagedata[\"center\"],imagedata[\"width\"],label=\"ID\",alpha=0.3,s=25,color=\"orange\")\n",
    "plt.text(-22, 5.5,\"A\", \n",
    "            size=30, weight='bold')\n",
    "plt.ylabel(\"IQR\")\n",
    "plt.xlabel(\"mean\")\n",
    "plt.title(\"$\\\\vartheta(B)$ TM-VI\",fontsize=30)\n",
    "plt.yticks(np.arange(0, 6, 1))\n",
    "plt.xticks(np.arange(-20, 10, 5))\n",
    "plt.legend(fontsize=25)\n",
    "\n",
    "\n",
    "\n",
    "fig.add_subplot(122)\n",
    "plt.scatter(GimagadataOODA[\"Gcenter\"],GimagadataOODA[\"Gwidth\"],label=\"OOD (modified)\",s=25,alpha=0.3, color=\"dodgerblue\")\n",
    "plt.scatter(GimagadataOOD[\"Gcenter\"],GimagadataOOD[\"Gwidth\"],label=\"OOD (random)\",s=25,alpha=0.7,color=\"darkblue\")\n",
    "plt.scatter(Gimagedata[\"Gcenter\"],Gimagedata[\"Gwidth\"],label=\"ID\",alpha=0.3,s=25,color=\"orange\")\n",
    "plt.text(-22, 5.5,\"B\", \n",
    "            size=30, weight='bold')\n",
    "plt.ylabel(\"IQR\")\n",
    "plt.xlabel(\"mean\")\n",
    "plt.title(\"$\\\\vartheta(B)$ Gaussian-VI\",fontsize=30)\n",
    "plt.yticks(np.arange(0, 6, 1))\n",
    "plt.xticks(np.arange(-20, 10, 5))\n",
    "plt.legend(fontsize=25)\n",
    "\n",
    "\n",
    "\n",
    "fig.tight_layout(pad=1.5)\n",
    "\n",
    "#plt.savefig(\"../thesis/plots/uncertainty/imagegausTMVIcompare1.pdf\")"
   ]
  },
  {
   "cell_type": "code",
   "execution_count": 2,
   "metadata": {},
   "outputs": [
    {
     "data": {
      "application/json": {
       "Software versions": [
        {
         "module": "Python",
         "version": "3.9.7 64bit [GCC 7.5.0]"
        },
        {
         "module": "IPython",
         "version": "7.27.0"
        },
        {
         "module": "OS",
         "version": "Linux 5.8.0 63 generic x86_64 with glibc2.32"
        },
        {
         "module": "tensorflow",
         "version": "2.4.1"
        },
        {
         "module": "numpy",
         "version": "1.21.2"
        },
        {
         "module": "pandas",
         "version": "1.3.3"
        },
        {
         "module": "matplotlib",
         "version": "3.4.3"
        }
       ]
      },
      "text/html": [
       "<table><tr><th>Software</th><th>Version</th></tr><tr><td>Python</td><td>3.9.7 64bit [GCC 7.5.0]</td></tr><tr><td>IPython</td><td>7.27.0</td></tr><tr><td>OS</td><td>Linux 5.8.0 63 generic x86\\_64 with glibc2.32</td></tr><tr><td>tensorflow</td><td>2.4.1</td></tr><tr><td>numpy</td><td>1.21.2</td></tr><tr><td>pandas</td><td>1.3.3</td></tr><tr><td>matplotlib</td><td>3.4.3</td></tr><tr><td colspan='2'>Wed Nov 24 11:54:24 2021 CET</td></tr></table>"
      ],
      "text/latex": [
       "\\begin{tabular}{|l|l|}\\hline\n",
       "{\\bf Software} & {\\bf Version} \\\\ \\hline\\hline\n",
       "Python & 3.9.7 64bit [GCC 7.5.0] \\\\ \\hline\n",
       "IPython & 7.27.0 \\\\ \\hline\n",
       "OS & Linux 5.8.0 63 generic x86\\_64 with glibc2.32 \\\\ \\hline\n",
       "tensorflow & 2.4.1 \\\\ \\hline\n",
       "numpy & 1.21.2 \\\\ \\hline\n",
       "pandas & 1.3.3 \\\\ \\hline\n",
       "matplotlib & 3.4.3 \\\\ \\hline\n",
       "\\hline \\multicolumn{2}{|l|}{Wed Nov 24 11:54:24 2021 CET} \\\\ \\hline\n",
       "\\end{tabular}\n"
      ],
      "text/plain": [
       "Software versions\n",
       "Python 3.9.7 64bit [GCC 7.5.0]\n",
       "IPython 7.27.0\n",
       "OS Linux 5.8.0 63 generic x86_64 with glibc2.32\n",
       "tensorflow 2.4.1\n",
       "numpy 1.21.2\n",
       "pandas 1.3.3\n",
       "matplotlib 3.4.3\n",
       "Wed Nov 24 11:54:24 2021 CET"
      ]
     },
     "execution_count": 2,
     "metadata": {},
     "output_type": "execute_result"
    }
   ],
   "source": [
    "%reload_ext version_information\n",
    "%version_information tensorflow,numpy, pandas, matplotlib"
   ]
  }
 ],
 "metadata": {
  "interpreter": {
   "hash": "0288ab4f19d6987ea2f50a7645b0e5f094734e2743686dabe7386fd0f317d35b"
  },
  "kernelspec": {
   "display_name": "tfEnv2",
   "language": "python",
   "name": "python3"
  },
  "language_info": {
   "codemirror_mode": {
    "name": "ipython",
    "version": 3
   },
   "file_extension": ".py",
   "mimetype": "text/x-python",
   "name": "python",
   "nbconvert_exporter": "python",
   "pygments_lexer": "ipython3",
   "version": "3.9.7"
  }
 },
 "nbformat": 4,
 "nbformat_minor": 4
}
