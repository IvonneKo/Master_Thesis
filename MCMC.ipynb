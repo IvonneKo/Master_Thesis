{
 "cells": [
  {
   "cell_type": "markdown",
   "metadata": {},
   "source": [
    "# MCMC with PyStan"
   ]
  },
  {
   "cell_type": "code",
   "execution_count": 2,
   "metadata": {},
   "outputs": [
    {
     "name": "stdout",
     "output_type": "stream",
     "text": [
      "2.19.1.1\n"
     ]
    }
   ],
   "source": [
    "#packages\n",
    "import pandas as pd\n",
    "import numpy as np\n",
    "import matplotlib.pyplot as plt\n",
    "import seaborn as sns\n",
    "import pystan\n",
    "print(pystan.__version__)\n",
    "from sklearn.linear_model import LogisticRegression"
   ]
  },
  {
   "cell_type": "markdown",
   "metadata": {},
   "source": [
    "## Import data"
   ]
  },
  {
   "cell_type": "code",
   "execution_count": 3,
   "metadata": {},
   "outputs": [
    {
     "name": "stdout",
     "output_type": "stream",
     "text": [
      "(21200, 3) (5300, 3) (6626, 3)\n"
     ]
    }
   ],
   "source": [
    "trainDat = pd.read_csv('../thesis/data/trainData.csv')\n",
    "validDat = pd.read_csv('../thesis/data/validationData.csv')\n",
    "testDat = pd.read_csv('../thesis/data/testData.csv')\n",
    "print (trainDat.shape,validDat.shape,testDat.shape)"
   ]
  },
  {
   "cell_type": "code",
   "execution_count": 4,
   "metadata": {},
   "outputs": [],
   "source": [
    "x_train =trainDat[\"standAge\"]\n",
    "x_valid =validDat[\"standAge\"]\n",
    "x_test =testDat[\"standAge\"]"
   ]
  },
  {
   "cell_type": "code",
   "execution_count": 5,
   "metadata": {},
   "outputs": [
    {
     "name": "stdout",
     "output_type": "stream",
     "text": [
      "(21200,) (5300,) (6626,)\n"
     ]
    }
   ],
   "source": [
    "y_train = trainDat['target']\n",
    "y_valid = validDat[\"target\"]\n",
    "y_test = testDat['target']\n",
    "print(y_train.shape, y_valid.shape, y_test.shape)"
   ]
  },
  {
   "cell_type": "markdown",
   "metadata": {},
   "source": [
    "## Functions"
   ]
  },
  {
   "cell_type": "code",
   "execution_count": 6,
   "metadata": {},
   "outputs": [],
   "source": [
    "def plot_trace(param, param_name='parameter'):\n",
    "\n",
    "  \n",
    "    ##mean, 95% CI\n",
    "    mean = np.mean(param)\n",
    "    cred_min, cred_max = np.percentile(param, 2.5), np.percentile(param, 97.5)\n",
    "\n",
    "  \n",
    "    # Plotting\n",
    "    plt.subplot(2,1,1)\n",
    "    plt.plot(param, color =\"tab:blue\")\n",
    "    plt.xlabel('samples')\n",
    "    plt.ylabel(param_name)\n",
    "    plt.axhline(mean, color='k', lw=2, linestyle='--')\n",
    "    plt.axhline(cred_min, linestyle=':', color='black', alpha=0.5)\n",
    "    plt.axhline(cred_max, linestyle=':', color='black', alpha=0.5)\n",
    "    plt.title('Trace and Posterior Distribution for {}'.format(param_name))\n",
    "\n",
    "    plt.subplot(2,1,2)\n",
    "    sns.kdeplot(data=param, shade=True,palette=\"mako\")\n",
    "    plt.xlabel(param_name)\n",
    "    plt.ylabel('density')\n",
    "    plt.axvline(mean, color='k', lw=2, linestyle='--',label='mean')\n",
    "    plt.axvline(cred_min, lw=2, linestyle=':', color='black', alpha=1.0, label='95% CI')\n",
    "    plt.axvline(cred_max, lw=2, linestyle=':', color='black', alpha=1.0)\n",
    "\n",
    "\n",
    "    plt.legend()"
   ]
  },
  {
   "cell_type": "markdown",
   "metadata": {},
   "source": [
    "### Logistic Regression"
   ]
  },
  {
   "cell_type": "code",
   "execution_count": 29,
   "metadata": {},
   "outputs": [],
   "source": [
    "x_trainLR =  x_train.values.reshape(-1, 1)\n",
    "modelLog = LogisticRegression()\n",
    "model = modelLog.fit(x_trainLR,y_train)\n",
    "interceptLR = model.intercept_"
   ]
  },
  {
   "cell_type": "markdown",
   "metadata": {},
   "source": [
    "## MCMC with fix intercept (solution from Logistic Regression)"
   ]
  },
  {
   "cell_type": "code",
   "execution_count": null,
   "metadata": {},
   "outputs": [
    {
     "name": "stderr",
     "output_type": "stream",
     "text": [
      "INFO:pystan:COMPILING THE C++ CODE FOR MODEL anon_model_fe0ae69778b304dd07af10794ee2df47 NOW.\n"
     ]
    }
   ],
   "source": [
    "\n",
    "melanom_data = {'N': x_trainLR.shape[0], 'M': x_trainLR.shape[1], 'X': x_trainLR, 'y': y_train, 'intercept':interceptLR }\n",
    "\n",
    "lr_code = \"\"\"\n",
    "\n",
    "  data {\n",
    "    int N;\n",
    "    int M;\n",
    "    real X[N, M];\n",
    "    int<lower=0, upper=1> y[N];\n",
    "  }\n",
    "  \n",
    "  parameters {\n",
    "    real beta[M]; \n",
    "    real intercept;\n",
    "  }\n",
    "  \n",
    "model{\n",
    "    for (i in 1:N)\n",
    "        y[i] ~ bernoulli(inv_logit (intercept+ dot_product(X[i] , beta)));\n",
    "    beta[M] ~ normal(0, 1);\n",
    "   \n",
    "  }\n",
    "\"\"\"        \n",
    "\n",
    "\n",
    "stm = pystan.StanModel(model_code=lr_code)"
   ]
  },
  {
   "cell_type": "code",
   "execution_count": null,
   "metadata": {},
   "outputs": [],
   "source": [
    "n_itr = 21000\n",
    "n_warmup = 500\n",
    "chains = 3\n",
    "\n",
    "fit = stm.sampling(data=melanom_data, iter=n_itr, chains=chains, n_jobs=-1, \n",
    "                   warmup=n_warmup, algorithm=\"NUTS\", verbose=False)"
   ]
  },
  {
   "cell_type": "code",
   "execution_count": null,
   "metadata": {},
   "outputs": [],
   "source": [
    "fit"
   ]
  },
  {
   "cell_type": "code",
   "execution_count": null,
   "metadata": {},
   "outputs": [],
   "source": [
    "plt.figure(figsize=(12,6))\n",
    "plot_trace(fit.extract()['beta'][:,0],\"$\\\\beta_1$\")"
   ]
  },
  {
   "cell_type": "code",
   "execution_count": null,
   "metadata": {},
   "outputs": [],
   "source": [
    "##Extract Mean Value slope\n",
    "meanSlope = np.mean(fit.extract()['beta'][:,0])\n",
    "meanSlope"
   ]
  },
  {
   "cell_type": "markdown",
   "metadata": {},
   "source": [
    "## MCMC with intercept and slope"
   ]
  },
  {
   "cell_type": "code",
   "execution_count": 65,
   "metadata": {},
   "outputs": [
    {
     "name": "stderr",
     "output_type": "stream",
     "text": [
      "INFO:pystan:COMPILING THE C++ CODE FOR MODEL anon_model_a751f024d794960b55f579df10f5570a NOW.\n"
     ]
    }
   ],
   "source": [
    "\n",
    "melanom_data = {'N': x_trainLR.shape[0], 'M': x_trainLR.shape[1], 'X': x_trainLR, 'y': y_train}\n",
    "\n",
    "lr_code = \"\"\"\n",
    "\n",
    "  data {\n",
    "    int N;\n",
    "    int M;\n",
    "    real X[N, M];\n",
    "    int<lower=0, upper=1> y[N];\n",
    "  }\n",
    "  \n",
    "  parameters {\n",
    "    real beta[M];\n",
    "    real beta0; \n",
    "  }\n",
    "  \n",
    "  \n",
    "  model {\n",
    "    for (i in 1:N)\n",
    "        y[i] ~ bernoulli(inv_logit (beta0 + dot_product(X[i] , beta)));\n",
    "    beta[M] ~ normal(0, 1);\n",
    "    beta0 ~ normal(0, 1);\n",
    "  }\n",
    "\"\"\"        \n",
    "\n",
    "\n",
    "stm = pystan.StanModel(model_code=lr_code)"
   ]
  },
  {
   "cell_type": "code",
   "execution_count": 66,
   "metadata": {},
   "outputs": [],
   "source": [
    "n_itr = 21000\n",
    "n_warmup = 500\n",
    "chains = 3\n",
    "\n",
    "fit4 = stm.sampling(data=melanom_data, iter=n_itr, chains=chains, n_jobs=-1, \n",
    "                   warmup=n_warmup, algorithm=\"NUTS\", verbose=False)"
   ]
  },
  {
   "cell_type": "code",
   "execution_count": 67,
   "metadata": {},
   "outputs": [
    {
     "data": {
      "text/plain": [
       "Inference for Stan model: anon_model_a751f024d794960b55f579df10f5570a.\n",
       "3 chains, each with iter=21000; warmup=500; thin=1; \n",
       "post-warmup draws per chain=20500, total post-warmup draws=61500.\n",
       "\n",
       "          mean se_mean     sd   2.5%    25%    50%    75%  97.5%  n_eff   Rhat\n",
       "beta[1]    0.7  3.4e-4   0.05   0.59   0.66    0.7   0.73    0.8  24889    1.0\n",
       "beta0    -4.24  4.1e-4   0.06  -4.36  -4.28  -4.23  -4.19  -4.11  24455    1.0\n",
       "lp__     -1813  6.2e-3    1.0  -1816  -1813  -1813  -1812  -1812  25824    1.0\n",
       "\n",
       "Samples were drawn using NUTS at Fri Oct  8 14:33:34 2021.\n",
       "For each parameter, n_eff is a crude measure of effective sample size,\n",
       "and Rhat is the potential scale reduction factor on split chains (at \n",
       "convergence, Rhat=1)."
      ]
     },
     "execution_count": 67,
     "metadata": {},
     "output_type": "execute_result"
    }
   ],
   "source": [
    "fit4"
   ]
  },
  {
   "cell_type": "code",
   "execution_count": 68,
   "metadata": {},
   "outputs": [
    {
     "data": {
      "image/png": "[encoded data removed]",
      "text/plain": [
       "<Figure size 864x432 with 2 Axes>"
      ]
     },
     "metadata": {
      "needs_background": "light"
     },
     "output_type": "display_data"
    }
   ],
   "source": [
    "plt.figure(figsize=(12,6))\n",
    "plot_trace(fit4.extract()['beta'][:,0],\"$\\\\beta_1$\")"
   ]
  },
  {
   "cell_type": "code",
   "execution_count": 71,
   "metadata": {},
   "outputs": [
    {
     "data": {
      "text/plain": [
       "(0.6965755354752582, -4.235263609883572)"
      ]
     },
     "execution_count": 71,
     "metadata": {},
     "output_type": "execute_result"
    }
   ],
   "source": [
    "##Extract Mean Value slope\n",
    "meanSlope = np.mean(fit4.extract()['beta'][:,0])\n",
    "##Extract Mean Value intercept\n",
    "meanIntercept = np.mean(fit4.extract()['beta0'])\n",
    "meanSlope, meanIntercept"
   ]
  },
  {
   "cell_type": "code",
   "execution_count": 31,
   "metadata": {},
   "outputs": [],
   "source": [
    "### Null Modell"
   ]
  },
  {
   "cell_type": "code",
   "execution_count": 28,
   "metadata": {},
   "outputs": [
    {
     "data": {
      "text/plain": [
       "(21200,)"
      ]
     },
     "execution_count": 28,
     "metadata": {},
     "output_type": "execute_result"
    }
   ],
   "source": [
    "y_train.shape"
   ]
  },
  {
   "cell_type": "code",
   "execution_count": 32,
   "metadata": {},
   "outputs": [
    {
     "name": "stderr",
     "output_type": "stream",
     "text": [
      "INFO:pystan:COMPILING THE C++ CODE FOR MODEL anon_model_6f66b88d7424209ceede6d41a453d067 NOW.\n"
     ]
    }
   ],
   "source": [
    "\n",
    "\n",
    "\n",
    "\n",
    "melanom_data = {'N': x_trainLR.shape[0], 'M': x_trainLR.shape[1], 'X': x_trainLR, 'y': y_train}\n",
    "\n",
    "lr_code = \"\"\"\n",
    "  data {\n",
    "    int N;\n",
    "    int M;\n",
    "    real X[N, M];\n",
    "    int<lower=0, upper=1> y[N];\n",
    "  }\n",
    "  parameters {\n",
    "    real beta0; \n",
    "  }\n",
    "  model {\n",
    "    for (i in 1:N)\n",
    "        y[i] ~ bernoulli(inv_logit (beta0));\n",
    "    beta0 ~ normal(0, 1);\n",
    "\n",
    "   \n",
    "  }\n",
    "\"\"\"     \n",
    "\n",
    "\n",
    "stm = pystan.StanModel(model_code=lr_code)"
   ]
  },
  {
   "cell_type": "code",
   "execution_count": 39,
   "metadata": {},
   "outputs": [],
   "source": [
    "\n",
    "n_itr = 21000\n",
    "n_warmup = 500\n",
    "chains = 3\n",
    "\n",
    "fit = stm.sampling(data=melanom_data, iter=n_itr, chains=chains, n_jobs=-1, \n",
    "                   warmup=n_warmup, algorithm=\"NUTS\", verbose=False)"
   ]
  },
  {
   "cell_type": "code",
   "execution_count": 38,
   "metadata": {},
   "outputs": [
    {
     "data": {
      "text/plain": [
       "<matplotlib.legend.Legend at 0x7f6665f433a0>"
      ]
     },
     "execution_count": 38,
     "metadata": {},
     "output_type": "execute_result"
    },
    {
     "data": {
      "image/png": "[encoded data removed]",
      "text/plain": [
       "<Figure size 720x360 with 1 Axes>"
      ]
     },
     "metadata": {
      "needs_background": "light"
     },
     "output_type": "display_data"
    }
   ],
   "source": [
    "import seaborn as sns\n",
    "plt.figure(figsize=(10,5))\n",
    "mcmc_p_w_D = np.exp(fit.to_dataframe()['lp__'])\n",
    "#w_mcmc = fit.extract()['beta'][:,0]\n",
    "w_mcmc = fit.extract()['beta0']\n",
    "sort = np.argsort(w_mcmc)\n",
    "# proportional\n",
    "mcmc_p_w_D = mcmc_p_w_D[sort]\n",
    "w_mcmc = w_mcmc[sort]\n",
    "mcmc_p_w_D /= np.trapz(mcmc_p_w_D, w_mcmc)\n",
    "\n",
    "np.trapz(mcmc_p_w_D, w_mcmc)\n",
    "sns.kdeplot(w_mcmc, color='g',zorder=2, shade=True, label=r'With KDE')\n",
    "plt.legend(fontsize='x-small')"
   ]
  },
  {
   "cell_type": "code",
   "execution_count": 41,
   "metadata": {},
   "outputs": [],
   "source": [
    "nullmodelMCMC = pd.DataFrame(w_mcmc,columns=['sample'])\n",
    "\n",
    "nullmodelMCMC.to_csv(\"./data/nullmodelMCMC.csv\", index=False)"
   ]
  },
  {
   "cell_type": "code",
   "execution_count": 5,
   "metadata": {},
   "outputs": [
    {
     "data": {
      "application/json": {
       "Software versions": [
        {
         "module": "Python",
         "version": "3.9.7 64bit [GCC 9.4.0]"
        },
        {
         "module": "IPython",
         "version": "7.28.0"
        },
        {
         "module": "OS",
         "version": "Linux 5.8.0 63 generic x86_64 with glibc2.32"
        },
        {
         "module": "pystan",
         "version": "2.19.1.1"
        },
        {
         "module": "numpy",
         "version": "1.19.5"
        },
        {
         "module": "pandas",
         "version": "1.2.4"
        },
        {
         "module": "seaborn",
         "version": "0.11.1"
        },
        {
         "module": "matplotlib",
         "version": "3.1.1"
        }
       ]
      },
      "text/html": [
       "<table><tr><th>Software</th><th>Version</th></tr><tr><td>Python</td><td>3.9.7 64bit [GCC 9.4.0]</td></tr><tr><td>IPython</td><td>7.28.0</td></tr><tr><td>OS</td><td>Linux 5.8.0 63 generic x86\\_64 with glibc2.32</td></tr><tr><td>pystan</td><td>2.19.1.1</td></tr><tr><td>numpy</td><td>1.19.5</td></tr><tr><td>pandas</td><td>1.2.4</td></tr><tr><td>seaborn</td><td>0.11.1</td></tr><tr><td>matplotlib</td><td>3.1.1</td></tr><tr><td colspan='2'>Wed Nov 24 11:48:18 2021 CET</td></tr></table>"
      ],
      "text/latex": [
       "\\begin{tabular}{|l|l|}\\hline\n",
       "{\\bf Software} & {\\bf Version} \\\\ \\hline\\hline\n",
       "Python & 3.9.7 64bit [GCC 9.4.0] \\\\ \\hline\n",
       "IPython & 7.28.0 \\\\ \\hline\n",
       "OS & Linux 5.8.0 63 generic x86\\_64 with glibc2.32 \\\\ \\hline\n",
       "pystan & 2.19.1.1 \\\\ \\hline\n",
       "numpy & 1.19.5 \\\\ \\hline\n",
       "pandas & 1.2.4 \\\\ \\hline\n",
       "seaborn & 0.11.1 \\\\ \\hline\n",
       "matplotlib & 3.1.1 \\\\ \\hline\n",
       "\\hline \\multicolumn{2}{|l|}{Wed Nov 24 11:48:18 2021 CET} \\\\ \\hline\n",
       "\\end{tabular}\n"
      ],
      "text/plain": [
       "Software versions\n",
       "Python 3.9.7 64bit [GCC 9.4.0]\n",
       "IPython 7.28.0\n",
       "OS Linux 5.8.0 63 generic x86_64 with glibc2.32\n",
       "pystan 2.19.1.1\n",
       "numpy 1.19.5\n",
       "pandas 1.2.4\n",
       "seaborn 0.11.1\n",
       "matplotlib 3.1.1\n",
       "Wed Nov 24 11:48:18 2021 CET"
      ]
     },
     "execution_count": 5,
     "metadata": {},
     "output_type": "execute_result"
    }
   ],
   "source": [
    "%reload_ext version_information\n",
    "%version_information pystan,numpy, pandas, seaborn, matplotlib"
   ]
  }
 ],
 "metadata": {
  "interpreter": {
   "hash": "0612068b9a4d29ed93c349ec32d2ceb2b703034964000fe75b7c041cca89803d"
  },
  "kernelspec": {
   "display_name": "tf_gpu",
   "language": "python",
   "name": "python3"
  },
  "language_info": {
   "codemirror_mode": {
    "name": "ipython",
    "version": 3
   },
   "file_extension": ".py",
   "mimetype": "text/x-python",
   "name": "python",
   "nbconvert_exporter": "python",
   "pygments_lexer": "ipython3",
   "version": "3.9.7"
  }
 },
 "nbformat": 4,
 "nbformat_minor": 4
}
