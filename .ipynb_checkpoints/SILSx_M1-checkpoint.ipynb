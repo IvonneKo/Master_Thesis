{
 "cells": [
  {
   "cell_type": "markdown",
   "metadata": {},
   "source": [
    "# Bayes Models: SI LSx\n",
    "#### Transformation model based variational inference\n",
    "#### Tabular data: SI LSx model and evaluation of one-parameter-models"
   ]
  },
  {
   "cell_type": "code",
   "execution_count": 2,
   "metadata": {},
   "outputs": [
    {
     "name": "stdout",
     "output_type": "stream",
     "text": [
      "3.9.7 (default, Sep 16 2021, 13:09:58) \n",
      "[GCC 7.5.0]\n",
      "2.4.1\n"
     ]
    }
   ],
   "source": [
    "from tensorflow import keras\n",
    "import pandas as pd\n",
    "import numpy as np\n",
    "import matplotlib.pyplot as plt\n",
    "import seaborn as sns\n",
    "import tensorflow as tf\n",
    "from tensorflow_probability import distributions as tfd\n",
    "from sklearn import preprocessing\n",
    "from tensorflow.keras import backend as K\n",
    "from tensorflow.keras import initializers\n",
    "\n",
    "\n",
    "from sklearn.metrics import roc_auc_score\n",
    "from tensorflow.keras.regularizers import l2\n",
    "from tensorflow.keras.optimizers import Adam\n",
    "from tensorflow.keras.layers import Input\n",
    "from tensorflow.keras.models import Model\n",
    "import tqdm\n",
    "physical_devices = tf.config.list_physical_devices('GPU')\n",
    "try:\n",
    "  tf.config.experimental.set_memory_growth(physical_devices[0], True)\n",
    "except:\n",
    "  # Invalid device or cannot modify virtual devices once initialized.\n",
    "  pass\n",
    "\n",
    "#%load_ext autoreload\n",
    "#%autoreload 2\n",
    "#functions\n",
    "from functions.vimlts import VimltsLinear\n",
    "from functions.vimlts_fixBias import VimltsLinearB\n",
    "from functions.sample_bernoulli_nll import sample_bernoulli_nll\n",
    "from functions.scoreCI import score_ci\n",
    "from functions.vimlts_fast_nullModel import VimltsLinearNull\n",
    "from functions.logScore import logScore\n",
    "\n",
    "import sys\n",
    "print(sys.version)\n",
    "print(tf.__version__)\n"
   ]
  },
  {
   "cell_type": "code",
   "execution_count": 3,
   "metadata": {},
   "outputs": [],
   "source": [
    "# Load data\n",
    "dat = pd.read_csv('../thesis/patientData.csv')\n",
    "train_dir = \"../thesis/trainRes/\""
   ]
  },
  {
   "cell_type": "code",
   "execution_count": 4,
   "metadata": {},
   "outputs": [
    {
     "name": "stdout",
     "output_type": "stream",
     "text": [
      "(21200,) (5300,) (6626,)\n"
     ]
    }
   ],
   "source": [
    "np.random.seed(3004)\n",
    "idx = np.arange(len(dat))\n",
    "np.random.shuffle(idx)\n",
    "\n",
    "# 80% training\n",
    "train_idx = idx[:int(len(dat)*0.8)] \n",
    "# 20% test\n",
    "test_idx = idx[int(len(dat)*0.8):] \n",
    "# 20% of training as validation\n",
    "valid_idx = train_idx[:int(len(train_idx)*0.2)] \n",
    "train_idx = train_idx[int(len(train_idx)*0.2):]\n",
    "print(train_idx.shape, valid_idx.shape, test_idx.shape)"
   ]
  },
  {
   "cell_type": "code",
   "execution_count": 5,
   "metadata": {},
   "outputs": [
    {
     "name": "stdout",
     "output_type": "stream",
     "text": [
      "(21200, 9) (5300, 9) (6626, 9)\n",
      "(21200, 1) (5300, 1) (6626, 1)\n"
     ]
    }
   ],
   "source": [
    "X_train = dat.iloc[train_idx]\n",
    "X_valid= dat.iloc[valid_idx]\n",
    "X_test= dat.iloc[test_idx]\n",
    "print(X_train.shape, X_valid.shape, X_test.shape)\n",
    "y_train = dat.iloc[train_idx]\n",
    "y_train = y_train.loc[:, y_train.columns.intersection(['target'])]\n",
    "y_valid= dat.iloc[valid_idx]\n",
    "y_valid = y_valid.loc[:, y_train.columns.intersection(['target'])]\n",
    "y_test= dat.iloc[test_idx]\n",
    "y_test = y_test.loc[:, y_train.columns.intersection(['target'])]\n",
    "print(y_train.shape, y_valid.shape, y_test.shape)"
   ]
  },
  {
   "cell_type": "code",
   "execution_count": 6,
   "metadata": {},
   "outputs": [
    {
     "name": "stdout",
     "output_type": "stream",
     "text": [
      "(21200,) (5300,) (6626,)\n"
     ]
    }
   ],
   "source": [
    "dat['age_approx'] = dat['age_approx'].fillna(dat['age_approx'].mean())\n",
    "X_trainAge = dat.iloc[train_idx]\n",
    "X_trainAge = X_train['age_approx']\n",
    "X_validAge= dat.iloc[valid_idx]\n",
    "X_validAge = X_valid['age_approx']\n",
    "X_testAge= dat.iloc[test_idx]\n",
    "X_testAge = X_test['age_approx']\n",
    "print(X_trainAge.shape, X_validAge.shape, X_testAge.shape)"
   ]
  },
  {
   "cell_type": "code",
   "execution_count": 7,
   "metadata": {},
   "outputs": [
    {
     "data": {
      "text/plain": [
       "(age    1.0\n",
       " dtype: float64,\n",
       " age    1.628009e-16\n",
       " dtype: float64)"
      ]
     },
     "execution_count": 7,
     "metadata": {},
     "output_type": "execute_result"
    }
   ],
   "source": [
    "### standardized patients age\n",
    "def standard(data):\n",
    "    mean = np.mean(data)\n",
    "    std = np.std(data)\n",
    "    standard = (data - mean) / std\n",
    "    return standard\n",
    "standAge = standard(X_trainAge).ravel()\n",
    "standAgeTr = pd.DataFrame({'age': standAge},columns=['age'])\n",
    "\n",
    "\n",
    "standAgeValid = standard(X_validAge).ravel()\n",
    "standAgeVal = pd.DataFrame({'age': standAgeValid},columns=['age'])\n",
    "\n",
    "standAgeTest= standard(X_testAge).ravel()\n",
    "standAgeTe = pd.DataFrame({'age': standAgeTest},columns=['age'])\n",
    "\n",
    "np.std(standAgeTr), np.mean(standAgeTr)"
   ]
  },
  {
   "cell_type": "markdown",
   "metadata": {},
   "source": [
    "## Functions"
   ]
  },
  {
   "cell_type": "code",
   "execution_count": 8,
   "metadata": {},
   "outputs": [],
   "source": [
    "# manipulate tm-vi parameters\n",
    "def softplus_inv(y):\n",
    "    return np.log(np.exp(y) - 1)\n",
    "\n",
    "# combine two components\n",
    "def modelOn(X_meta, X):\n",
    "    added = tf.keras.layers.Add()([X_meta.output, X.output]) \n",
    "    out = tf.math.sigmoid(added)\n",
    "    model1 = keras.Model(inputs = [X_meta.input, X.input], outputs = out)\n",
    "    return model1 \n",
    "\n",
    "# Prior\n",
    "prior_dist=tfd.Normal(loc=0.,scale=1.)"
   ]
  },
  {
   "cell_type": "markdown",
   "metadata": {},
   "source": [
    "## One-parameter model: Nullmodel only intercept\n"
   ]
  },
  {
   "cell_type": "code",
   "execution_count": 10,
   "metadata": {},
   "outputs": [
    {
     "name": "stdout",
     "output_type": "stream",
     "text": [
      "Model: \"null_model\"\n",
      "_________________________________________________________________\n",
      "Layer (type)                 Output Shape              Param #   \n",
      "=================================================================\n",
      "input_2 (InputLayer)         [(None, 1)]               0         \n",
      "_________________________________________________________________\n",
      "vimlts_linear_null_1 (Vimlts (1000, 1, 1)              55        \n",
      "=================================================================\n",
      "Total params: 55\n",
      "Trainable params: 55\n",
      "Non-trainable params: 0\n",
      "_________________________________________________________________\n"
     ]
    }
   ],
   "source": [
    "# Prior\n",
    "prior_dist=tfd.Normal(loc=0.,scale=1.)\n",
    "# range of bernsteinpolynoms\n",
    "theta_start = -4\n",
    "theta_stop = -2\n",
    "# Number of samples to approximate the expected value\n",
    "num_samples=1000\n",
    "train_size= standAgeTr.shape[0]\n",
    "M = 50\n",
    "# init params\n",
    "kernel_initializers=dict(bias_init_alpha_w =initializers.Constant(1.),\n",
    "                         bias_init_beta_w = initializers.Constant(0.),\n",
    "                         bias_init_alpha_z = initializers.Constant(1.),\n",
    "                         bias_init_beta_z = initializers.Constant(0.),\n",
    "                         bias_init_thetas = [initializers.Constant(theta_start)] +\n",
    "                         [initializers.Constant(softplus_inv((theta_stop-theta_start)/(M))) for i in range(M)])\n",
    "\n",
    "# define model\n",
    "x_in = Input(shape=(1,))\n",
    "x_out = VimltsLinearNull(1,\n",
    "                         activation=tf.keras.activations.sigmoid,\n",
    "                         **kernel_initializers,\n",
    "                         num_samples=num_samples,\n",
    "                         size= train_size,\n",
    "                         prior_dist=prior_dist) (x_in)\n",
    "\n",
    "model_Null = Model(x_in, x_out, name=\"null_model\")   \n",
    "model_Null.summary()"
   ]
  },
  {
   "cell_type": "markdown",
   "metadata": {},
   "source": [
    "#### Train model"
   ]
  },
  {
   "cell_type": "code",
   "execution_count": null,
   "metadata": {},
   "outputs": [],
   "source": [
    "epochs=500\n",
    "model_Null.compile(optimizer=Adam(lr=1e-4), loss=sample_bernoulli_nll, run_eagerly=False)\n",
    "model_Null.fit(np.zeros(len(standAgeTr)), y_train, verbose=True) # doesn't depend on tabular data\n",
    "### save model weights\n",
    "#model_VIMLTS.save_weights(\"../thesis/models/VITM-Tab_Intercept\", save_format =\"tf\")"
   ]
  },
  {
   "cell_type": "markdown",
   "metadata": {},
   "source": [
    "#### Load weights "
   ]
  },
  {
   "cell_type": "code",
   "execution_count": null,
   "metadata": {},
   "outputs": [],
   "source": [
    "#recreate Model\n",
    "model_Null.compile(optimizer=Adam(lr=1e-4), loss=sample_bernoulli_nll, run_eagerly=False)\n",
    "#load the state of the old model\n",
    "model_Null.load_weights(\"../thesis/models/VITM-Tab_Intercept\")\n",
    "layer = model_Null.layers[1]\n",
    "qw_Null, w_Null = layer.get_b_dist()"
   ]
  },
  {
   "cell_type": "code",
   "execution_count": 14,
   "metadata": {},
   "outputs": [],
   "source": [
    "# Predictions \n",
    "y_predsA = model_Null.predict(standAgeTe,batch_size=1)\n",
    "samplesAllData = y_predsA.reshape(-1, 1000)\n",
    "meanpred = samplesAllData.mean(axis=1)\n",
    "predictions=meanpred.reshape(6626,1)\n",
    "y_predictions_2p5Tab=np.quantile(samplesAllData,0.025,axis=1)\n",
    "y_predictions_97p5Tab=np.quantile(samplesAllData,0.975,axis=1)"
   ]
  },
  {
   "cell_type": "markdown",
   "metadata": {},
   "source": [
    "### Performance"
   ]
  },
  {
   "cell_type": "code",
   "execution_count": 15,
   "metadata": {},
   "outputs": [
    {
     "data": {
      "text/plain": [
       "-0.08817786462728688"
      ]
     },
     "execution_count": 15,
     "metadata": {},
     "output_type": "execute_result"
    }
   ],
   "source": [
    "# log-score\n",
    "logScore(y_test,predictions)"
   ]
  },
  {
   "cell_type": "code",
   "execution_count": 16,
   "metadata": {},
   "outputs": [
    {
     "name": "stdout",
     "output_type": "stream",
     "text": [
      "AUC=0.46, 95% CI: 0.41-0.52\n"
     ]
    }
   ],
   "source": [
    "#AUC\n",
    "score, ci_lower, ci_upper, scores =score_ci(y_test, meanpred, score_fun=roc_auc_score)\n",
    "print(\"AUC={:.2f}, 95% CI: {:.2f}-{:.2f}\".format(score, ci_lower, ci_upper))"
   ]
  },
  {
   "cell_type": "markdown",
   "metadata": {},
   "source": [
    "## One-parameter model: fix intercept"
   ]
  },
  {
   "cell_type": "code",
   "execution_count": 18,
   "metadata": {},
   "outputs": [
    {
     "name": "stdout",
     "output_type": "stream",
     "text": [
      "Model: \"fix_intercept\"\n",
      "_________________________________________________________________\n",
      "Layer (type)                 Output Shape              Param #   \n",
      "=================================================================\n",
      "input_4 (InputLayer)         [(None, 1)]               0         \n",
      "_________________________________________________________________\n",
      "vimlts_linear_b_1 (VimltsLin (1000, None, 1)           56        \n",
      "=================================================================\n",
      "Total params: 56\n",
      "Trainable params: 55\n",
      "Non-trainable params: 1\n",
      "_________________________________________________________________\n"
     ]
    }
   ],
   "source": [
    "# range of bernsteinpolynoms\n",
    "theta_start = 0.4\n",
    "theta_stop = 0.7\n",
    "# Number of samples to approximate the expected value\n",
    "num_samples=1000\n",
    "train_size= standAgeTr.shape[0]\n",
    "\n",
    "M = 50\n",
    "\n",
    "# init params\n",
    "kernel_initializers=dict(kernel_init_alpha_w =initializers.Constant(1.),               \n",
    "                             kernel_init_beta_w = initializers.Constant(0.),\n",
    "                             kernel_init_alpha_z = initializers.Constant(1.),\n",
    "                             kernel_init_beta_z = initializers.Constant(0.),\n",
    "                             kernel_init_thetas = [initializers.Constant(theta_start)] +\n",
    "                             [initializers.Constant(softplus_inv((theta_stop-theta_start)/(M))) for i in range(M)]\n",
    "                             )\n",
    "# define model\n",
    "x_in = Input(shape=(1,))\n",
    "x_out = VimltsLinearB(1,\n",
    "                     activation=tf.keras.activations.sigmoid,\n",
    "                     **kernel_initializers,\n",
    "                     num_samples=num_samples,\n",
    "                     size= train_size,\n",
    "                     prior_dist=prior_dist) (x_in)\n",
    "\n",
    "model_fixI = Model(x_in, x_out, name=\"fix_intercept\")  \n",
    "model_fixI.summary()\n"
   ]
  },
  {
   "cell_type": "markdown",
   "metadata": {},
   "source": [
    "#### Train model"
   ]
  },
  {
   "cell_type": "code",
   "execution_count": null,
   "metadata": {},
   "outputs": [],
   "source": [
    "epochs = 5000   ##to have the acurate posterior \n",
    "model_fixI.compile(optimizer=Adam(lr=1e-4), loss=sample_bernoulli_nll, run_eagerly=False)\n",
    "model_fixI.fit(standAgeTr, y_train,batch_size=256, epochs=epochs, verbose = True)"
   ]
  },
  {
   "cell_type": "code",
   "execution_count": 23,
   "metadata": {},
   "outputs": [],
   "source": [
    "### save model weights\n",
    "#model.save_weights(\"../thesis/models/VITM-FixIntercept-Tabular\", save_format =\"tf\")"
   ]
  },
  {
   "cell_type": "markdown",
   "metadata": {},
   "source": [
    "#### Load weights"
   ]
  },
  {
   "cell_type": "code",
   "execution_count": null,
   "metadata": {},
   "outputs": [],
   "source": [
    "model_fixI.compile(optimizer=Adam(lr=1e-4), loss=sample_bernoulli_nll, run_eagerly=False)\n",
    "## load the state of the old model\n",
    "model_fixI.load_weights(\"../thesis/models/VITM-FixIntercept-Tabular\")\n",
    "## posterior distribution\n",
    "layer = model_fixI.layers[1]\n",
    "qw_fixI, w_fixI = layer.get_w_dist()"
   ]
  },
  {
   "cell_type": "markdown",
   "metadata": {},
   "source": [
    "## M1: SI LSx with slope and intercept\n",
    "### Meanfield-TM-VI"
   ]
  },
  {
   "cell_type": "code",
   "execution_count": 20,
   "metadata": {},
   "outputs": [],
   "source": [
    "M=50\n",
    "theta_start = -1\n",
    "theta_stop = 1\n",
    "delta_theta = softplus_inv((theta_stop-theta_start)/(M))\n",
    "theta_startB = -5\n",
    "theta_stopB = 5\n",
    "\n",
    "vimlts_initializers=dict(kernel_init_alpha_w = initializers.Constant(1.),\n",
    "                             kernel_init_beta_w = initializers.Constant(0.),\n",
    "                             kernel_init_alpha_z = initializers.Constant(1.),\n",
    "                             kernel_init_beta_z = initializers.Constant(0.),\n",
    "                             kernel_init_thetas = [initializers.Constant(theta_start)] + \n",
    "                             [initializers.Constant(delta_theta) for _ in range(M)],\n",
    "                             bias_init_alpha_w = initializers.Constant(1.),\n",
    "                             bias_init_beta_w = initializers.Constant(0.),\n",
    "                             bias_init_alpha_z = initializers.Constant(1.),\n",
    "                             bias_init_beta_z = initializers.Constant(0.),\n",
    "                             bias_init_thetas = [initializers.Constant(theta_startB)] +\n",
    "                             [initializers.Constant(softplus_inv((theta_stopB-theta_startB)/(M))) for i in range(M)])"
   ]
  },
  {
   "cell_type": "code",
   "execution_count": 22,
   "metadata": {},
   "outputs": [
    {
     "name": "stdout",
     "output_type": "stream",
     "text": [
      "Model: \"SI_LSx\"\n",
      "_________________________________________________________________\n",
      "Layer (type)                 Output Shape              Param #   \n",
      "=================================================================\n",
      "input_6 (InputLayer)         [(None, 1)]               0         \n",
      "_________________________________________________________________\n",
      "vimlts_linear_1 (VimltsLinea (1000, None, 1)           110       \n",
      "=================================================================\n",
      "Total params: 110\n",
      "Trainable params: 110\n",
      "Non-trainable params: 0\n",
      "_________________________________________________________________\n"
     ]
    }
   ],
   "source": [
    "x_in = Input(shape=(1,))\n",
    "\n",
    "x_arch = VimltsLinear(units=1,\n",
    "                      activation=tf.keras.activations.sigmoid,\n",
    "                      num_samples = 1000,\n",
    "                      size= 21200,\n",
    "                      **vimlts_initializers,\n",
    "                      prior_dist=prior_dist)(x_in)\n",
    "\n",
    "model_SILSx = Model(x_in, x_arch, name=\"SI_LSx\")\n",
    "model_SILSx.summary()"
   ]
  },
  {
   "cell_type": "markdown",
   "metadata": {},
   "source": [
    "#### Train model"
   ]
  },
  {
   "cell_type": "code",
   "execution_count": null,
   "metadata": {},
   "outputs": [],
   "source": [
    "### Train\n",
    "epochs = 500\n",
    "batch_size= 256\n",
    "model_SILSx.compile(optimizer=Adam(lr=1e-4), loss=sample_bernoulli_nll, run_eagerly=False)\n",
    "model_SILSx.fit(standAgeTr, y_train,batch_size=batch_size,validation_data =(standAgeVal,y_valid), epochs=epochs, verbose=True)"
   ]
  },
  {
   "cell_type": "code",
   "execution_count": 19,
   "metadata": {},
   "outputs": [],
   "source": [
    "# save results\n",
    "#dat = pd.DataFrame({'train_loss': model_SILSx.history.history['loss'], \n",
    "                       # 'val_loss': model_SILSx.history.history['val_loss']})\n",
    "#dat.to_csv('../thesis/RunsTMVI_SILS/history.csv', index=False)\n",
    "### save model weights\n",
    "#model_SILSx.save_weights(\"../thesis/models/VITM-Tabular\", save_format =\"tf\")"
   ]
  },
  {
   "cell_type": "markdown",
   "metadata": {},
   "source": [
    "#### Load weights"
   ]
  },
  {
   "cell_type": "code",
   "execution_count": 23,
   "metadata": {},
   "outputs": [],
   "source": [
    "### recreate Model\n",
    "model_SILSx.compile(optimizer=Adam(lr=1e-4),metrics=[sample_bernoulli_nll], loss=sample_bernoulli_nll, run_eagerly=False)\n",
    "### load the state of the old model\n",
    "model_SILSx.load_weights(\"../thesis/models/VITM-Tabular\")\n",
    "\n",
    "## posterior distribution of slope\n",
    "layer_s = model_SILSx.layers[1]\n",
    "qw_LS, w_LS = layer_s.get_w_dist()\n",
    "## sample direct \n",
    "layer_w = model_SILSx.layers[1]\n",
    "sample_w = layer_w.samplew()\n",
    "\n",
    "## posterior distribution of bias term\n",
    "layer_b = model_SILSx.layers[1]\n",
    "qb_SI, b_SI = layer_b.get_b_dist()"
   ]
  },
  {
   "cell_type": "markdown",
   "metadata": {},
   "source": [
    "## Loss"
   ]
  },
  {
   "cell_type": "code",
   "execution_count": 25,
   "metadata": {},
   "outputs": [
    {
     "data": {
      "image/png": "[encoded data removed]",
      "text/plain": [
       "<Figure size 936x1080 with 1 Axes>"
      ]
     },
     "metadata": {
      "needs_background": "light"
     },
     "output_type": "display_data"
    }
   ],
   "source": [
    "loss_0 = pd.read_csv('../thesis/performance/RunsTMVI_SILS/history.csv')\n",
    "plt.figure(figsize=(13,15))\n",
    "plt.subplot(221)\n",
    "plt.plot(loss_0['train_loss'],label=\"Train Loss\")\n",
    "plt.plot(loss_0['val_loss'], label=\"Validation Loss\")\n",
    "plt.legend()\n",
    "plt.xlabel(\"epochs\")\n",
    "plt.ylabel(\"loss\")\n",
    "plt.ylim(0.08,0.15)\n",
    "plt.yticks(np.arange(0.08, 0.15, 0.005))\n",
    "plt.legend()\n",
    "plt.show()\n",
    "#plt.savefig(\"./plots/uncertainty/LOSS_TMVI_SILSx.pdf\")"
   ]
  },
  {
   "cell_type": "markdown",
   "metadata": {},
   "source": [
    "## Performance"
   ]
  },
  {
   "cell_type": "code",
   "execution_count": 26,
   "metadata": {},
   "outputs": [],
   "source": [
    "# Predictions \n",
    "y_predsA = model_SILSx.predict(standAgeTe,batch_size=1)\n",
    "samplesAllData = y_predsA.reshape(-1, 1000)\n",
    "meanpred = samplesAllData.mean(axis=1)\n",
    "predictions=meanpred.reshape(6626,1)\n",
    "y_predictions_2p5Tab=np.quantile(samplesAllData,0.025,axis=1)\n",
    "y_predictions_97p5Tab=np.quantile(samplesAllData,0.975,axis=1)"
   ]
  },
  {
   "cell_type": "code",
   "execution_count": 27,
   "metadata": {},
   "outputs": [
    {
     "data": {
      "text/plain": [
       "-0.08502796378834643"
      ]
     },
     "execution_count": 27,
     "metadata": {},
     "output_type": "execute_result"
    }
   ],
   "source": [
    "# log-score\n",
    "logScore(y_test,predictions)"
   ]
  },
  {
   "cell_type": "code",
   "execution_count": 28,
   "metadata": {},
   "outputs": [
    {
     "name": "stdout",
     "output_type": "stream",
     "text": [
      "AUC=0.66, 95% CI: 0.61-0.71\n"
     ]
    }
   ],
   "source": [
    "#AUC\n",
    "score, ci_lower, ci_upper, scores =score_ci(y_test, meanpred, score_fun=roc_auc_score)\n",
    "print(\"AUC={:.2f}, 95% CI: {:.2f}-{:.2f}\".format(score, ci_lower, ci_upper))"
   ]
  },
  {
   "cell_type": "markdown",
   "metadata": {},
   "source": [
    "## Model with two components to have linear outcomes \n",
    "### Logit model "
   ]
  },
  {
   "cell_type": "code",
   "execution_count": 29,
   "metadata": {},
   "outputs": [],
   "source": [
    "M=50\n",
    "\n",
    "theta_start = -1\n",
    "theta_stop = 1\n",
    "\n",
    "\n",
    "theta_startB = -5\n",
    "theta_stopB = 5\n",
    "\n",
    "vimlts_initializersLinearShift=dict(kernel_init_alpha_w = initializers.Constant(1.),\n",
    "                             kernel_init_beta_w = initializers.Constant(0.),\n",
    "                             kernel_init_alpha_z = initializers.Constant(1.),\n",
    "                             kernel_init_beta_z = initializers.Constant(0.),\n",
    "                             kernel_init_thetas = [initializers.Constant(theta_start)] +\n",
    "                              [initializers.Constant(softplus_inv((theta_stop-theta_start)/(M))) for i in range(M)])\n",
    "\n",
    "vimlts_initializersBias=dict(kernel_init_alpha_w = initializers.Constant(1.),\n",
    "                             kernel_init_beta_w = initializers.Constant(0.),\n",
    "                             kernel_init_alpha_z = initializers.Constant(1.),\n",
    "                             kernel_init_beta_z = initializers.Constant(0.),\n",
    "                             kernel_init_thetas = [initializers.Constant(theta_startB)] +\n",
    "                              [initializers.Constant(softplus_inv((theta_stopB-theta_startB)/(M))) for i in range(M)])\n",
    "\n",
    "prior_dist=tfd.Normal(loc=0.,scale=1.)\n"
   ]
  },
  {
   "cell_type": "code",
   "execution_count": 30,
   "metadata": {},
   "outputs": [
    {
     "name": "stdout",
     "output_type": "stream",
     "text": [
      "Model: \"SI\"\n",
      "_________________________________________________________________\n",
      "Layer (type)                 Output Shape              Param #   \n",
      "=================================================================\n",
      "input_7 (InputLayer)         [(None, 1)]               0         \n",
      "_________________________________________________________________\n",
      "vimlts_linear_2 (VimltsLinea (1000, None, 1)           55        \n",
      "=================================================================\n",
      "Total params: 55\n",
      "Trainable params: 55\n",
      "Non-trainable params: 0\n",
      "_________________________________________________________________\n"
     ]
    }
   ],
   "source": [
    "##Simple Intercept\n",
    "# bias \n",
    "in_ = keras.Input(shape = (1, ))\n",
    "out_ = VimltsLinear(units=1,\n",
    "                      activation=tf.keras.activations.linear,\n",
    "                      num_samples=1000,\n",
    "                      size = 21200,\n",
    "                      **vimlts_initializersBias,\n",
    "                      prior_dist=prior_dist)(in_)\n",
    "SI_NN = keras.Model(inputs = in_, outputs = out_, name=\"SI\")\n",
    "SI_NN.summary()"
   ]
  },
  {
   "cell_type": "code",
   "execution_count": 31,
   "metadata": {},
   "outputs": [
    {
     "name": "stdout",
     "output_type": "stream",
     "text": [
      "Model: \"LSx\"\n",
      "_________________________________________________________________\n",
      "Layer (type)                 Output Shape              Param #   \n",
      "=================================================================\n",
      "input_8 (InputLayer)         [(None, 1)]               0         \n",
      "_________________________________________________________________\n",
      "vimlts_linear_3 (VimltsLinea (1000, None, 1)           55        \n",
      "=================================================================\n",
      "Total params: 55\n",
      "Trainable params: 55\n",
      "Non-trainable params: 0\n",
      "_________________________________________________________________\n"
     ]
    }
   ],
   "source": [
    "##### Tabular Data \n",
    "\n",
    "### no bias \n",
    "\n",
    "inCov = keras.Input(shape = standAgeTr.shape[1:])\n",
    "outCov = VimltsLinear(units=1,\n",
    "                      activation=tf.keras.activations.linear,\n",
    "                      num_samples=1000,\n",
    "                      size = 21200,\n",
    "                      **vimlts_initializersLinearShift,\n",
    "                      prior_dist=prior_dist)(inCov)\n",
    "\n",
    "LS_NN = keras.Model(inputs = inCov, outputs = outCov,name=\"LSx\" )\n",
    "LS_NN.summary()"
   ]
  },
  {
   "cell_type": "code",
   "execution_count": 32,
   "metadata": {},
   "outputs": [
    {
     "name": "stdout",
     "output_type": "stream",
     "text": [
      "Model: \"model\"\n",
      "__________________________________________________________________________________________________\n",
      "Layer (type)                    Output Shape         Param #     Connected to                     \n",
      "==================================================================================================\n",
      "input_7 (InputLayer)            [(None, 1)]          0                                            \n",
      "__________________________________________________________________________________________________\n",
      "input_8 (InputLayer)            [(None, 1)]          0                                            \n",
      "__________________________________________________________________________________________________\n",
      "vimlts_linear_2 (VimltsLinear)  (1000, None, 1)      55          input_7[0][0]                    \n",
      "__________________________________________________________________________________________________\n",
      "vimlts_linear_3 (VimltsLinear)  (1000, None, 1)      55          input_8[0][0]                    \n",
      "__________________________________________________________________________________________________\n",
      "add (Add)                       (1000, None, 1)      0           vimlts_linear_2[0][0]            \n",
      "                                                                 vimlts_linear_3[0][0]            \n",
      "__________________________________________________________________________________________________\n",
      "tf.math.sigmoid (TFOpLambda)    (1000, None, 1)      0           add[0][0]                        \n",
      "==================================================================================================\n",
      "Total params: 110\n",
      "Trainable params: 110\n",
      "Non-trainable params: 0\n",
      "__________________________________________________________________________________________________\n"
     ]
    }
   ],
   "source": [
    "# define model\n",
    "SI_LSx2 = modelOn(SI_NN,LS_NN)\n",
    "SI_LSx2.compile(loss=sample_bernoulli_nll, optimizer=Adam(1e-4),run_eagerly=False)\n",
    "SI_LSx2.summary()"
   ]
  },
  {
   "cell_type": "markdown",
   "metadata": {},
   "source": [
    "#### Train model"
   ]
  },
  {
   "cell_type": "code",
   "execution_count": null,
   "metadata": {},
   "outputs": [],
   "source": [
    "results = SI_LSx2.fit(x=[np.ones((y_train.shape[0], 1)), standAge],\n",
    "                        y = y_train,\n",
    "                        validation_data = ([np.ones((y_valid.shape[0], 1)), standAgeValid], y_valid),\n",
    "                        batch_size=256,\n",
    "                        epochs = 3000,\n",
    "                        verbose= True,\n",
    "                       )    "
   ]
  },
  {
   "cell_type": "code",
   "execution_count": null,
   "metadata": {},
   "outputs": [],
   "source": [
    "### save model weights\n",
    "#SI_LSx2.save_weights(\"../thesis/models/VITM-TabularComponents\", save_format =\"tf\")\n",
    "## save linear shift weights\n",
    "#LS_NN.save_weights(\"../thesis/models/VITM-TabularComponentsTab\", save_format =\"tf\")"
   ]
  },
  {
   "cell_type": "markdown",
   "metadata": {},
   "source": [
    "#### Load model"
   ]
  },
  {
   "cell_type": "code",
   "execution_count": 33,
   "metadata": {},
   "outputs": [],
   "source": [
    "SI_LSx2.compile(optimizer=Adam(lr=1e-4), loss=sample_bernoulli_nll, run_eagerly=False)\n",
    "\n",
    "### load the state of the old model\n",
    "SI_LSx2.load_weights(\"../thesis/models/VITM-TabularComponents\")\n",
    "### load LS NN\n",
    "LS_NN.load_weights(\"../thesis/models/VITM-TabularComponentsTab\")\n",
    "\n",
    "### posterior distribution of slope\n",
    "layer = LS_NN.layers[1]\n",
    "qw_LS2, w_LS2 = layer.get_w_dist()"
   ]
  },
  {
   "cell_type": "markdown",
   "metadata": {},
   "source": [
    "#### Check performance if it is the same as previous model"
   ]
  },
  {
   "cell_type": "code",
   "execution_count": 34,
   "metadata": {},
   "outputs": [],
   "source": [
    "xtest= [np.ones((y_test.shape[0], 1)), standAgeTe]\n",
    "y_predsA = SI_LSx2.predict(xtest,batch_size=1)\n",
    "samplesAllData = y_predsA.reshape(-1, 1000)\n",
    "meanpred = samplesAllData.mean(axis=1)\n",
    "\n",
    "predictions=meanpred.reshape(6626,1)\n",
    "\n",
    "y_predictions_2p5Tab=np.quantile(samplesAllData,0.025,axis=1)\n",
    "y_predictions_97p5Tab=np.quantile(samplesAllData,0.975,axis=1)"
   ]
  },
  {
   "cell_type": "code",
   "execution_count": 35,
   "metadata": {},
   "outputs": [
    {
     "data": {
      "text/plain": [
       "-0.08499371333286271"
      ]
     },
     "execution_count": 35,
     "metadata": {},
     "output_type": "execute_result"
    }
   ],
   "source": [
    "# logscore\n",
    "logScore(y_test,predictions)"
   ]
  },
  {
   "cell_type": "code",
   "execution_count": 36,
   "metadata": {},
   "outputs": [
    {
     "name": "stdout",
     "output_type": "stream",
     "text": [
      "AUC=0.66, 95% CI: 0.61-0.71\n"
     ]
    }
   ],
   "source": [
    "###AUC\n",
    "score, ci_lower, ci_upper, scores =score_ci(y_test, meanpred, score_fun=roc_auc_score)\n",
    "print(\"AUC={:.2f}, 95% CI: {:.2f}-{:.2f}\".format(score, ci_lower, ci_upper))"
   ]
  },
  {
   "cell_type": "markdown",
   "metadata": {},
   "source": [
    "## Posterior predictive distribution\n",
    "#### 1. Outcome of logit model \n",
    "#### 2. Probabilites after sigmoid"
   ]
  },
  {
   "cell_type": "markdown",
   "metadata": {},
   "source": [
    "#### Data preparation"
   ]
  },
  {
   "cell_type": "code",
   "execution_count": 37,
   "metadata": {},
   "outputs": [],
   "source": [
    "# OOD for standardized age \n",
    "oodTabNegative = np.arange(-10, -4, 0.1)\n",
    "oodTabPositive = np.arange(4, 10, 0.1)\n",
    "oodTab = [*oodTabNegative, *oodTabPositive]\n",
    "oods = pd.DataFrame(oodTab)\n",
    "\n",
    "sortX = standAgeTe[0:120].sort_values(\"age\", ascending = True)\n",
    "data = []\n",
    "\n",
    "# extreme value -10,10\n",
    "\n",
    "data.insert(0, {'age': -10})\n",
    "data.insert(0, {'age': 10})\n",
    "negative=pd.DataFrame(oodTabNegative)\n",
    "r=oods.rename(columns={0: 'age'})\n",
    "s =pd.concat([pd.DataFrame(data), sortX,r], ignore_index=False) # does not save changes to the original dataframe\n",
    "sortAgeTest = s.sort_values(\"age\", ascending = True)\n"
   ]
  },
  {
   "cell_type": "markdown",
   "metadata": {},
   "source": [
    "# PPD "
   ]
  },
  {
   "cell_type": "code",
   "execution_count": 38,
   "metadata": {},
   "outputs": [
    {
     "name": "stderr",
     "output_type": "stream",
     "text": [
      "100%|███████████████████████████████████████| 1000/1000 [00:23<00:00, 42.74it/s]\n"
     ]
    }
   ],
   "source": [
    "preds_list = [] \n",
    "xtestOO= [np.ones((sortAgeTest.shape[0], 1)), sortAgeTest]\n",
    "\n",
    "\n",
    "# Iterate over number of predictions\n",
    "for i in tqdm.tqdm(range(1000)):\n",
    "    y_pred_VIMLTS = SI_LSx2.predict(xtestOO,batch_size=242)[0]\n",
    "    preds_list.append(y_pred_VIMLTS)\n",
    "\n",
    "y_preds = np.concatenate(preds_list, axis=1)\n",
    "y_predictions_mean=np.mean(y_preds,axis=1)\n",
    "y_predictions_2p5=np.quantile(y_preds,0.025,axis=1)\n",
    "y_predictions_97p5=np.quantile(y_preds,0.975,axis=1)"
   ]
  },
  {
   "cell_type": "code",
   "execution_count": 39,
   "metadata": {},
   "outputs": [
    {
     "name": "stderr",
     "output_type": "stream",
     "text": [
      "100%|███████████████████████████████████████| 1000/1000 [00:23<00:00, 43.29it/s]\n"
     ]
    }
   ],
   "source": [
    "##logit \n",
    "# VIMLTS\n",
    "preds_listOdds = []\n",
    "xtestOO= [np.ones((sortAgeTest.shape[0], 1)), sortAgeTest]\n",
    "intermediate_layer_model = Model(inputs=SI_LSx2.input, outputs=SI_LSx2.layers[4].output)\n",
    "\n",
    "# Iterate over number of predictions\n",
    "for i in tqdm.tqdm(range(1000)):\n",
    "    y_pred_VIMLTSOdds = intermediate_layer_model.predict(xtestOO,batch_size=242)[0]\n",
    "    preds_listOdds.append(y_pred_VIMLTSOdds)\n",
    "\n",
    "y_predsOdds = np.concatenate(preds_listOdds, axis=1)\n",
    "y_predictionsOdds_mean=np.mean(y_predsOdds,axis=1)\n",
    "y_predictions_2p5Odds=np.quantile(y_predsOdds,0.025,axis=1)\n",
    "y_predictions_97p5Odds=np.quantile(y_predsOdds,0.975,axis=1)"
   ]
  },
  {
   "cell_type": "markdown",
   "metadata": {},
   "source": [
    "#### Plot Oucome distirbution and PPD"
   ]
  },
  {
   "cell_type": "code",
   "execution_count": 40,
   "metadata": {},
   "outputs": [
    {
     "data": {
      "image/png": "[encoded data removed]",
      "text/plain": [
       "<Figure size 1440x576 with 2 Axes>"
      ]
     },
     "metadata": {
      "needs_background": "light"
     },
     "output_type": "display_data"
    }
   ],
   "source": [
    "fig = plt.figure(figsize=(20,8))\n",
    "\n",
    "plt.rcParams.update(({'font.size': 30}))\n",
    "fig.add_subplot(121)\n",
    "plt.fill_between(sortAgeTest.values.reshape(-1),y_predictions_97p5Odds,y_predictions_2p5Odds, \n",
    "                color='blue', alpha=0.08, label=(r\"95% PI\"))\n",
    "plt.plot(sortAgeTest.values.reshape(-1),y_predictionsOdds_mean, color='black' ,label=(\"TM-VI \\nmean\"))\n",
    "\n",
    "plt.plot(sortAgeTest.values.reshape(-1),y_predictions_2p5Odds, color='grey',linewidth=3,linestyle=(0, (3, 1, 1, 1, 1, 1)))\n",
    "plt.plot(sortAgeTest.values.reshape(-1),y_predictions_97p5Odds, color='grey',linewidth=3,linestyle=(0, (3, 1, 1, 1, 1, 1)))\n",
    "plt.text(-14.5, 5.5,\"A\", \n",
    "            size=30, weight='bold')\n",
    "plt.axvline(-3, 0, 1, label='ID',linestyle=\"dotted\",color=\"orange\")\n",
    "plt.axvline(3, 0, 1,linestyle=\"dotted\",color=\"orange\")\n",
    "\n",
    "plt.legend(fontsize=25)\n",
    "plt.xlabel(\"standardized age\")\n",
    "plt.ylabel(\"$z$\")\n",
    "plt.yticks(np.arange(-15, 10, step=5))\n",
    "plt.xticks(np.arange(-10, 15, step=5))\n",
    "\n",
    "fig.add_subplot(122)\n",
    "plt.fill_between(sortAgeTest.values.reshape(-1),y_predictions_97p5,y_predictions_2p5, \n",
    "                color='blue', alpha=0.08, label=(r\"95% PI\"))\n",
    "plt.plot(sortAgeTest.values.reshape(-1),y_predictions_mean, color='black' ,label=(\"TM-VI \\nmean\"))\n",
    "plt.plot(sortAgeTest.values.reshape(-1),y_predictions_2p5, color='grey',linewidth=3,linestyle=(0, (3, 1, 1, 1, 1, 1)))\n",
    "plt.plot(sortAgeTest.values.reshape(-1),y_predictions_97p5, color='grey',linewidth=3,linestyle=(0, (3, 1, 1, 1, 1, 1)))\n",
    "plt.scatter(standAgeTest,y_test, color='orange', s=10,alpha=0.5,label=\"Test data\")\n",
    "plt.text(-14.5, 1.07,\"B\", \n",
    "            size=30, weight='bold')\n",
    "plt.legend(loc=\"center left\",fontsize=25)\n",
    "plt.xlabel(\"standardized age\")\n",
    "plt.ylabel(\"$p (y=1|x)$\")\n",
    "plt.yticks(np.arange(0., 1.2, step=0.2))\n",
    "plt.xticks(np.arange(-10, 15, step=5))\n",
    "\n",
    "fig.tight_layout(pad=1.5)\n",
    "#plt.savefig(\"./plots/uncertainty/TabularPPD.pdf\")"
   ]
  },
  {
   "cell_type": "code",
   "execution_count": 41,
   "metadata": {},
   "outputs": [
    {
     "data": {
      "application/json": {
       "Software versions": [
        {
         "module": "Python",
         "version": "3.9.7 64bit [GCC 7.5.0]"
        },
        {
         "module": "IPython",
         "version": "7.27.0"
        },
        {
         "module": "OS",
         "version": "Linux 5.8.0 63 generic x86_64 with glibc2.32"
        },
        {
         "module": "tensorflow",
         "version": "2.4.1"
        },
        {
         "module": "numpy",
         "version": "1.21.2"
        },
        {
         "module": "pandas",
         "version": "1.3.3"
        },
        {
         "module": "matplotlib",
         "version": "3.4.3"
        },
        {
         "module": "seaborn",
         "version": "0.11.2"
        }
       ]
      },
      "text/html": [
       "<table><tr><th>Software</th><th>Version</th></tr><tr><td>Python</td><td>3.9.7 64bit [GCC 7.5.0]</td></tr><tr><td>IPython</td><td>7.27.0</td></tr><tr><td>OS</td><td>Linux 5.8.0 63 generic x86\\_64 with glibc2.32</td></tr><tr><td>tensorflow</td><td>2.4.1</td></tr><tr><td>numpy</td><td>1.21.2</td></tr><tr><td>pandas</td><td>1.3.3</td></tr><tr><td>matplotlib</td><td>3.4.3</td></tr><tr><td>seaborn</td><td>0.11.2</td></tr><tr><td colspan='2'>Mon Nov 29 17:57:15 2021 CET</td></tr></table>"
      ],
      "text/latex": [
       "\\begin{tabular}{|l|l|}\\hline\n",
       "{\\bf Software} & {\\bf Version} \\\\ \\hline\\hline\n",
       "Python & 3.9.7 64bit [GCC 7.5.0] \\\\ \\hline\n",
       "IPython & 7.27.0 \\\\ \\hline\n",
       "OS & Linux 5.8.0 63 generic x86\\_64 with glibc2.32 \\\\ \\hline\n",
       "tensorflow & 2.4.1 \\\\ \\hline\n",
       "numpy & 1.21.2 \\\\ \\hline\n",
       "pandas & 1.3.3 \\\\ \\hline\n",
       "matplotlib & 3.4.3 \\\\ \\hline\n",
       "seaborn & 0.11.2 \\\\ \\hline\n",
       "\\hline \\multicolumn{2}{|l|}{Mon Nov 29 17:57:15 2021 CET} \\\\ \\hline\n",
       "\\end{tabular}\n"
      ],
      "text/plain": [
       "Software versions\n",
       "Python 3.9.7 64bit [GCC 7.5.0]\n",
       "IPython 7.27.0\n",
       "OS Linux 5.8.0 63 generic x86_64 with glibc2.32\n",
       "tensorflow 2.4.1\n",
       "numpy 1.21.2\n",
       "pandas 1.3.3\n",
       "matplotlib 3.4.3\n",
       "seaborn 0.11.2\n",
       "Mon Nov 29 17:57:15 2021 CET"
      ]
     },
     "execution_count": 41,
     "metadata": {},
     "output_type": "execute_result"
    }
   ],
   "source": [
    "%reload_ext version_information\n",
    "%version_information tensorflow,numpy, pandas, matplotlib, seaborn"
   ]
  }
 ],
 "metadata": {
  "interpreter": {
   "hash": "0288ab4f19d6987ea2f50a7645b0e5f094734e2743686dabe7386fd0f317d35b"
  },
  "kernelspec": {
   "display_name": "tfEnv2",
   "language": "python",
   "name": "tfenv2"
  },
  "language_info": {
   "codemirror_mode": {
    "name": "ipython",
    "version": 3
   },
   "file_extension": ".py",
   "mimetype": "text/x-python",
   "name": "python",
   "nbconvert_exporter": "python",
   "pygments_lexer": "ipython3",
   "version": "3.9.7"
  }
 },
 "nbformat": 4,
 "nbformat_minor": 4
}
