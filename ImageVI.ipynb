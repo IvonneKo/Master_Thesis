{
 "cells": [
  {
   "cell_type": "markdown",
   "metadata": {},
   "source": [
    "# Bayes models\n",
    "#### Transformation model based variational inference (TM-VI)\n",
    "#### Image data: CIb model , compare MF-Gaussian-VI with MF-TM-VI (last layer FCNN)"
   ]
  },
  {
   "cell_type": "code",
   "execution_count": 68,
   "metadata": {},
   "outputs": [
    {
     "name": "stdout",
     "output_type": "stream",
     "text": [
      "The autoreload extension is already loaded. To reload it, use:\n",
      "  %reload_ext autoreload\n",
      "Num GPUs Available:  1\n"
     ]
    }
   ],
   "source": [
    "# packages\n",
    "\n",
    "import warnings\n",
    "warnings.filterwarnings('ignore')\n",
    "warnings.simplefilter('ignore')\n",
    "import tensorflow as tf\n",
    "from PIL import Image\n",
    "import pandas as pd\n",
    "import numpy as np\n",
    "import matplotlib.pyplot as plt\n",
    "import os\n",
    "from tensorflow import keras\n",
    "import seaborn as sns\n",
    "from numpy.random import seed\n",
    "from tensorflow.keras import backend as K\n",
    "from tensorflow.keras.optimizers import Adam, RMSprop\n",
    "from tensorflow.keras import initializers\n",
    "from tensorflow.keras.models import Model\n",
    "from tensorflow_probability import distributions as tfd\n",
    "from tensorflow.keras.callbacks import EarlyStopping\n",
    "from tensorflow.keras.preprocessing.image import ImageDataGenerator, load_img, img_to_array, array_to_img, save_img\n",
    "from tensorflow.keras import layers\n",
    "from functions.scoreCI import score_ci\n",
    "from tensorflow.keras import regularizers\n",
    "%load_ext autoreload\n",
    "%autoreload 2\n",
    "import glob\n",
    "from functions.vimlts import VimltsLinear,DenseViGauss \n",
    "from functions.sample_bernoulli_nll import sample_bernoulli_nll\n",
    "\n",
    "from sklearn import preprocessing\n",
    "from sklearn.metrics import roc_auc_score\n",
    "\n",
    "print(\"Num GPUs Available: \", len(tf.config.experimental.list_physical_devices('GPU')))\n"
   ]
  },
  {
   "cell_type": "code",
   "execution_count": 3,
   "metadata": {},
   "outputs": [],
   "source": [
    "## add resize images and add path to patient\n",
    "dat = pd.read_csv('../MA/patientData.csv')\n",
    "train_dir = \"../MA/trainRes/\"\n",
    "dat['path'] = train_dir + dat.image_name + \".jpg\"\n"
   ]
  },
  {
   "cell_type": "code",
   "execution_count": 4,
   "metadata": {},
   "outputs": [
    {
     "name": "stdout",
     "output_type": "stream",
     "text": [
      "(21200,) (5300,) (6626,)\n"
     ]
    }
   ],
   "source": [
    "np.random.seed(3004)\n",
    "idx = np.arange(len(dat))\n",
    "np.random.shuffle(idx)\n",
    "\n",
    "\n",
    "train_idx = idx[:int(len(dat)*0.8)] # 80% training\n",
    "test_idx = idx[int(len(dat)*0.8):] # 20% test\n",
    "valid_idx = train_idx[:int(len(train_idx)*0.2)] # 20% of training as validation\n",
    "train_idx = train_idx[int(len(train_idx)*0.2):]\n",
    "print(train_idx.shape, valid_idx.shape, test_idx.shape)"
   ]
  },
  {
   "cell_type": "code",
   "execution_count": 8,
   "metadata": {},
   "outputs": [
    {
     "name": "stdout",
     "output_type": "stream",
     "text": [
      "(21200, 9) (5300, 9) (6626, 9)\n"
     ]
    }
   ],
   "source": [
    "X_train = dat.iloc[train_idx]\n",
    "X_valid= dat.iloc[valid_idx]\n",
    "X_test= dat.iloc[test_idx]\n",
    "print(X_train.shape, X_valid.shape, X_test.shape)"
   ]
  },
  {
   "cell_type": "code",
   "execution_count": 5,
   "metadata": {},
   "outputs": [
    {
     "name": "stdout",
     "output_type": "stream",
     "text": [
      "(21200, 1) (5300, 1) (6626, 1)\n"
     ]
    }
   ],
   "source": [
    "y_train = dat.iloc[train_idx]\n",
    "y_train = y_train.loc[:, y_train.columns.intersection(['target'])]\n",
    "y_valid= dat.iloc[valid_idx]\n",
    "y_valid = y_valid.loc[:, y_train.columns.intersection(['target'])]\n",
    "y_test= dat.iloc[test_idx]\n",
    "y_test = y_test.loc[:, y_train.columns.intersection(['target'])]\n",
    "print(y_train.shape, y_valid.shape, y_test.shape)"
   ]
  },
  {
   "cell_type": "code",
   "execution_count": 9,
   "metadata": {},
   "outputs": [
    {
     "name": "stdout",
     "output_type": "stream",
     "text": [
      "Train dataset shape: (21200, 128, 128, 3) \tValidation dataset shape: (5300, 128, 128, 3) \\Test dataset shape: (6626, 128, 128, 3)\n"
     ]
    }
   ],
   "source": [
    "# save image path\n",
    "train_files = X_train.path\n",
    "val_files = X_valid.path\n",
    "test_files = X_test.path\n",
    "\n",
    "# img_to_array image als array transformieren\n",
    "train_imgs = [img_to_array(load_img(img)) for img in train_files]\n",
    "validation_imgs = [img_to_array(load_img(img)) for img in val_files]\n",
    "test_imgs = [img_to_array(load_img(img)) for img in test_files]\n",
    "\n",
    "train_imgs = np.array(train_imgs)\n",
    "train_labels = y_train\n",
    "\n",
    "validation_imgs = np.array(validation_imgs)\n",
    "val_labels = y_valid\n",
    "#\n",
    "test_imgs = np.array(test_imgs)\n",
    "test_labels = y_test\n",
    "\n",
    "\n",
    "print('Train dataset shape:', train_imgs.shape, \n",
    "      '\\tValidation dataset shape:', validation_imgs.shape,\n",
    "     '\\Test dataset shape:', test_imgs.shape)"
   ]
  },
  {
   "cell_type": "code",
   "execution_count": 10,
   "metadata": {},
   "outputs": [],
   "source": [
    "#scale pixel zwischen 0 und 1\n",
    "\n",
    "train_imgs_scaled = train_imgs.astype('float32')\n",
    "validation_imgs_scaled  = validation_imgs.astype('float32')\n",
    "test_imgs_scaled  = test_imgs.astype('float32')\n",
    "train_labels = train_labels.astype(\"float32\")\n",
    "val_labels = val_labels.astype(\"float32\")\n",
    "val_labels = val_labels.astype(\"float32\")\n",
    "train_imgs_scaled /= 255\n",
    "validation_imgs_scaled /= 255\n",
    "test_imgs_scaled /= 255\n",
    "\n",
    "#plt.imshow(train_imgs_scaled[0])\n"
   ]
  },
  {
   "cell_type": "code",
   "execution_count": 11,
   "metadata": {},
   "outputs": [],
   "source": [
    "def softplus_inv(y):\n",
    "    return np.log(np.exp(y) - 1)\n",
    "\n",
    "# Log-Score   \n",
    "def logScore(y_obs, y_pred):\n",
    "    likelihoodElements= (y_obs*np.log(y_pred) + (1 - y_obs)*np.log(1 - y_pred))\n",
    "    logScore = np.mean(likelihoodElements)\n",
    "    return logScore.values[0]\n",
    "\n",
    "\n",
    "#combine two components\n",
    "def modelOn(X):\n",
    "    added = X.layers[14].output   ## before sigmoid to obtain eta(B)\n",
    "    out = tf.math.sigmoid(added)\n",
    "    model1 = keras.Model(inputs = X.input, outputs = out, name='model_XXX')\n",
    "    return model1 \n",
    "    \n",
    "prior_dist=tfd.Normal(loc=0.,scale=1.)"
   ]
  },
  {
   "cell_type": "markdown",
   "metadata": {},
   "source": [
    "## Gauß-VI last-layer eta Bild"
   ]
  },
  {
   "cell_type": "code",
   "execution_count": 12,
   "metadata": {},
   "outputs": [
    {
     "name": "stdout",
     "output_type": "stream",
     "text": [
      "Model: \"model\"\n",
      "_________________________________________________________________\n",
      "Layer (type)                 Output Shape              Param #   \n",
      "=================================================================\n",
      "inImg (InputLayer)           [(None, 128, 128, 3)]     0         \n",
      "_________________________________________________________________\n",
      "conv2d (Conv2D)              (None, 128, 128, 32)      896       \n",
      "_________________________________________________________________\n",
      "max_pooling2d (MaxPooling2D) (None, 64, 64, 32)        0         \n",
      "_________________________________________________________________\n",
      "conv2d_1 (Conv2D)            (None, 64, 64, 32)        9248      \n",
      "_________________________________________________________________\n",
      "max_pooling2d_1 (MaxPooling2 (None, 32, 32, 32)        0         \n",
      "_________________________________________________________________\n",
      "conv2d_2 (Conv2D)            (None, 32, 32, 64)        18496     \n",
      "_________________________________________________________________\n",
      "max_pooling2d_2 (MaxPooling2 (None, 16, 16, 64)        0         \n",
      "_________________________________________________________________\n",
      "conv2d_3 (Conv2D)            (None, 16, 16, 64)        36928     \n",
      "_________________________________________________________________\n",
      "max_pooling2d_3 (MaxPooling2 (None, 8, 8, 64)          0         \n",
      "_________________________________________________________________\n",
      "conv2d_4 (Conv2D)            (None, 8, 8, 128)         73856     \n",
      "_________________________________________________________________\n",
      "max_pooling2d_4 (MaxPooling2 (None, 4, 4, 128)         0         \n",
      "_________________________________________________________________\n",
      "flatten (Flatten)            (None, 2048)              0         \n",
      "_________________________________________________________________\n",
      "dense (Dense)                (None, 128)               262272    \n",
      "_________________________________________________________________\n",
      "dense_1 (Dense)              (None, 128)               16512     \n",
      "_________________________________________________________________\n",
      "dense_vi_gauss (DenseViGauss (1000, None, 1)           256       \n",
      "=================================================================\n",
      "Total params: 418,464\n",
      "Trainable params: 418,464\n",
      "Non-trainable params: 0\n",
      "_________________________________________________________________\n"
     ]
    }
   ],
   "source": [
    "## Complex shift image\n",
    "from tensorflow.keras import regularizers\n",
    "\n",
    "    \n",
    "in_ = keras.Input(shape = (128,128,3), name = \"inImg\")\n",
    "x = layers.Convolution2D(32, kernel_size=(3, 3), padding = 'same', \n",
    "                             activation = 'tanh')(in_)\n",
    "x = layers.MaxPooling2D(pool_size=(2, 2))(x) \n",
    "x = layers.Convolution2D(32, kernel_size=(3, 3), padding = 'same', \n",
    "                             activation = 'tanh')(x)\n",
    "x = layers.MaxPooling2D(pool_size=(2, 2))(x)\n",
    "x = layers.Convolution2D(64, kernel_size=(3, 3), padding = 'same', \n",
    "                             activation = 'tanh')(x)\n",
    "x = layers.MaxPooling2D(pool_size=(2, 2))(x)\n",
    "x = layers.Convolution2D(64, kernel_size=(3, 3,), padding = 'same', \n",
    "                             activation = 'tanh')(x)\n",
    "x = layers.MaxPooling2D(pool_size=(2, 2))(x)\n",
    "x = layers.Convolution2D(128, kernel_size=(3, 3), padding = 'same', \n",
    "                             activation = 'tanh')(x)\n",
    "x = layers.MaxPooling2D(pool_size=(2, 2))(x)\n",
    "x = layers.Flatten()(x)\n",
    "x = layers.Dense(128, activation = 'tanh',kernel_regularizer=regularizers.l2(0.01), ##numerical stability\n",
    "                activity_regularizer=regularizers.l2(0.01))(x)\n",
    "x = layers.Dense(128, activation = 'tanh',kernel_regularizer=regularizers.l2(0.01),\n",
    "                activity_regularizer=regularizers.l2(0.01))(x)\n",
    "out= DenseViGauss(units=1,\n",
    "                      activation=tf.keras.activations.linear,\n",
    "                      num_samples=1000,     \n",
    "                      prior_dist=prior_dist)(x)\n",
    "\n",
    "nn_imG = keras.Model (inputs = in_, outputs = out)\n",
    "nn_imG.summary()"
   ]
  },
  {
   "cell_type": "code",
   "execution_count": 13,
   "metadata": {},
   "outputs": [],
   "source": [
    "\n",
    "nn_image = modelOn(nn_imG)\n",
    "nn_image.compile(optimizer=Adam(1e-4), loss=sample_bernoulli_nll, run_eagerly=False)  ##adamle-5"
   ]
  },
  {
   "cell_type": "markdown",
   "metadata": {},
   "source": [
    "#### Train model"
   ]
  },
  {
   "cell_type": "code",
   "execution_count": 11,
   "metadata": {},
   "outputs": [
    {
     "name": "stdout",
     "output_type": "stream",
     "text": [
      "Epoch 1/100\n",
      "WARNING:tensorflow:AutoGraph could not transform <function sample_bernoulli_nll at 0x7f00642e75e0> and will run it as-is.\n",
      "Please report this to the TensorFlow team. When filing the bug, set the verbosity to 10 (on Linux, `export AUTOGRAPH_VERBOSITY=10`) and attach the full output.\n",
      "Cause: module 'gast' has no attribute 'Index'\n",
      "To silence this warning, decorate the function with @tf.autograph.experimental.do_not_convert\n",
      "WARNING: AutoGraph could not transform <function sample_bernoulli_nll at 0x7f00642e75e0> and will run it as-is.\n",
      "Please report this to the TensorFlow team. When filing the bug, set the verbosity to 10 (on Linux, `export AUTOGRAPH_VERBOSITY=10`) and attach the full output.\n",
      "Cause: module 'gast' has no attribute 'Index'\n",
      "To silence this warning, decorate the function with @tf.autograph.experimental.do_not_convert\n"
     ]
    },
    {
     "name": "stderr",
     "output_type": "stream",
     "text": [
      "2021-11-19 11:05:59.214826: W tensorflow/core/framework/cpu_allocator_impl.cc:80] Allocation of 4168089600 exceeds 10% of free system memory.\n",
      "2021-11-19 11:06:00.532999: I tensorflow/compiler/mlir/mlir_graph_optimization_pass.cc:116] None of the MLIR optimization passes are enabled (registered 2)\n",
      "2021-11-19 11:06:00.552145: I tensorflow/core/platform/profile_utils/cpu_utils.cc:112] CPU Frequency: 2899885000 Hz\n",
      "2021-11-19 11:06:01.187271: I tensorflow/stream_executor/platform/default/dso_loader.cc:49] Successfully opened dynamic library libcublas.so.10\n",
      "2021-11-19 11:06:01.404876: I tensorflow/stream_executor/platform/default/dso_loader.cc:49] Successfully opened dynamic library libcudnn.so.7\n",
      "2021-11-19 11:06:02.504244: W tensorflow/stream_executor/gpu/asm_compiler.cc:63] Running ptxas --version returned 256\n",
      "2021-11-19 11:06:02.692655: W tensorflow/stream_executor/gpu/redzone_allocator.cc:314] Internal: ptxas exited with non-zero error code 256, output: \n",
      "Relying on driver to perform ptx compilation. \n",
      "Modify $PATH to customize ptxas location.\n",
      "This message will be only logged once.\n"
     ]
    },
    {
     "name": "stdout",
     "output_type": "stream",
     "text": [
      "83/83 [==============================] - 84s 623ms/step - loss: 4.2954 - val_loss: 3.6979\n",
      "Epoch 2/100\n",
      "83/83 [==============================] - 6s 74ms/step - loss: 3.5204 - val_loss: 3.0225\n",
      "Epoch 3/100\n",
      "83/83 [==============================] - 6s 74ms/step - loss: 2.8768 - val_loss: 2.4727\n",
      "Epoch 4/100\n",
      "83/83 [==============================] - 6s 75ms/step - loss: 2.3582 - val_loss: 2.0430\n",
      "Epoch 5/100\n",
      "83/83 [==============================] - 6s 75ms/step - loss: 1.9542 - val_loss: 1.7104\n",
      "Epoch 6/100\n",
      "83/83 [==============================] - 6s 74ms/step - loss: 1.6380 - val_loss: 1.4433\n",
      "Epoch 7/100\n",
      "83/83 [==============================] - 6s 75ms/step - loss: 1.3851 - val_loss: 1.2230\n",
      "Epoch 8/100\n",
      "83/83 [==============================] - 6s 74ms/step - loss: 1.1772 - val_loss: 1.0378\n",
      "Epoch 9/100\n",
      "83/83 [==============================] - 6s 75ms/step - loss: 1.0007 - val_loss: 0.8846\n",
      "Epoch 10/100\n",
      "83/83 [==============================] - 6s 75ms/step - loss: 0.8523 - val_loss: 0.7590\n",
      "Epoch 11/100\n",
      "83/83 [==============================] - 6s 75ms/step - loss: 0.7333 - val_loss: 0.6554\n",
      "Epoch 12/100\n",
      "83/83 [==============================] - 6s 75ms/step - loss: 0.6345 - val_loss: 0.5683\n",
      "Epoch 13/100\n",
      "83/83 [==============================] - 6s 75ms/step - loss: 0.5548 - val_loss: 0.4988\n",
      "Epoch 14/100\n",
      "83/83 [==============================] - 6s 75ms/step - loss: 0.4858 - val_loss: 0.4430\n",
      "Epoch 15/100\n",
      "83/83 [==============================] - 6s 75ms/step - loss: 0.4310 - val_loss: 0.3968\n",
      "Epoch 16/100\n",
      "83/83 [==============================] - 6s 75ms/step - loss: 0.3899 - val_loss: 0.3635\n",
      "Epoch 17/100\n",
      "83/83 [==============================] - 6s 75ms/step - loss: 0.3517 - val_loss: 0.3304\n",
      "Epoch 18/100\n",
      "83/83 [==============================] - 6s 75ms/step - loss: 0.3214 - val_loss: 0.3037\n",
      "Epoch 19/100\n",
      "83/83 [==============================] - 6s 75ms/step - loss: 0.2987 - val_loss: 0.2797\n",
      "Epoch 20/100\n",
      "83/83 [==============================] - 6s 75ms/step - loss: 0.2725 - val_loss: 0.2657\n",
      "Epoch 21/100\n",
      "83/83 [==============================] - 6s 75ms/step - loss: 0.2559 - val_loss: 0.2468\n",
      "Epoch 22/100\n",
      "83/83 [==============================] - 6s 75ms/step - loss: 0.2431 - val_loss: 0.2317\n",
      "Epoch 23/100\n",
      "83/83 [==============================] - 6s 76ms/step - loss: 0.2295 - val_loss: 0.2220\n",
      "Epoch 24/100\n",
      "83/83 [==============================] - 6s 76ms/step - loss: 0.2176 - val_loss: 0.2104\n",
      "Epoch 25/100\n",
      "83/83 [==============================] - 6s 75ms/step - loss: 0.2070 - val_loss: 0.2017\n",
      "Epoch 26/100\n",
      "83/83 [==============================] - 6s 76ms/step - loss: 0.1997 - val_loss: 0.1963\n",
      "Epoch 27/100\n",
      "83/83 [==============================] - 6s 75ms/step - loss: 0.1911 - val_loss: 0.1902\n",
      "Epoch 28/100\n",
      "83/83 [==============================] - 6s 75ms/step - loss: 0.1887 - val_loss: 0.1817\n",
      "Epoch 29/100\n",
      "83/83 [==============================] - 6s 75ms/step - loss: 0.1775 - val_loss: 0.1754\n",
      "Epoch 30/100\n",
      "83/83 [==============================] - 6s 75ms/step - loss: 0.1798 - val_loss: 0.1728\n",
      "Epoch 31/100\n",
      "83/83 [==============================] - 6s 75ms/step - loss: 0.1694 - val_loss: 0.1697\n",
      "Epoch 32/100\n",
      "83/83 [==============================] - 6s 75ms/step - loss: 0.1729 - val_loss: 0.1640\n",
      "Epoch 33/100\n",
      "83/83 [==============================] - 6s 75ms/step - loss: 0.1610 - val_loss: 0.1591\n",
      "Epoch 34/100\n",
      "83/83 [==============================] - 6s 75ms/step - loss: 0.1594 - val_loss: 0.1566\n",
      "Epoch 35/100\n",
      "83/83 [==============================] - 6s 75ms/step - loss: 0.1550 - val_loss: 0.1534\n",
      "Epoch 36/100\n",
      "83/83 [==============================] - 6s 75ms/step - loss: 0.1514 - val_loss: 0.1528\n",
      "Epoch 37/100\n",
      "83/83 [==============================] - 6s 75ms/step - loss: 0.1531 - val_loss: 0.1467\n",
      "Epoch 38/100\n",
      "83/83 [==============================] - 6s 75ms/step - loss: 0.1422 - val_loss: 0.1455\n",
      "Epoch 39/100\n",
      "83/83 [==============================] - 6s 75ms/step - loss: 0.1430 - val_loss: 0.1420\n",
      "Epoch 40/100\n",
      "83/83 [==============================] - 6s 75ms/step - loss: 0.1389 - val_loss: 0.1395\n",
      "Epoch 41/100\n",
      "83/83 [==============================] - 6s 75ms/step - loss: 0.1366 - val_loss: 0.1375\n",
      "Epoch 42/100\n",
      "83/83 [==============================] - 6s 76ms/step - loss: 0.1393 - val_loss: 0.1343\n",
      "Epoch 43/100\n",
      "83/83 [==============================] - 6s 77ms/step - loss: 0.1394 - val_loss: 0.1330\n",
      "Epoch 44/100\n",
      "83/83 [==============================] - 6s 75ms/step - loss: 0.1319 - val_loss: 0.1305\n",
      "Epoch 45/100\n",
      "83/83 [==============================] - 6s 75ms/step - loss: 0.1279 - val_loss: 0.1288\n",
      "Epoch 46/100\n",
      "83/83 [==============================] - 6s 75ms/step - loss: 0.1287 - val_loss: 0.1270\n",
      "Epoch 47/100\n",
      "83/83 [==============================] - 6s 75ms/step - loss: 0.1246 - val_loss: 0.1250\n",
      "Epoch 48/100\n",
      "83/83 [==============================] - 6s 75ms/step - loss: 0.1282 - val_loss: 0.1234\n",
      "Epoch 49/100\n",
      "83/83 [==============================] - 6s 75ms/step - loss: 0.1203 - val_loss: 0.1217\n",
      "Epoch 50/100\n",
      "83/83 [==============================] - 6s 76ms/step - loss: 0.1220 - val_loss: 0.1197\n",
      "Epoch 51/100\n",
      "83/83 [==============================] - 6s 75ms/step - loss: 0.1226 - val_loss: 0.1181\n",
      "Epoch 52/100\n",
      "83/83 [==============================] - 6s 75ms/step - loss: 0.1164 - val_loss: 0.1169\n",
      "Epoch 53/100\n",
      "83/83 [==============================] - 6s 76ms/step - loss: 0.1173 - val_loss: 0.1169\n",
      "Epoch 54/100\n",
      "83/83 [==============================] - 6s 75ms/step - loss: 0.1120 - val_loss: 0.1146\n",
      "Epoch 55/100\n",
      "83/83 [==============================] - 6s 75ms/step - loss: 0.1151 - val_loss: 0.1135\n",
      "Epoch 56/100\n",
      "83/83 [==============================] - 6s 75ms/step - loss: 0.1180 - val_loss: 0.1123\n",
      "Epoch 57/100\n",
      "83/83 [==============================] - 6s 75ms/step - loss: 0.1122 - val_loss: 0.1116\n",
      "Epoch 58/100\n",
      "83/83 [==============================] - 6s 75ms/step - loss: 0.1108 - val_loss: 0.1105\n",
      "Epoch 59/100\n",
      "83/83 [==============================] - 6s 75ms/step - loss: 0.1102 - val_loss: 0.1108\n",
      "Epoch 60/100\n",
      "83/83 [==============================] - 6s 75ms/step - loss: 0.1091 - val_loss: 0.1091\n",
      "Epoch 61/100\n",
      "83/83 [==============================] - 6s 75ms/step - loss: 0.1055 - val_loss: 0.1104\n",
      "Epoch 62/100\n",
      "83/83 [==============================] - 6s 77ms/step - loss: 0.1150 - val_loss: 0.1097\n",
      "Epoch 63/100\n",
      "83/83 [==============================] - 6s 75ms/step - loss: 0.1082 - val_loss: 0.1079\n",
      "Epoch 64/100\n",
      "83/83 [==============================] - 6s 75ms/step - loss: 0.1049 - val_loss: 0.1069\n",
      "Epoch 65/100\n",
      "83/83 [==============================] - 6s 75ms/step - loss: 0.1059 - val_loss: 0.1063\n",
      "Epoch 66/100\n",
      "83/83 [==============================] - 6s 75ms/step - loss: 0.1008 - val_loss: 0.1055\n",
      "Epoch 67/100\n",
      "83/83 [==============================] - 6s 75ms/step - loss: 0.1011 - val_loss: 0.1055\n",
      "Epoch 68/100\n",
      "83/83 [==============================] - 6s 75ms/step - loss: 0.1018 - val_loss: 0.1078\n",
      "Epoch 69/100\n",
      "83/83 [==============================] - 6s 75ms/step - loss: 0.1030 - val_loss: 0.1045\n",
      "Epoch 70/100\n",
      "83/83 [==============================] - 6s 75ms/step - loss: 0.1013 - val_loss: 0.1040\n",
      "Epoch 71/100\n",
      "83/83 [==============================] - 6s 75ms/step - loss: 0.0983 - val_loss: 0.1033\n",
      "Epoch 72/100\n",
      "83/83 [==============================] - 6s 75ms/step - loss: 0.0982 - val_loss: 0.1048\n",
      "Epoch 73/100\n",
      "83/83 [==============================] - 6s 75ms/step - loss: 0.0964 - val_loss: 0.1023\n",
      "Epoch 74/100\n",
      "83/83 [==============================] - 6s 75ms/step - loss: 0.0977 - val_loss: 0.1050\n",
      "Epoch 75/100\n",
      "83/83 [==============================] - 6s 75ms/step - loss: 0.1025 - val_loss: 0.1026\n",
      "Epoch 76/100\n",
      "83/83 [==============================] - 6s 75ms/step - loss: 0.0996 - val_loss: 0.1012\n",
      "Epoch 77/100\n",
      "83/83 [==============================] - 6s 75ms/step - loss: 0.0934 - val_loss: 0.1009\n",
      "Epoch 78/100\n",
      "83/83 [==============================] - 6s 75ms/step - loss: 0.0990 - val_loss: 0.1007\n",
      "Epoch 79/100\n",
      "83/83 [==============================] - 6s 75ms/step - loss: 0.0998 - val_loss: 0.1028\n",
      "Epoch 80/100\n",
      "83/83 [==============================] - 6s 75ms/step - loss: 0.0974 - val_loss: 0.0995s - ETA: 0s - loss:\n",
      "Epoch 81/100\n",
      "83/83 [==============================] - 6s 77ms/step - loss: 0.0955 - val_loss: 0.0999\n",
      "Epoch 82/100\n"
     ]
    },
    {
     "name": "stdout",
     "output_type": "stream",
     "text": [
      "83/83 [==============================] - 6s 76ms/step - loss: 0.0960 - val_loss: 0.1005\n",
      "Epoch 83/100\n",
      "83/83 [==============================] - 6s 75ms/step - loss: 0.0958 - val_loss: 0.0987\n",
      "Epoch 84/100\n",
      "83/83 [==============================] - 6s 75ms/step - loss: 0.0939 - val_loss: 0.0983\n",
      "Epoch 85/100\n",
      "83/83 [==============================] - 6s 76ms/step - loss: 0.0953 - val_loss: 0.0980\n",
      "Epoch 86/100\n",
      "83/83 [==============================] - 6s 75ms/step - loss: 0.0932 - val_loss: 0.0991\n",
      "Epoch 87/100\n",
      "83/83 [==============================] - 6s 75ms/step - loss: 0.0873 - val_loss: 0.1002\n",
      "Epoch 88/100\n",
      "83/83 [==============================] - 6s 75ms/step - loss: 0.0927 - val_loss: 0.0973\n",
      "Epoch 89/100\n",
      "83/83 [==============================] - 6s 75ms/step - loss: 0.0869 - val_loss: 0.0990\n",
      "Epoch 90/100\n",
      "83/83 [==============================] - 6s 75ms/step - loss: 0.0899 - val_loss: 0.0977\n",
      "Epoch 91/100\n",
      "83/83 [==============================] - 6s 75ms/step - loss: 0.0916 - val_loss: 0.0985\n",
      "Epoch 92/100\n",
      "83/83 [==============================] - 6s 75ms/step - loss: 0.0871 - val_loss: 0.0983\n",
      "Epoch 93/100\n",
      "83/83 [==============================] - 6s 75ms/step - loss: 0.0852 - val_loss: 0.1001\n",
      "Epoch 94/100\n",
      "83/83 [==============================] - 6s 75ms/step - loss: 0.0829 - val_loss: 0.0992\n",
      "Epoch 95/100\n",
      "83/83 [==============================] - 6s 75ms/step - loss: 0.0838 - val_loss: 0.0998\n",
      "Epoch 96/100\n",
      "83/83 [==============================] - 6s 76ms/step - loss: 0.0847 - val_loss: 0.0975\n",
      "Epoch 97/100\n",
      "83/83 [==============================] - 6s 75ms/step - loss: 0.0784 - val_loss: 0.0985\n",
      "Epoch 98/100\n",
      "83/83 [==============================] - 6s 75ms/step - loss: 0.0787 - val_loss: 0.0993\n",
      "Epoch 99/100\n",
      "83/83 [==============================] - 6s 75ms/step - loss: 0.0794 - val_loss: 0.1011\n",
      "Epoch 100/100\n",
      "83/83 [==============================] - 6s 76ms/step - loss: 0.0801 - val_loss: 0.1002\n"
     ]
    }
   ],
   "source": [
    "nn_image.compile(optimizer=Adam(1e-4), loss=sample_bernoulli_nll, run_eagerly=False)  ##adamle-5\n",
    "results = nn_image.fit(x = train_imgs_scaled, \n",
    "                        y = train_labels,\n",
    "                        validation_data = (validation_imgs_scaled, val_labels),\n",
    "                        batch_size=256,\n",
    "                        epochs = 100,\n",
    "                        verbose= True)    "
   ]
  },
  {
   "cell_type": "code",
   "execution_count": 15,
   "metadata": {},
   "outputs": [],
   "source": [
    "# save results\n",
    "#dat = pd.DataFrame({'train_loss': results.history['loss'], \n",
    " #                      'test_loss': results.history['val_loss']})\n",
    "#dat.to_csv('../thesis/performance/gaussVI/history.csv', index=False)\n",
    "\n",
    "### save model weights whole model\n",
    "#nn_image.save_weights(\"../thesis/models/CNNGaus\", save_format =\"tf\")\n",
    "### save model weights eta\n",
    "#nn_imG.save_weights(\"../thesis/models/CNNGaussEta\", save_format =\"tf\")\n"
   ]
  },
  {
   "cell_type": "markdown",
   "metadata": {},
   "source": [
    "#### Load model weights"
   ]
  },
  {
   "cell_type": "code",
   "execution_count": 14,
   "metadata": {},
   "outputs": [
    {
     "data": {
      "text/plain": [
       "<tensorflow.python.training.tracking.util.CheckpointLoadStatus at 0x7f98b0729190>"
      ]
     },
     "execution_count": 14,
     "metadata": {},
     "output_type": "execute_result"
    }
   ],
   "source": [
    "### recreate Model eta\n",
    "nn_imG.compile(optimizer=RMSprop(), loss=sample_bernoulli_nll, run_eagerly=False,metrics=[sample_bernoulli_nll])\n",
    "nn_imG.load_weights(\"../thesis/models/CNNGaussEta\")\n",
    "\n",
    "### recreate whole Model\n",
    "nn_image.compile(optimizer=RMSprop(), loss=sample_bernoulli_nll, run_eagerly=False,metrics=[sample_bernoulli_nll])\n",
    "nn_image.load_weights(\"../thesis/models/CNNGaus\")"
   ]
  },
  {
   "cell_type": "code",
   "execution_count": 15,
   "metadata": {},
   "outputs": [
    {
     "data": {
      "text/plain": [
       "<matplotlib.legend.Legend at 0x7f98b06b0670>"
      ]
     },
     "execution_count": 15,
     "metadata": {},
     "output_type": "execute_result"
    },
    {
     "data": {
      "image/png": "[encoded data removed]",
      "text/plain": [
       "<Figure size 360x360 with 1 Axes>"
      ]
     },
     "metadata": {
      "needs_background": "light"
     },
     "output_type": "display_data"
    }
   ],
   "source": [
    "\n",
    "plt.figure(figsize=(5,5))\n",
    "loss0 = pd.read_csv('../thesis/performance/gaussVI/history.csv')\n",
    "plt.plot(loss0['train_loss'],label=\"Train Loss\")\n",
    "plt.plot(loss0['test_loss'], label=\"Validation Loss\")\n",
    "plt.legend()\n",
    "plt.xlabel(\"epochs\")\n",
    "plt.ylabel(\"loss\")\n",
    "plt.ylim(0.075,0.2)\n",
    "plt.yticks(np.arange(0.075, 0.2, 0.005))\n",
    "plt.xticks(np.arange(20, 110, 10))\n",
    "plt.xlim(20,110)\n",
    "plt.legend(fontsize='x-small')"
   ]
  },
  {
   "cell_type": "markdown",
   "metadata": {},
   "source": [
    "## Performance"
   ]
  },
  {
   "cell_type": "code",
   "execution_count": 17,
   "metadata": {},
   "outputs": [
    {
     "name": "stderr",
     "output_type": "stream",
     "text": [
      "2021-11-19 11:24:24.579919: W tensorflow/core/framework/cpu_allocator_impl.cc:80] Allocation of 1302724608 exceeds 10% of free system memory.\n"
     ]
    }
   ],
   "source": [
    "y_pred = nn_image.predict(test_imgs_scaled,batch_size =1)\n",
    "\n",
    "samples = y_pred.reshape(-1, 1000) ###every datapoint one sample\n",
    "meanpred = samples.mean(axis=1)  ###mean samples \n",
    "predictions=meanpred.reshape(6626,1)"
   ]
  },
  {
   "cell_type": "code",
   "execution_count": 18,
   "metadata": {},
   "outputs": [
    {
     "data": {
      "text/plain": [
       "-0.07697289497874951"
      ]
     },
     "execution_count": 18,
     "metadata": {},
     "output_type": "execute_result"
    }
   ],
   "source": [
    "logScore(test_labels,predictions)"
   ]
  },
  {
   "cell_type": "code",
   "execution_count": 19,
   "metadata": {},
   "outputs": [
    {
     "name": "stdout",
     "output_type": "stream",
     "text": [
      "AUC=0.82, 95% CI: 0.79-0.86\n"
     ]
    }
   ],
   "source": [
    "score, ci_lower, ci_upper, scores =score_ci(test_labels, meanpred, score_fun=roc_auc_score)\n",
    "print(\"AUC={:.2f}, 95% CI: {:.2f}-{:.2f}\".format(score, ci_lower, ci_upper))\n",
    "ciAuc= \"{:.2f}-{:.2f}\".format(ci_lower, ci_upper)"
   ]
  },
  {
   "cell_type": "markdown",
   "metadata": {},
   "source": [
    "### PPD Evaluation on OOD data only on eta(B) "
   ]
  },
  {
   "cell_type": "code",
   "execution_count": 70,
   "metadata": {},
   "outputs": [
    {
     "data": {
      "text/plain": [
       "(17, 128, 128, 3)"
      ]
     },
     "execution_count": 70,
     "metadata": {},
     "output_type": "execute_result"
    }
   ],
   "source": [
    "## random images \n",
    "filelist = glob.glob('../thesis/oodImages/*.npy')\n",
    "x = [np.array(np.load(fname)) for fname in filelist]\n",
    "randomX = np.asarray(x)\n",
    "oodRandom = randomX.reshape(17,128,128,3)\n",
    "oodRandom.shape"
   ]
  },
  {
   "cell_type": "code",
   "execution_count": 73,
   "metadata": {},
   "outputs": [
    {
     "data": {
      "text/plain": [
       "TensorShape([103, 128, 128, 3])"
      ]
     },
     "execution_count": 73,
     "metadata": {},
     "output_type": "execute_result"
    }
   ],
   "source": [
    "## augmentation images\n",
    "data_augmentation = tf.keras.Sequential([\n",
    "  layers.experimental.preprocessing.RandomRotation(factor=0.9, fill_mode=\"wrap\"),\n",
    "  layers.experimental.preprocessing.RandomTranslation(height_factor=1, width_factor=1, fill_mode=\"reflect\"),\n",
    "  layers.experimental.preprocessing.RandomFlip(\"horizontal_and_vertical\"),\n",
    "])\n",
    "# Add the image to a batch\n",
    "image= test_imgs_scaled[300:403] \n",
    "augmented_image = data_augmentation(image)\n",
    "bright = tf.image.adjust_brightness(augmented_image, 0.2) ##add additionaly brightness \n",
    "bright.shape\n",
    "#plt.imshow(bright[10])\n",
    "#plt.axis(\"off\")"
   ]
  },
  {
   "cell_type": "markdown",
   "metadata": {},
   "source": [
    "### prediction on OOD\n",
    "1. eta(B)"
   ]
  },
  {
   "cell_type": "code",
   "execution_count": 63,
   "metadata": {},
   "outputs": [],
   "source": [
    "\n",
    "##eta with random images\n",
    "Gy_predTabOOD = nn_imG.predict(oodRandom,batch_size =1)\n",
    "GsamplesImgOOD = Gy_predTabOOD.reshape(-1, 1000) ###every datapoint one sample\n",
    "GmeanpredImgOOD = GsamplesImgOOD.mean(axis=1)  ###mean samples \n",
    "GpredictionsImgOOD=GmeanpredImgOOD.reshape(17,1)\n",
    "## IQR Range\n",
    "Gy_predictions_25ImgOOD=np.quantile(GsamplesImgOOD,0.25,axis=1)  \n",
    "Gy_predictions_75IMGOOD=np.quantile(GsamplesImgOOD,0.75,axis=1)\n",
    "\n",
    "##dataframe\n",
    "GImgCenterOOD = [sublist[-1] for sublist in GpredictionsImgOOD]\n",
    "GImgLowOOD = [sublist[-1] for sublist in Gy_predictions_25ImgOOD.reshape(17,1)]\n",
    "GImgHighOOD = [sublist[-1] for sublist in Gy_predictions_75IMGOOD.reshape(17,1)]\n",
    "GImgwidthOOD= [x1 - x2 for (x1, x2) in zip(GImgHighOOD, GImgLowOOD)]\n",
    "\n",
    "##eta augmented images\n",
    "Gy_predTabOODA = nn_imG.predict(bright,batch_size =1)\n",
    "GsamplesImgOODA = Gy_predTabOODA.reshape(-1, 1000) ###every datapoint one sample\n",
    "GmeanpredImgOODA = GsamplesImgOODA.mean(axis=1)  ###mean samples \n",
    "GpredictionsImgOODA=GmeanpredImgOODA.reshape(103,1)\n",
    "Gy_predictions_25ImgOODA=np.quantile(GsamplesImgOODA,0.25,axis=1)\n",
    "Gy_predictions_75IMGOODA=np.quantile(GsamplesImgOODA,0.75,axis=1)\n",
    "\n",
    "##dataframe\n",
    "GImgCenterOODA = [sublist[-1] for sublist in GpredictionsImgOODA]\n",
    "GImgLowOODA = [sublist[-1] for sublist in Gy_predictions_25ImgOODA.reshape(103,1)]\n",
    "GImgHighOODA = [sublist[-1] for sublist in Gy_predictions_75IMGOODA.reshape(103,1)]\n",
    "GImgwidthOODA= [x1 - x2 for (x1, x2) in zip(GImgHighOODA, GImgLowOODA)]"
   ]
  },
  {
   "cell_type": "code",
   "execution_count": 64,
   "metadata": {},
   "outputs": [],
   "source": [
    "##PPD\n",
    "\n",
    "Gy_predTabOODWhole = nn_image.predict(f,batch_size =1)\n",
    "\n",
    "\n",
    "\n",
    "GsamplesImgOODWhole = Gy_predTabOODWhole.reshape(-1, 1000) ###every datapoint one sample\n",
    "GmeanpredImgOODWhole = GsamplesImgOODWhole.mean(axis=1)  ###mean samples \n",
    "GpredictionsImgOODWhole=GmeanpredImgOODWhole.reshape(17,1)\n",
    "\n",
    "Gy_predictions_25ImgOODWhole=np.quantile(GsamplesImgOODWhole,0.25,axis=1)\n",
    "Gy_predictions_75IMGOODWhole=np.quantile(GsamplesImgOODWhole,0.75,axis=1)\n",
    "\n",
    "\n",
    "##dataframe\n",
    "GImgCenterOODWhole = [sublist[-1] for sublist in GpredictionsImgOODWhole]\n",
    "GImgLowOODWhole = [sublist[-1] for sublist in Gy_predictions_25ImgOODWhole.reshape(17,1)]\n",
    "GImgHighOODWhole = [sublist[-1] for sublist in Gy_predictions_75IMGOODWhole.reshape(17,1)]\n",
    "GImgwidthOODWhole= [x1 - x2 for (x1, x2) in zip(GImgHighOODWhole, GImgLowOODWhole)]\n",
    "\n",
    "##PPD augment\n",
    "\n",
    "Gy_predTabOODWholeA = nn_image.predict(bright,batch_size =1)\n",
    "\n",
    "\n",
    "\n",
    "GsamplesImgOODWholeA = Gy_predTabOODWholeA.reshape(-1, 1000) ###every datapoint one sample\n",
    "GmeanpredImgOODWholeA = GsamplesImgOODWholeA.mean(axis=1)  ###mean samples \n",
    "GpredictionsImgOODWholeA=GmeanpredImgOODWholeA.reshape(103,1)\n",
    "\n",
    "Gy_predictions_25ImgOODWholeA=np.quantile(GsamplesImgOODWholeA,0.25,axis=1)\n",
    "Gy_predictions_75IMGOODWholeA=np.quantile(GsamplesImgOODWholeA,0.75,axis=1)\n",
    "\n",
    "\n",
    "##dataframe\n",
    "GImgCenterOODWholeA = [sublist[-1] for sublist in GpredictionsImgOODWholeA]\n",
    "GImgLowOODWholeA = [sublist[-1] for sublist in Gy_predictions_25ImgOODWholeA.reshape(103,1)]\n",
    "GImgHighOODWholeA = [sublist[-1] for sublist in Gy_predictions_75IMGOODWholeA.reshape(103,1)]\n",
    "GImgwidthOODWholeA= [x1 - x2 for (x1, x2) in zip(GImgHighOODWholeA, GImgLowOODWholeA)]\n",
    "\n",
    "\n"
   ]
  },
  {
   "cell_type": "code",
   "execution_count": 65,
   "metadata": {},
   "outputs": [],
   "source": [
    "###vorbereitung image\n",
    "\n",
    "\n",
    "Gy_pred = nn_imG.predict(test_imgs_scaled[0:120],batch_size =1)\n",
    "\n",
    "\n",
    "Gsamples = Gy_pred.reshape(-1, 1000) ###every datapoint one sample\n",
    "Gmeanpred = Gsamples.mean(axis=1)  ###mean samples \n",
    "Gpredictions=Gmeanpred.reshape(120,1)\n",
    "\n",
    "Gy_predictions_25=np.quantile(Gsamples,0.25,axis=1)\n",
    "Gy_predictions_75=np.quantile(Gsamples,0.75,axis=1)\n",
    "\n",
    "\n",
    "#\n",
    "GImgCenter = [sublist[-1] for sublist in Gmeanpred.reshape(120,1)]\n",
    "GImgLow = [sublist[-1] for sublist in Gy_predictions_25.reshape(120,1)]\n",
    "GImgHigh = [sublist[-1] for sublist in Gy_predictions_75.reshape(120,1)]\n",
    "GImgwidth= [x1 - x2 for (x1, x2) in zip(GImgHigh, GImgLow)]\n",
    "\n",
    "\n",
    "\n",
    "\n",
    "\n",
    "\n",
    "Gimagedata = pd.DataFrame(\n",
    "    {'Gwidth': GImgwidth,\n",
    "     'Gcenter': GImgCenter\n",
    "    })\n",
    "\n",
    "###Out of distribution\n",
    "\n",
    "GimagadataOOD = pd.DataFrame(\n",
    "    {'Gwidth': GImgwidthOOD,\n",
    "     'Gcenter': GImgCenterOOD\n",
    "    })\n",
    "\n",
    "###Out of distribution\n",
    "\n",
    "GimagadataOODA = pd.DataFrame(\n",
    "    {'Gwidth': GImgwidthOODA,\n",
    "     'Gcenter': GImgCenterOODA\n",
    "    })"
   ]
  },
  {
   "cell_type": "code",
   "execution_count": 66,
   "metadata": {},
   "outputs": [],
   "source": [
    "###vorbereitung image whole\n",
    "\n",
    "\n",
    "Gy_predWhole = nn_image.predict(test_imgs_scaled[0:120],batch_size =1)\n",
    "\n",
    "\n",
    "GsamplesWhole = Gy_predWhole.reshape(-1, 1000) ###every datapoint one sample\n",
    "GmeanpredWhole = GsamplesWhole.mean(axis=1)  ###mean samples \n",
    "GpredictionsWhole=GmeanpredWhole.reshape(120,1)\n",
    "\n",
    "Gy_predictions_25Whole=np.quantile(GsamplesWhole,0.25,axis=1)\n",
    "Gy_predictions_75Whole=np.quantile(GsamplesWhole,0.75,axis=1)\n",
    "\n",
    "\n",
    "#\n",
    "GImgCenterWhole = [sublist[-1] for sublist in GmeanpredWhole.reshape(120,1)]\n",
    "GImgLowWhole = [sublist[-1] for sublist in Gy_predictions_25Whole.reshape(120,1)]\n",
    "GImgHighWhole = [sublist[-1] for sublist in Gy_predictions_75Whole.reshape(120,1)]\n",
    "GImgwidthWhole= [x1 - x2 for (x1, x2) in zip(GImgHighWhole, GImgLowWhole)]\n",
    "\n",
    "\n",
    "\n",
    "\n",
    "\n",
    "\n",
    "GimagedataWhole = pd.DataFrame(\n",
    "    {'Gwidth': GImgwidthWhole,\n",
    "     'Gcenter': GImgCenterWhole\n",
    "    })\n",
    "\n",
    "###Out of distribution\n",
    "\n",
    "GimagadataOODWhole = pd.DataFrame(\n",
    "    {'Gwidth': GImgwidthOODWhole,\n",
    "     'Gcenter': GImgCenterOODWhole\n",
    "    })\n",
    "\n",
    "###Out of distribution\n",
    "\n",
    "GimagadataOODWholeA = pd.DataFrame(\n",
    "    {'Gwidth': GImgwidthOODWholeA,\n",
    "     'Gcenter': GImgCenterOODWholeA\n",
    "    })"
   ]
  },
  {
   "cell_type": "code",
   "execution_count": 67,
   "metadata": {},
   "outputs": [
    {
     "data": {
      "image/png": "[encoded data removed]",
      "text/plain": [
       "<Figure size 720x360 with 2 Axes>"
      ]
     },
     "metadata": {
      "needs_background": "light"
     },
     "output_type": "display_data"
    }
   ],
   "source": [
    "\n",
    "fig = plt.figure(figsize=(10,5))\n",
    "\n",
    "plt.rcParams.update(({'font.size': 15}))\n",
    "\n",
    "\n",
    "\n",
    "\n",
    "\n",
    "fig.add_subplot(121)\n",
    "plt.scatter(GimagadataOODA[\"Gcenter\"],GimagadataOODA[\"Gwidth\"],label=\"Gaussian-VI\\nOOD (modified)\",s=20,alpha=0.3, color=\"dodgerblue\")\n",
    "plt.scatter(GimagadataOOD[\"Gcenter\"],GimagadataOOD[\"Gwidth\"],label=\"Gaussian-VI\\nOOD (random)\",s=20,alpha=0.7,color=\"darkblue\")\n",
    "plt.scatter(Gimagedata[\"Gcenter\"],Gimagedata[\"Gwidth\"],label=\"Gaussian-VI ID\",alpha=0.3,s=20,color=\"orange\")\n",
    "plt.ylabel(\"interquartile range\")\n",
    "plt.xlabel(\"mean $\\\\vartheta(B)$\")\n",
    "plt.yticks(np.arange(0, 6, 1))\n",
    "plt.xticks(np.arange(-20, 10, 5))\n",
    "plt.legend(fontsize=13)\n",
    "\n",
    "\n",
    "\n",
    "fig.add_subplot(122)\n",
    "plt.scatter(GimagadataOODWholeA[\"Gcenter\"],GimagadataOODWholeA[\"Gwidth\"],label=\"Gaussian-VI\\nOOD (modified)\",s=20,alpha=0.3, color=\"dodgerblue\")\n",
    "plt.scatter(GimagadataOODWhole[\"Gcenter\"],GimagadataOODWhole[\"Gwidth\"],label=\"Gaussian-VI\\nOOD (random)\",s=20,alpha=0.7, color=\"darkblue\")\n",
    "plt.scatter(GimagedataWhole[\"Gcenter\"],GimagedataWhole[\"Gwidth\"],label=\"Gaussian-VI ID\",alpha=0.3,s=20,color=\"orange\")\n",
    "plt.legend(fontsize=13,loc=\"lower right\")\n",
    "plt.ylabel(\"interquartile range\")\n",
    "plt.xlabel(\"mean $\\sigma(\\\\vartheta(B)$)\")\n",
    "plt.yticks(np.arange(0, 0.1, 0.025))\n",
    "plt.xticks(np.arange(0, 1.2, 0.2))\n",
    "fig.tight_layout(pad=1.5)\n",
    "#plt.savefig(\"./plots/uncertainty/imagegausTMVIcompare2.pdf\")\n",
    "\n",
    "\n"
   ]
  },
  {
   "cell_type": "markdown",
   "metadata": {},
   "source": [
    "## CNN Last layer TMVI"
   ]
  },
  {
   "cell_type": "code",
   "execution_count": 35,
   "metadata": {},
   "outputs": [],
   "source": [
    "\n",
    "### Kein Bias Bei Linear Shift\n",
    "M=50\n",
    "\n",
    "prior_dist=tfd.Normal(0.,1.)    ##normal\n",
    "theta_start = -3  ##Range von Gauss-VI\n",
    "theta_stop = 3\n",
    "\n",
    "\n",
    "\n",
    "vimlts_initializers=dict(kernel_init_alpha_w = initializers.Constant(1.),\n",
    "                             kernel_init_beta_w = initializers.Constant(0.),\n",
    "                             kernel_init_alpha_z = initializers.Constant(1.),\n",
    "                             kernel_init_beta_z = initializers.Constant(0.),\n",
    "                             kernel_init_thetas = [initializers.Constant(theta_start)] +\n",
    "                              [initializers.Constant(softplus_inv((theta_stop-theta_start)/(M))) for i in range(M)])                 "
   ]
  },
  {
   "cell_type": "code",
   "execution_count": null,
   "metadata": {},
   "outputs": [],
   "source": []
  },
  {
   "cell_type": "code",
   "execution_count": 36,
   "metadata": {},
   "outputs": [
    {
     "name": "stdout",
     "output_type": "stream",
     "text": [
      "WARNING:tensorflow:AutoGraph could not transform <bound method VimltsLinear.call of <functions.vimlts.VimltsLinear object at 0x7fb9c6f82a30>> and will run it as-is.\n",
      "Please report this to the TensorFlow team. When filing the bug, set the verbosity to 10 (on Linux, `export AUTOGRAPH_VERBOSITY=10`) and attach the full output.\n",
      "Cause: module 'gast' has no attribute 'Index'\n",
      "To silence this warning, decorate the function with @tf.autograph.experimental.do_not_convert\n",
      "WARNING: AutoGraph could not transform <bound method VimltsLinear.call of <functions.vimlts.VimltsLinear object at 0x7fb9c6f82a30>> and will run it as-is.\n",
      "Please report this to the TensorFlow team. When filing the bug, set the verbosity to 10 (on Linux, `export AUTOGRAPH_VERBOSITY=10`) and attach the full output.\n",
      "Cause: module 'gast' has no attribute 'Index'\n",
      "To silence this warning, decorate the function with @tf.autograph.experimental.do_not_convert\n",
      "Model: \"model_1\"\n",
      "_________________________________________________________________\n",
      "Layer (type)                 Output Shape              Param #   \n",
      "=================================================================\n",
      "inImg (InputLayer)           [(None, 128, 128, 3)]     0         \n",
      "_________________________________________________________________\n",
      "conv2d_5 (Conv2D)            (None, 128, 128, 32)      896       \n",
      "_________________________________________________________________\n",
      "max_pooling2d_5 (MaxPooling2 (None, 64, 64, 32)        0         \n",
      "_________________________________________________________________\n",
      "conv2d_6 (Conv2D)            (None, 64, 64, 32)        9248      \n",
      "_________________________________________________________________\n",
      "max_pooling2d_6 (MaxPooling2 (None, 32, 32, 32)        0         \n",
      "_________________________________________________________________\n",
      "conv2d_7 (Conv2D)            (None, 32, 32, 64)        18496     \n",
      "_________________________________________________________________\n",
      "max_pooling2d_7 (MaxPooling2 (None, 16, 16, 64)        0         \n",
      "_________________________________________________________________\n",
      "conv2d_8 (Conv2D)            (None, 16, 16, 64)        36928     \n",
      "_________________________________________________________________\n",
      "max_pooling2d_8 (MaxPooling2 (None, 8, 8, 64)          0         \n",
      "_________________________________________________________________\n",
      "conv2d_9 (Conv2D)            (None, 8, 8, 128)         73856     \n",
      "_________________________________________________________________\n",
      "max_pooling2d_9 (MaxPooling2 (None, 4, 4, 128)         0         \n",
      "_________________________________________________________________\n",
      "flatten_1 (Flatten)          (None, 2048)              0         \n",
      "_________________________________________________________________\n",
      "dense_2 (Dense)              (None, 128)               262272    \n",
      "_________________________________________________________________\n",
      "dense_3 (Dense)              (None, 128)               16512     \n",
      "_________________________________________________________________\n",
      "vimlts_linear (VimltsLinear) (1000, None, 1)           7040      \n",
      "=================================================================\n",
      "Total params: 425,248\n",
      "Trainable params: 425,248\n",
      "Non-trainable params: 0\n",
      "_________________________________________________________________\n"
     ]
    }
   ],
   "source": [
    "from tensorflow.keras import regularizers\n",
    "\n",
    "in_ = keras.Input(shape = (128,128,3), name = \"inImg\")\n",
    "x = layers.Convolution2D(32, kernel_size=(3, 3), padding = 'same', \n",
    "                             activation = 'tanh')(in_)\n",
    "x = layers.MaxPooling2D(pool_size=(2, 2))(x) \n",
    "x = layers.Convolution2D(32, kernel_size=(3, 3), padding = 'same', \n",
    "                             activation = 'tanh')(x)\n",
    "x = layers.MaxPooling2D(pool_size=(2, 2))(x)\n",
    "x = layers.Convolution2D(64, kernel_size=(3, 3), padding = 'same', \n",
    "                             activation = 'tanh')(x)\n",
    "x = layers.MaxPooling2D(pool_size=(2, 2))(x)\n",
    "x = layers.Convolution2D(64, kernel_size=(3, 3,), padding = 'same', \n",
    "                             activation = 'tanh')(x)\n",
    "x = layers.MaxPooling2D(pool_size=(2, 2))(x)\n",
    "x = layers.Convolution2D(128, kernel_size=(3, 3), padding = 'same', \n",
    "                             activation = 'tanh')(x)\n",
    "x = layers.MaxPooling2D(pool_size=(2, 2))(x)\n",
    "x = layers.Flatten()(x)\n",
    "x = layers.Dense(128, activation = 'tanh',kernel_regularizer=regularizers.l2(0.01),\n",
    "                activity_regularizer=regularizers.l2(0.01))(x)\n",
    "x = layers.Dense(128, activation = 'tanh',kernel_regularizer=regularizers.l2(0.01),\n",
    "                activity_regularizer=regularizers.l2(0.01))(x)\n",
    "eta = VimltsLinear(units=1,\n",
    "                      activation=tf.keras.activations.linear,    ###Linear\n",
    "                      num_samples=1000,\n",
    "                      size = 21200,\n",
    "                      **vimlts_initializers,\n",
    "                      prior_dist=prior_dist)(x)\n",
    "nn_im = keras.Model (inputs = in_, outputs = eta)\n",
    "nn_im.summary()"
   ]
  },
  {
   "cell_type": "code",
   "execution_count": 37,
   "metadata": {},
   "outputs": [],
   "source": [
    "\n",
    "##add \n",
    "def modelOn(X):\n",
    "    added = X.layers[14].output\n",
    "    #out = tf.keras.layers.Dense(1, activation = 'sigmoid',use_bias=False, trainable=False)(added)\n",
    "    out = tf.math.sigmoid(added)\n",
    "    model1 = keras.Model(inputs = X.input, outputs = out, name='model_XXX')\n",
    "    return model1 \n",
    "nn_image = modelOn(nn_im)"
   ]
  },
  {
   "cell_type": "code",
   "execution_count": 231,
   "metadata": {},
   "outputs": [
    {
     "name": "stdout",
     "output_type": "stream",
     "text": [
      "Epoch 1/250\n",
      "83/83 [==============================] - 12s 126ms/step - loss: 7.3253 - val_loss: 6.9297\n",
      "Epoch 2/250\n",
      "83/83 [==============================] - 10s 117ms/step - loss: 6.9064 - val_loss: 6.8445\n",
      "Epoch 3/250\n",
      "83/83 [==============================] - 10s 117ms/step - loss: 6.8240 - val_loss: 6.7642\n",
      "Epoch 4/250\n",
      "83/83 [==============================] - 10s 117ms/step - loss: 6.7437 - val_loss: 6.6835\n",
      "Epoch 5/250\n",
      "83/83 [==============================] - 10s 117ms/step - loss: 6.6628 - val_loss: 6.6018\n",
      "Epoch 6/250\n",
      "83/83 [==============================] - 10s 117ms/step - loss: 6.5812 - val_loss: 6.5199\n",
      "Epoch 7/250\n",
      "83/83 [==============================] - 10s 117ms/step - loss: 6.4993 - val_loss: 6.4378\n",
      "Epoch 8/250\n",
      "83/83 [==============================] - 10s 117ms/step - loss: 6.4170 - val_loss: 6.3548\n",
      "Epoch 9/250\n",
      "83/83 [==============================] - 10s 117ms/step - loss: 6.3334 - val_loss: 6.2718\n",
      "Epoch 10/250\n",
      "83/83 [==============================] - 10s 117ms/step - loss: 6.2503 - val_loss: 6.1874\n",
      "Epoch 11/250\n",
      "83/83 [==============================] - 10s 117ms/step - loss: 6.1657 - val_loss: 6.1036\n",
      "Epoch 12/250\n",
      "83/83 [==============================] - 10s 117ms/step - loss: 6.0821 - val_loss: 6.0177\n",
      "Epoch 13/250\n",
      "83/83 [==============================] - 10s 117ms/step - loss: 5.9966 - val_loss: 5.9331\n",
      "Epoch 14/250\n",
      "83/83 [==============================] - 10s 117ms/step - loss: 5.9108 - val_loss: 5.8451\n",
      "Epoch 15/250\n",
      "83/83 [==============================] - 10s 117ms/step - loss: 5.8257 - val_loss: 5.7616\n",
      "Epoch 16/250\n",
      "83/83 [==============================] - 10s 117ms/step - loss: 5.7379 - val_loss: 5.6720\n",
      "Epoch 17/250\n",
      "83/83 [==============================] - 10s 117ms/step - loss: 5.6516 - val_loss: 5.5866\n",
      "Epoch 18/250\n",
      "83/83 [==============================] - 10s 117ms/step - loss: 5.5657 - val_loss: 5.5005\n",
      "Epoch 19/250\n",
      "83/83 [==============================] - 10s 117ms/step - loss: 5.4785 - val_loss: 5.4154\n",
      "Epoch 20/250\n",
      "83/83 [==============================] - 10s 117ms/step - loss: 5.3935 - val_loss: 5.3283\n",
      "Epoch 21/250\n",
      "83/83 [==============================] - 10s 117ms/step - loss: 5.3098 - val_loss: 5.2476\n",
      "Epoch 22/250\n",
      "83/83 [==============================] - 10s 117ms/step - loss: 5.2267 - val_loss: 5.1666\n",
      "Epoch 23/250\n",
      "83/83 [==============================] - 10s 117ms/step - loss: 5.1448 - val_loss: 5.0827\n",
      "Epoch 24/250\n",
      "83/83 [==============================] - 10s 117ms/step - loss: 5.0626 - val_loss: 5.0037\n",
      "Epoch 25/250\n",
      "83/83 [==============================] - 10s 117ms/step - loss: 4.9878 - val_loss: 4.9253\n",
      "Epoch 26/250\n",
      "83/83 [==============================] - 10s 117ms/step - loss: 4.9117 - val_loss: 4.8520\n",
      "Epoch 27/250\n",
      "83/83 [==============================] - 10s 117ms/step - loss: 4.8340 - val_loss: 4.7786\n",
      "Epoch 28/250\n",
      "83/83 [==============================] - 10s 117ms/step - loss: 4.7580 - val_loss: 4.7069\n",
      "Epoch 29/250\n",
      "83/83 [==============================] - 10s 117ms/step - loss: 4.6876 - val_loss: 4.6357\n",
      "Epoch 30/250\n",
      "83/83 [==============================] - 10s 117ms/step - loss: 4.6183 - val_loss: 4.5652\n",
      "Epoch 31/250\n",
      "83/83 [==============================] - 10s 117ms/step - loss: 4.5512 - val_loss: 4.5009\n",
      "Epoch 32/250\n",
      "83/83 [==============================] - 10s 117ms/step - loss: 4.4850 - val_loss: 4.4360\n",
      "Epoch 33/250\n",
      "83/83 [==============================] - 10s 117ms/step - loss: 4.4207 - val_loss: 4.3714\n",
      "Epoch 34/250\n",
      "83/83 [==============================] - 10s 117ms/step - loss: 4.3586 - val_loss: 4.3098\n",
      "Epoch 35/250\n",
      "83/83 [==============================] - 10s 117ms/step - loss: 4.2991 - val_loss: 4.2505\n",
      "Epoch 36/250\n",
      "83/83 [==============================] - 10s 117ms/step - loss: 4.2422 - val_loss: 4.1915\n",
      "Epoch 37/250\n",
      "83/83 [==============================] - 10s 117ms/step - loss: 4.1833 - val_loss: 4.1368\n",
      "Epoch 38/250\n",
      "83/83 [==============================] - 10s 117ms/step - loss: 4.1220 - val_loss: 4.0826\n",
      "Epoch 39/250\n",
      "83/83 [==============================] - 10s 117ms/step - loss: 4.0730 - val_loss: 4.0298\n",
      "Epoch 40/250\n",
      "83/83 [==============================] - 10s 117ms/step - loss: 4.0165 - val_loss: 3.9788\n",
      "Epoch 41/250\n",
      "83/83 [==============================] - 10s 118ms/step - loss: 3.9690 - val_loss: 3.9269\n",
      "Epoch 42/250\n",
      "83/83 [==============================] - 10s 117ms/step - loss: 3.9128 - val_loss: 3.8791\n",
      "Epoch 43/250\n",
      "83/83 [==============================] - 10s 117ms/step - loss: 3.8681 - val_loss: 3.8315\n",
      "Epoch 44/250\n",
      "83/83 [==============================] - 10s 118ms/step - loss: 3.8207 - val_loss: 3.7862\n",
      "Epoch 45/250\n",
      "83/83 [==============================] - 10s 117ms/step - loss: 3.7746 - val_loss: 3.7396\n",
      "Epoch 46/250\n",
      "83/83 [==============================] - 10s 117ms/step - loss: 3.7315 - val_loss: 3.6989\n",
      "Epoch 47/250\n",
      "83/83 [==============================] - 10s 118ms/step - loss: 3.6880 - val_loss: 3.6560\n",
      "Epoch 48/250\n",
      "83/83 [==============================] - 10s 117ms/step - loss: 3.6454 - val_loss: 3.6138\n",
      "Epoch 49/250\n",
      "83/83 [==============================] - 10s 117ms/step - loss: 3.6057 - val_loss: 3.5746\n",
      "Epoch 50/250\n",
      "83/83 [==============================] - 10s 117ms/step - loss: 3.5608 - val_loss: 3.5366\n",
      "Epoch 51/250\n",
      "83/83 [==============================] - 10s 117ms/step - loss: 3.5242 - val_loss: 3.4987\n",
      "Epoch 52/250\n",
      "83/83 [==============================] - 10s 117ms/step - loss: 3.4910 - val_loss: 3.4616\n",
      "Epoch 53/250\n",
      "83/83 [==============================] - 10s 117ms/step - loss: 3.4535 - val_loss: 3.4246\n",
      "Epoch 54/250\n",
      "83/83 [==============================] - 10s 117ms/step - loss: 3.4196 - val_loss: 3.3913\n",
      "Epoch 55/250\n",
      "83/83 [==============================] - 10s 117ms/step - loss: 3.3826 - val_loss: 3.3581\n",
      "Epoch 56/250\n",
      "83/83 [==============================] - 10s 117ms/step - loss: 3.3532 - val_loss: 3.3258\n",
      "Epoch 57/250\n",
      "83/83 [==============================] - 10s 117ms/step - loss: 3.3190 - val_loss: 3.2937\n",
      "Epoch 58/250\n",
      "83/83 [==============================] - 10s 117ms/step - loss: 3.2827 - val_loss: 3.2623\n",
      "Epoch 59/250\n",
      "83/83 [==============================] - 10s 117ms/step - loss: 3.2545 - val_loss: 3.2346\n",
      "Epoch 60/250\n",
      "83/83 [==============================] - 10s 117ms/step - loss: 3.2265 - val_loss: 3.2042\n",
      "Epoch 61/250\n",
      "83/83 [==============================] - 10s 117ms/step - loss: 3.1900 - val_loss: 3.1770\n",
      "Epoch 62/250\n",
      "83/83 [==============================] - 10s 117ms/step - loss: 3.1714 - val_loss: 3.1488\n",
      "Epoch 63/250\n",
      "83/83 [==============================] - 10s 117ms/step - loss: 3.1399 - val_loss: 3.1217\n",
      "Epoch 64/250\n",
      "83/83 [==============================] - 10s 117ms/step - loss: 3.1128 - val_loss: 3.0949\n",
      "Epoch 65/250\n",
      "83/83 [==============================] - 10s 117ms/step - loss: 3.0864 - val_loss: 3.0715\n",
      "Epoch 66/250\n",
      "83/83 [==============================] - 10s 117ms/step - loss: 3.0669 - val_loss: 3.0467\n",
      "Epoch 67/250\n",
      "83/83 [==============================] - 10s 117ms/step - loss: 3.0439 - val_loss: 3.0237\n",
      "Epoch 68/250\n",
      "83/83 [==============================] - 10s 117ms/step - loss: 3.0224 - val_loss: 3.0004\n",
      "Epoch 69/250\n",
      "83/83 [==============================] - 10s 117ms/step - loss: 2.9931 - val_loss: 2.9791\n",
      "Epoch 70/250\n",
      "83/83 [==============================] - 10s 117ms/step - loss: 2.9711 - val_loss: 2.9569\n",
      "Epoch 71/250\n",
      "83/83 [==============================] - 10s 117ms/step - loss: 2.9516 - val_loss: 2.9349\n",
      "Epoch 72/250\n",
      "83/83 [==============================] - 10s 117ms/step - loss: 2.9298 - val_loss: 2.9147\n",
      "Epoch 73/250\n",
      "83/83 [==============================] - 10s 117ms/step - loss: 2.9096 - val_loss: 2.8940\n",
      "Epoch 74/250\n",
      "83/83 [==============================] - 10s 118ms/step - loss: 2.8930 - val_loss: 2.8744\n",
      "Epoch 75/250\n",
      "83/83 [==============================] - 10s 117ms/step - loss: 2.8703 - val_loss: 2.8557\n",
      "Epoch 76/250\n",
      "83/83 [==============================] - 10s 117ms/step - loss: 2.8547 - val_loss: 2.8374\n",
      "Epoch 77/250\n",
      "83/83 [==============================] - 10s 117ms/step - loss: 2.8293 - val_loss: 2.8194\n",
      "Epoch 78/250\n",
      "83/83 [==============================] - 10s 117ms/step - loss: 2.8175 - val_loss: 2.8021\n",
      "Epoch 79/250\n",
      "83/83 [==============================] - 10s 118ms/step - loss: 2.8002 - val_loss: 2.7860\n",
      "Epoch 80/250\n",
      "83/83 [==============================] - 10s 117ms/step - loss: 2.7854 - val_loss: 2.7679\n",
      "Epoch 81/250\n",
      "83/83 [==============================] - 10s 117ms/step - loss: 2.7585 - val_loss: 2.7530\n",
      "Epoch 82/250\n",
      "83/83 [==============================] - 10s 117ms/step - loss: 2.7525 - val_loss: 2.7361\n",
      "Epoch 83/250\n",
      "83/83 [==============================] - 10s 117ms/step - loss: 2.7288 - val_loss: 2.7221\n",
      "Epoch 84/250\n",
      "83/83 [==============================] - 10s 118ms/step - loss: 2.7182 - val_loss: 2.7063\n",
      "Epoch 85/250\n",
      "83/83 [==============================] - 10s 118ms/step - loss: 2.6982 - val_loss: 2.6913\n",
      "Epoch 86/250\n",
      "83/83 [==============================] - 10s 117ms/step - loss: 2.6905 - val_loss: 2.6769\n",
      "Epoch 87/250\n",
      "83/83 [==============================] - 10s 117ms/step - loss: 2.6692 - val_loss: 2.6621\n",
      "Epoch 88/250\n",
      "83/83 [==============================] - 10s 117ms/step - loss: 2.6529 - val_loss: 2.6498\n",
      "Epoch 89/250\n",
      "83/83 [==============================] - 10s 117ms/step - loss: 2.6463 - val_loss: 2.6357\n",
      "Epoch 90/250\n",
      "83/83 [==============================] - 10s 117ms/step - loss: 2.6305 - val_loss: 2.6226\n",
      "Epoch 91/250\n",
      "83/83 [==============================] - 10s 117ms/step - loss: 2.6190 - val_loss: 2.6099\n",
      "Epoch 92/250\n",
      "83/83 [==============================] - 10s 117ms/step - loss: 2.6074 - val_loss: 2.5972\n",
      "Epoch 93/250\n",
      "83/83 [==============================] - 10s 117ms/step - loss: 2.5932 - val_loss: 2.5848\n",
      "Epoch 94/250\n",
      "83/83 [==============================] - 10s 117ms/step - loss: 2.5784 - val_loss: 2.5731\n",
      "Epoch 95/250\n",
      "83/83 [==============================] - 10s 117ms/step - loss: 2.5697 - val_loss: 2.5618\n",
      "Epoch 96/250\n",
      "83/83 [==============================] - 10s 117ms/step - loss: 2.5563 - val_loss: 2.5496\n",
      "Epoch 97/250\n",
      "83/83 [==============================] - 10s 117ms/step - loss: 2.5494 - val_loss: 2.5383\n",
      "Epoch 98/250\n",
      "83/83 [==============================] - 10s 117ms/step - loss: 2.5350 - val_loss: 2.5269\n",
      "Epoch 99/250\n",
      "83/83 [==============================] - 10s 117ms/step - loss: 2.5194 - val_loss: 2.5164\n",
      "Epoch 100/250\n",
      "83/83 [==============================] - 10s 118ms/step - loss: 2.5115 - val_loss: 2.5050\n",
      "Epoch 101/250\n",
      "83/83 [==============================] - 10s 117ms/step - loss: 2.4990 - val_loss: 2.4948\n",
      "Epoch 102/250\n",
      "83/83 [==============================] - 10s 117ms/step - loss: 2.4938 - val_loss: 2.4844\n",
      "Epoch 103/250\n",
      "83/83 [==============================] - 10s 117ms/step - loss: 2.4822 - val_loss: 2.4736\n",
      "Epoch 104/250\n",
      "83/83 [==============================] - 10s 117ms/step - loss: 2.4758 - val_loss: 2.4642\n",
      "Epoch 105/250\n",
      "83/83 [==============================] - 10s 117ms/step - loss: 2.4663 - val_loss: 2.4546\n",
      "Epoch 106/250\n",
      "83/83 [==============================] - 10s 117ms/step - loss: 2.4508 - val_loss: 2.4442\n",
      "Epoch 107/250\n",
      "83/83 [==============================] - 10s 118ms/step - loss: 2.4447 - val_loss: 2.4345\n",
      "Epoch 108/250\n",
      "83/83 [==============================] - 10s 117ms/step - loss: 2.4287 - val_loss: 2.4253\n",
      "Epoch 109/250\n",
      "83/83 [==============================] - 10s 117ms/step - loss: 2.4218 - val_loss: 2.4161\n",
      "Epoch 110/250\n",
      "83/83 [==============================] - 10s 117ms/step - loss: 2.4149 - val_loss: 2.4064\n",
      "Epoch 111/250\n",
      "83/83 [==============================] - 10s 117ms/step - loss: 2.4073 - val_loss: 2.3973\n",
      "Epoch 112/250\n",
      "83/83 [==============================] - 10s 118ms/step - loss: 2.3990 - val_loss: 2.3890\n",
      "Epoch 113/250\n",
      "83/83 [==============================] - 10s 117ms/step - loss: 2.3884 - val_loss: 2.3805\n",
      "Epoch 114/250\n",
      "83/83 [==============================] - 10s 117ms/step - loss: 2.3782 - val_loss: 2.3714\n",
      "Epoch 115/250\n",
      "83/83 [==============================] - 10s 118ms/step - loss: 2.3759 - val_loss: 2.3632\n",
      "Epoch 116/250\n",
      "83/83 [==============================] - 10s 117ms/step - loss: 2.3598 - val_loss: 2.3547\n",
      "Epoch 117/250\n",
      "83/83 [==============================] - 10s 117ms/step - loss: 2.3511 - val_loss: 2.3462\n",
      "Epoch 118/250\n",
      "83/83 [==============================] - 10s 117ms/step - loss: 2.3488 - val_loss: 2.3382\n",
      "Epoch 119/250\n",
      "83/83 [==============================] - 10s 117ms/step - loss: 2.3373 - val_loss: 2.3304\n",
      "Epoch 120/250\n",
      "83/83 [==============================] - 10s 117ms/step - loss: 2.3289 - val_loss: 2.3216\n",
      "Epoch 121/250\n",
      "83/83 [==============================] - 10s 117ms/step - loss: 2.3164 - val_loss: 2.3151\n",
      "Epoch 122/250\n",
      "83/83 [==============================] - 10s 117ms/step - loss: 2.3135 - val_loss: 2.3063\n",
      "Epoch 123/250\n",
      "83/83 [==============================] - 10s 117ms/step - loss: 2.3052 - val_loss: 2.2988\n",
      "Epoch 124/250\n",
      "83/83 [==============================] - 10s 117ms/step - loss: 2.2945 - val_loss: 2.2910\n",
      "Epoch 125/250\n",
      "83/83 [==============================] - 10s 117ms/step - loss: 2.2846 - val_loss: 2.2837\n",
      "Epoch 126/250\n",
      "83/83 [==============================] - 10s 117ms/step - loss: 2.2811 - val_loss: 2.2767\n",
      "Epoch 127/250\n",
      "83/83 [==============================] - 10s 117ms/step - loss: 2.2759 - val_loss: 2.2690\n",
      "Epoch 128/250\n",
      "83/83 [==============================] - 10s 117ms/step - loss: 2.2720 - val_loss: 2.2622\n",
      "Epoch 129/250\n",
      "83/83 [==============================] - 10s 117ms/step - loss: 2.2570 - val_loss: 2.2545\n",
      "Epoch 130/250\n",
      "83/83 [==============================] - 10s 117ms/step - loss: 2.2496 - val_loss: 2.2487\n",
      "Epoch 131/250\n",
      "83/83 [==============================] - 10s 117ms/step - loss: 2.2427 - val_loss: 2.2410\n",
      "Epoch 132/250\n",
      "83/83 [==============================] - 10s 117ms/step - loss: 2.2398 - val_loss: 2.2340\n",
      "Epoch 133/250\n",
      "83/83 [==============================] - 10s 117ms/step - loss: 2.2318 - val_loss: 2.2268\n",
      "Epoch 134/250\n",
      "83/83 [==============================] - 10s 117ms/step - loss: 2.2252 - val_loss: 2.2202\n",
      "Epoch 135/250\n",
      "83/83 [==============================] - 10s 117ms/step - loss: 2.2209 - val_loss: 2.2137\n",
      "Epoch 136/250\n",
      "83/83 [==============================] - 10s 117ms/step - loss: 2.2135 - val_loss: 2.2072\n",
      "Epoch 137/250\n",
      "83/83 [==============================] - 10s 117ms/step - loss: 2.2073 - val_loss: 2.2010\n",
      "Epoch 138/250\n",
      "83/83 [==============================] - 10s 117ms/step - loss: 2.1979 - val_loss: 2.1942\n",
      "Epoch 139/250\n",
      "83/83 [==============================] - 10s 117ms/step - loss: 2.1997 - val_loss: 2.1877\n",
      "Epoch 140/250\n",
      "83/83 [==============================] - 10s 117ms/step - loss: 2.1863 - val_loss: 2.1816\n",
      "Epoch 141/250\n",
      "83/83 [==============================] - 10s 118ms/step - loss: 2.1794 - val_loss: 2.1752\n",
      "Epoch 142/250\n",
      "83/83 [==============================] - 10s 117ms/step - loss: 2.1727 - val_loss: 2.1703\n",
      "Epoch 143/250\n",
      "83/83 [==============================] - 10s 117ms/step - loss: 2.1641 - val_loss: 2.1655\n",
      "Epoch 144/250\n",
      "83/83 [==============================] - 10s 117ms/step - loss: 2.1594 - val_loss: 2.1579\n",
      "Epoch 145/250\n",
      "83/83 [==============================] - 10s 117ms/step - loss: 2.1486 - val_loss: 2.1522\n",
      "Epoch 146/250\n",
      "83/83 [==============================] - 10s 117ms/step - loss: 2.1524 - val_loss: 2.1455\n",
      "Epoch 147/250\n",
      "83/83 [==============================] - 10s 117ms/step - loss: 2.1449 - val_loss: 2.1401\n",
      "Epoch 148/250\n",
      "83/83 [==============================] - 10s 117ms/step - loss: 2.1343 - val_loss: 2.1335\n",
      "Epoch 149/250\n",
      "83/83 [==============================] - 10s 117ms/step - loss: 2.1289 - val_loss: 2.1281\n",
      "Epoch 150/250\n",
      "83/83 [==============================] - 10s 117ms/step - loss: 2.1232 - val_loss: 2.1223\n",
      "Epoch 151/250\n",
      "83/83 [==============================] - 10s 117ms/step - loss: 2.1256 - val_loss: 2.1168\n",
      "Epoch 152/250\n",
      "83/83 [==============================] - 10s 118ms/step - loss: 2.1204 - val_loss: 2.1117\n",
      "Epoch 153/250\n",
      "83/83 [==============================] - 10s 117ms/step - loss: 2.1081 - val_loss: 2.1061\n",
      "Epoch 154/250\n",
      "83/83 [==============================] - 10s 117ms/step - loss: 2.1049 - val_loss: 2.1003\n",
      "Epoch 155/250\n",
      "83/83 [==============================] - 10s 117ms/step - loss: 2.0942 - val_loss: 2.0949\n",
      "Epoch 156/250\n",
      "83/83 [==============================] - 10s 117ms/step - loss: 2.0922 - val_loss: 2.0898\n",
      "Epoch 157/250\n",
      "83/83 [==============================] - 10s 117ms/step - loss: 2.0819 - val_loss: 2.0841\n",
      "Epoch 158/250\n",
      "83/83 [==============================] - 10s 117ms/step - loss: 2.0809 - val_loss: 2.0793\n",
      "Epoch 159/250\n"
     ]
    },
    {
     "name": "stdout",
     "output_type": "stream",
     "text": [
      "83/83 [==============================] - 10s 117ms/step - loss: 2.0828 - val_loss: 2.0740\n",
      "Epoch 160/250\n",
      "83/83 [==============================] - 10s 117ms/step - loss: 2.0636 - val_loss: 2.0697\n",
      "Epoch 161/250\n",
      "83/83 [==============================] - 10s 117ms/step - loss: 2.0665 - val_loss: 2.0638\n",
      "Epoch 162/250\n",
      "83/83 [==============================] - 10s 117ms/step - loss: 2.0612 - val_loss: 2.0587\n",
      "Epoch 163/250\n",
      "83/83 [==============================] - 10s 118ms/step - loss: 2.0562 - val_loss: 2.0547\n",
      "Epoch 164/250\n",
      "83/83 [==============================] - 10s 117ms/step - loss: 2.0568 - val_loss: 2.0490\n",
      "Epoch 165/250\n",
      "83/83 [==============================] - 10s 118ms/step - loss: 2.0454 - val_loss: 2.0446\n",
      "Epoch 166/250\n",
      "83/83 [==============================] - 10s 117ms/step - loss: 2.0387 - val_loss: 2.0393\n",
      "Epoch 167/250\n",
      "83/83 [==============================] - 10s 118ms/step - loss: 2.0334 - val_loss: 2.0344\n",
      "Epoch 168/250\n",
      "83/83 [==============================] - 10s 117ms/step - loss: 2.0345 - val_loss: 2.0295\n",
      "Epoch 169/250\n",
      "83/83 [==============================] - 10s 117ms/step - loss: 2.0249 - val_loss: 2.0258\n",
      "Epoch 170/250\n",
      "83/83 [==============================] - 10s 117ms/step - loss: 2.0229 - val_loss: 2.0200\n",
      "Epoch 171/250\n",
      "83/83 [==============================] - 10s 118ms/step - loss: 2.0177 - val_loss: 2.0154\n",
      "Epoch 172/250\n",
      "83/83 [==============================] - 10s 117ms/step - loss: 2.0098 - val_loss: 2.0109\n",
      "Epoch 173/250\n",
      "83/83 [==============================] - 10s 117ms/step - loss: 2.0072 - val_loss: 2.0077\n",
      "Epoch 174/250\n",
      "83/83 [==============================] - 10s 117ms/step - loss: 2.0023 - val_loss: 2.0018\n",
      "Epoch 175/250\n",
      "83/83 [==============================] - 10s 118ms/step - loss: 1.9951 - val_loss: 1.9974\n",
      "Epoch 176/250\n",
      "83/83 [==============================] - 10s 117ms/step - loss: 1.9928 - val_loss: 1.9926\n",
      "Epoch 177/250\n",
      "83/83 [==============================] - 10s 117ms/step - loss: 1.9937 - val_loss: 1.9884\n",
      "Epoch 178/250\n",
      "83/83 [==============================] - 10s 117ms/step - loss: 1.9825 - val_loss: 1.9837\n",
      "Epoch 179/250\n",
      "83/83 [==============================] - 10s 118ms/step - loss: 1.9879 - val_loss: 1.9793\n",
      "Epoch 180/250\n",
      "83/83 [==============================] - 10s 117ms/step - loss: 1.9747 - val_loss: 1.9759\n",
      "Epoch 181/250\n",
      "83/83 [==============================] - 10s 118ms/step - loss: 1.9713 - val_loss: 1.9710\n",
      "Epoch 182/250\n",
      "83/83 [==============================] - 10s 118ms/step - loss: 1.9691 - val_loss: 1.9668\n",
      "Epoch 183/250\n",
      "83/83 [==============================] - 10s 117ms/step - loss: 1.9638 - val_loss: 1.9621\n",
      "Epoch 184/250\n",
      "83/83 [==============================] - 10s 117ms/step - loss: 1.9613 - val_loss: 1.9579\n",
      "Epoch 185/250\n",
      "83/83 [==============================] - 10s 117ms/step - loss: 1.9582 - val_loss: 1.9540\n",
      "Epoch 186/250\n",
      "83/83 [==============================] - 10s 117ms/step - loss: 1.9498 - val_loss: 1.9516\n",
      "Epoch 187/250\n",
      "83/83 [==============================] - 10s 117ms/step - loss: 1.9463 - val_loss: 1.9457\n",
      "Epoch 188/250\n",
      "83/83 [==============================] - 10s 117ms/step - loss: 1.9412 - val_loss: 1.9415\n",
      "Epoch 189/250\n",
      "83/83 [==============================] - 10s 117ms/step - loss: 1.9329 - val_loss: 1.9388\n",
      "Epoch 190/250\n",
      "83/83 [==============================] - 10s 117ms/step - loss: 1.9331 - val_loss: 1.9330\n",
      "Epoch 191/250\n",
      "83/83 [==============================] - 10s 117ms/step - loss: 1.9310 - val_loss: 1.9300\n",
      "Epoch 192/250\n",
      "83/83 [==============================] - 10s 117ms/step - loss: 1.9226 - val_loss: 1.9258\n",
      "Epoch 193/250\n",
      "83/83 [==============================] - 10s 117ms/step - loss: 1.9150 - val_loss: 1.9208\n",
      "Epoch 194/250\n",
      "83/83 [==============================] - 10s 117ms/step - loss: 1.9155 - val_loss: 1.9170\n",
      "Epoch 195/250\n",
      "83/83 [==============================] - 10s 117ms/step - loss: 1.9111 - val_loss: 1.9131\n",
      "Epoch 196/250\n",
      "83/83 [==============================] - 10s 117ms/step - loss: 1.9067 - val_loss: 1.9089\n",
      "Epoch 197/250\n",
      "83/83 [==============================] - 10s 117ms/step - loss: 1.9051 - val_loss: 1.9051\n",
      "Epoch 198/250\n",
      "83/83 [==============================] - 10s 118ms/step - loss: 1.8956 - val_loss: 1.9012\n",
      "Epoch 199/250\n",
      "83/83 [==============================] - 10s 117ms/step - loss: 1.9015 - val_loss: 1.8972\n",
      "Epoch 200/250\n",
      "83/83 [==============================] - 10s 117ms/step - loss: 1.8948 - val_loss: 1.8935\n",
      "Epoch 201/250\n",
      "83/83 [==============================] - 10s 117ms/step - loss: 1.8892 - val_loss: 1.8894\n",
      "Epoch 202/250\n",
      "83/83 [==============================] - 10s 117ms/step - loss: 1.8842 - val_loss: 1.8870\n",
      "Epoch 203/250\n",
      "83/83 [==============================] - 10s 117ms/step - loss: 1.8808 - val_loss: 1.8817\n",
      "Epoch 204/250\n",
      "83/83 [==============================] - 10s 117ms/step - loss: 1.8830 - val_loss: 1.8787\n",
      "Epoch 205/250\n",
      "83/83 [==============================] - 10s 117ms/step - loss: 1.8734 - val_loss: 1.8748\n",
      "Epoch 206/250\n",
      "83/83 [==============================] - 10s 117ms/step - loss: 1.8733 - val_loss: 1.8706\n",
      "Epoch 207/250\n",
      "83/83 [==============================] - 10s 117ms/step - loss: 1.8619 - val_loss: 1.8671\n",
      "Epoch 208/250\n",
      "83/83 [==============================] - 10s 117ms/step - loss: 1.8630 - val_loss: 1.8631\n",
      "Epoch 209/250\n",
      "83/83 [==============================] - 10s 117ms/step - loss: 1.8587 - val_loss: 1.8593\n",
      "Epoch 210/250\n",
      "83/83 [==============================] - 10s 117ms/step - loss: 1.8592 - val_loss: 1.8555\n",
      "Epoch 211/250\n",
      "83/83 [==============================] - 10s 117ms/step - loss: 1.8514 - val_loss: 1.8516\n",
      "Epoch 212/250\n",
      "83/83 [==============================] - 10s 118ms/step - loss: 1.8494 - val_loss: 1.8501\n",
      "Epoch 213/250\n",
      "83/83 [==============================] - 10s 117ms/step - loss: 1.8420 - val_loss: 1.8442\n",
      "Epoch 214/250\n",
      "83/83 [==============================] - 10s 118ms/step - loss: 1.8400 - val_loss: 1.8408\n",
      "Epoch 215/250\n",
      "83/83 [==============================] - 10s 117ms/step - loss: 1.8354 - val_loss: 1.8371\n",
      "Epoch 216/250\n",
      "83/83 [==============================] - 10s 117ms/step - loss: 1.8312 - val_loss: 1.8332\n",
      "Epoch 217/250\n",
      "83/83 [==============================] - 10s 117ms/step - loss: 1.8274 - val_loss: 1.8294\n",
      "Epoch 218/250\n",
      "83/83 [==============================] - 10s 117ms/step - loss: 1.8232 - val_loss: 1.8259\n",
      "Epoch 219/250\n",
      "83/83 [==============================] - 10s 117ms/step - loss: 1.8214 - val_loss: 1.8240\n",
      "Epoch 220/250\n",
      "83/83 [==============================] - 10s 117ms/step - loss: 1.8145 - val_loss: 1.8192\n",
      "Epoch 221/250\n",
      "83/83 [==============================] - 10s 117ms/step - loss: 1.8145 - val_loss: 1.8152\n",
      "Epoch 222/250\n",
      "83/83 [==============================] - 10s 117ms/step - loss: 1.8082 - val_loss: 1.8119\n",
      "Epoch 223/250\n",
      "83/83 [==============================] - 10s 118ms/step - loss: 1.8050 - val_loss: 1.8085\n",
      "Epoch 224/250\n",
      "83/83 [==============================] - 10s 117ms/step - loss: 1.8022 - val_loss: 1.8043\n",
      "Epoch 225/250\n",
      "83/83 [==============================] - 10s 117ms/step - loss: 1.8006 - val_loss: 1.8006\n",
      "Epoch 226/250\n",
      "83/83 [==============================] - 10s 117ms/step - loss: 1.7991 - val_loss: 1.7971\n",
      "Epoch 227/250\n",
      "83/83 [==============================] - 10s 117ms/step - loss: 1.7950 - val_loss: 1.7934\n",
      "Epoch 228/250\n",
      "83/83 [==============================] - 10s 117ms/step - loss: 1.7884 - val_loss: 1.7925\n",
      "Epoch 229/250\n",
      "83/83 [==============================] - 10s 117ms/step - loss: 1.7900 - val_loss: 1.7876\n",
      "Epoch 230/250\n",
      "83/83 [==============================] - 10s 117ms/step - loss: 1.7783 - val_loss: 1.7832\n",
      "Epoch 231/250\n",
      "83/83 [==============================] - 10s 117ms/step - loss: 1.7780 - val_loss: 1.7792\n",
      "Epoch 232/250\n",
      "83/83 [==============================] - 10s 117ms/step - loss: 1.7785 - val_loss: 1.7755\n",
      "Epoch 233/250\n",
      "83/83 [==============================] - 10s 117ms/step - loss: 1.7762 - val_loss: 1.7721\n",
      "Epoch 234/250\n",
      "83/83 [==============================] - 10s 117ms/step - loss: 1.7671 - val_loss: 1.7684\n",
      "Epoch 235/250\n",
      "83/83 [==============================] - 10s 117ms/step - loss: 1.7703 - val_loss: 1.7651\n",
      "Epoch 236/250\n",
      "59/83 [====================>.........] - ETA: 2s - loss: 1.7575"
     ]
    },
    {
     "ename": "KeyboardInterrupt",
     "evalue": "",
     "output_type": "error",
     "traceback": [
      "\u001b[0;31m---------------------------------------------------------------------------\u001b[0m",
      "\u001b[0;31mKeyboardInterrupt\u001b[0m                         Traceback (most recent call last)",
      "\u001b[0;32m/tmp/ipykernel_594266/3131077203.py\u001b[0m in \u001b[0;36m<module>\u001b[0;34m\u001b[0m\n\u001b[1;32m      1\u001b[0m \u001b[0mnn_image\u001b[0m \u001b[0;34m=\u001b[0m \u001b[0mmodelOn\u001b[0m\u001b[0;34m(\u001b[0m\u001b[0mnn_im\u001b[0m\u001b[0;34m)\u001b[0m\u001b[0;34m\u001b[0m\u001b[0;34m\u001b[0m\u001b[0m\n\u001b[1;32m      2\u001b[0m \u001b[0mnn_image\u001b[0m\u001b[0;34m.\u001b[0m\u001b[0mcompile\u001b[0m\u001b[0;34m(\u001b[0m\u001b[0moptimizer\u001b[0m\u001b[0;34m=\u001b[0m\u001b[0mAdam\u001b[0m\u001b[0;34m(\u001b[0m\u001b[0;36m1e-5\u001b[0m\u001b[0;34m)\u001b[0m\u001b[0;34m,\u001b[0m \u001b[0mloss\u001b[0m\u001b[0;34m=\u001b[0m\u001b[0msample_bernoulli_nll\u001b[0m\u001b[0;34m,\u001b[0m \u001b[0mrun_eagerly\u001b[0m\u001b[0;34m=\u001b[0m\u001b[0;32mFalse\u001b[0m\u001b[0;34m)\u001b[0m  \u001b[0;31m##adamle-5\u001b[0m\u001b[0;34m\u001b[0m\u001b[0;34m\u001b[0m\u001b[0m\n\u001b[0;32m----> 3\u001b[0;31m results = nn_image.fit(x = train_imgs_scaled, \n\u001b[0m\u001b[1;32m      4\u001b[0m                         \u001b[0my\u001b[0m \u001b[0;34m=\u001b[0m \u001b[0mtrain_labels\u001b[0m\u001b[0;34m,\u001b[0m\u001b[0;34m\u001b[0m\u001b[0;34m\u001b[0m\u001b[0m\n\u001b[1;32m      5\u001b[0m                         \u001b[0mvalidation_data\u001b[0m \u001b[0;34m=\u001b[0m \u001b[0;34m(\u001b[0m\u001b[0mvalidation_imgs_scaled\u001b[0m\u001b[0;34m,\u001b[0m \u001b[0mval_labels\u001b[0m\u001b[0;34m)\u001b[0m\u001b[0;34m,\u001b[0m\u001b[0;34m\u001b[0m\u001b[0;34m\u001b[0m\u001b[0m\n",
      "\u001b[0;32m~/anaconda3/envs/tfEnv/lib/python3.9/site-packages/tensorflow/python/keras/engine/training.py\u001b[0m in \u001b[0;36mfit\u001b[0;34m(self, x, y, batch_size, epochs, verbose, callbacks, validation_split, validation_data, shuffle, class_weight, sample_weight, initial_epoch, steps_per_epoch, validation_steps, validation_batch_size, validation_freq, max_queue_size, workers, use_multiprocessing)\u001b[0m\n\u001b[1;32m   1098\u001b[0m                 _r=1):\n\u001b[1;32m   1099\u001b[0m               \u001b[0mcallbacks\u001b[0m\u001b[0;34m.\u001b[0m\u001b[0mon_train_batch_begin\u001b[0m\u001b[0;34m(\u001b[0m\u001b[0mstep\u001b[0m\u001b[0;34m)\u001b[0m\u001b[0;34m\u001b[0m\u001b[0;34m\u001b[0m\u001b[0m\n\u001b[0;32m-> 1100\u001b[0;31m               \u001b[0mtmp_logs\u001b[0m \u001b[0;34m=\u001b[0m \u001b[0mself\u001b[0m\u001b[0;34m.\u001b[0m\u001b[0mtrain_function\u001b[0m\u001b[0;34m(\u001b[0m\u001b[0miterator\u001b[0m\u001b[0;34m)\u001b[0m\u001b[0;34m\u001b[0m\u001b[0;34m\u001b[0m\u001b[0m\n\u001b[0m\u001b[1;32m   1101\u001b[0m               \u001b[0;32mif\u001b[0m \u001b[0mdata_handler\u001b[0m\u001b[0;34m.\u001b[0m\u001b[0mshould_sync\u001b[0m\u001b[0;34m:\u001b[0m\u001b[0;34m\u001b[0m\u001b[0;34m\u001b[0m\u001b[0m\n\u001b[1;32m   1102\u001b[0m                 \u001b[0mcontext\u001b[0m\u001b[0;34m.\u001b[0m\u001b[0masync_wait\u001b[0m\u001b[0;34m(\u001b[0m\u001b[0;34m)\u001b[0m\u001b[0;34m\u001b[0m\u001b[0;34m\u001b[0m\u001b[0m\n",
      "\u001b[0;32m~/anaconda3/envs/tfEnv/lib/python3.9/site-packages/tensorflow/python/eager/def_function.py\u001b[0m in \u001b[0;36m__call__\u001b[0;34m(self, *args, **kwds)\u001b[0m\n\u001b[1;32m    826\u001b[0m     \u001b[0mtracing_count\u001b[0m \u001b[0;34m=\u001b[0m \u001b[0mself\u001b[0m\u001b[0;34m.\u001b[0m\u001b[0mexperimental_get_tracing_count\u001b[0m\u001b[0;34m(\u001b[0m\u001b[0;34m)\u001b[0m\u001b[0;34m\u001b[0m\u001b[0;34m\u001b[0m\u001b[0m\n\u001b[1;32m    827\u001b[0m     \u001b[0;32mwith\u001b[0m \u001b[0mtrace\u001b[0m\u001b[0;34m.\u001b[0m\u001b[0mTrace\u001b[0m\u001b[0;34m(\u001b[0m\u001b[0mself\u001b[0m\u001b[0;34m.\u001b[0m\u001b[0m_name\u001b[0m\u001b[0;34m)\u001b[0m \u001b[0;32mas\u001b[0m \u001b[0mtm\u001b[0m\u001b[0;34m:\u001b[0m\u001b[0;34m\u001b[0m\u001b[0;34m\u001b[0m\u001b[0m\n\u001b[0;32m--> 828\u001b[0;31m       \u001b[0mresult\u001b[0m \u001b[0;34m=\u001b[0m \u001b[0mself\u001b[0m\u001b[0;34m.\u001b[0m\u001b[0m_call\u001b[0m\u001b[0;34m(\u001b[0m\u001b[0;34m*\u001b[0m\u001b[0margs\u001b[0m\u001b[0;34m,\u001b[0m \u001b[0;34m**\u001b[0m\u001b[0mkwds\u001b[0m\u001b[0;34m)\u001b[0m\u001b[0;34m\u001b[0m\u001b[0;34m\u001b[0m\u001b[0m\n\u001b[0m\u001b[1;32m    829\u001b[0m       \u001b[0mcompiler\u001b[0m \u001b[0;34m=\u001b[0m \u001b[0;34m\"xla\"\u001b[0m \u001b[0;32mif\u001b[0m \u001b[0mself\u001b[0m\u001b[0;34m.\u001b[0m\u001b[0m_experimental_compile\u001b[0m \u001b[0;32melse\u001b[0m \u001b[0;34m\"nonXla\"\u001b[0m\u001b[0;34m\u001b[0m\u001b[0;34m\u001b[0m\u001b[0m\n\u001b[1;32m    830\u001b[0m       \u001b[0mnew_tracing_count\u001b[0m \u001b[0;34m=\u001b[0m \u001b[0mself\u001b[0m\u001b[0;34m.\u001b[0m\u001b[0mexperimental_get_tracing_count\u001b[0m\u001b[0;34m(\u001b[0m\u001b[0;34m)\u001b[0m\u001b[0;34m\u001b[0m\u001b[0;34m\u001b[0m\u001b[0m\n",
      "\u001b[0;32m~/anaconda3/envs/tfEnv/lib/python3.9/site-packages/tensorflow/python/eager/def_function.py\u001b[0m in \u001b[0;36m_call\u001b[0;34m(self, *args, **kwds)\u001b[0m\n\u001b[1;32m    853\u001b[0m       \u001b[0;31m# In this case we have created variables on the first call, so we run the\u001b[0m\u001b[0;34m\u001b[0m\u001b[0;34m\u001b[0m\u001b[0m\n\u001b[1;32m    854\u001b[0m       \u001b[0;31m# defunned version which is guaranteed to never create variables.\u001b[0m\u001b[0;34m\u001b[0m\u001b[0;34m\u001b[0m\u001b[0m\n\u001b[0;32m--> 855\u001b[0;31m       \u001b[0;32mreturn\u001b[0m \u001b[0mself\u001b[0m\u001b[0;34m.\u001b[0m\u001b[0m_stateless_fn\u001b[0m\u001b[0;34m(\u001b[0m\u001b[0;34m*\u001b[0m\u001b[0margs\u001b[0m\u001b[0;34m,\u001b[0m \u001b[0;34m**\u001b[0m\u001b[0mkwds\u001b[0m\u001b[0;34m)\u001b[0m  \u001b[0;31m# pylint: disable=not-callable\u001b[0m\u001b[0;34m\u001b[0m\u001b[0;34m\u001b[0m\u001b[0m\n\u001b[0m\u001b[1;32m    856\u001b[0m     \u001b[0;32melif\u001b[0m \u001b[0mself\u001b[0m\u001b[0;34m.\u001b[0m\u001b[0m_stateful_fn\u001b[0m \u001b[0;32mis\u001b[0m \u001b[0;32mnot\u001b[0m \u001b[0;32mNone\u001b[0m\u001b[0;34m:\u001b[0m\u001b[0;34m\u001b[0m\u001b[0;34m\u001b[0m\u001b[0m\n\u001b[1;32m    857\u001b[0m       \u001b[0;31m# Release the lock early so that multiple threads can perform the call\u001b[0m\u001b[0;34m\u001b[0m\u001b[0;34m\u001b[0m\u001b[0m\n",
      "\u001b[0;32m~/anaconda3/envs/tfEnv/lib/python3.9/site-packages/tensorflow/python/eager/function.py\u001b[0m in \u001b[0;36m__call__\u001b[0;34m(self, *args, **kwargs)\u001b[0m\n\u001b[1;32m   2940\u001b[0m       (graph_function,\n\u001b[1;32m   2941\u001b[0m        filtered_flat_args) = self._maybe_define_function(args, kwargs)\n\u001b[0;32m-> 2942\u001b[0;31m     return graph_function._call_flat(\n\u001b[0m\u001b[1;32m   2943\u001b[0m         filtered_flat_args, captured_inputs=graph_function.captured_inputs)  # pylint: disable=protected-access\n\u001b[1;32m   2944\u001b[0m \u001b[0;34m\u001b[0m\u001b[0m\n",
      "\u001b[0;32m~/anaconda3/envs/tfEnv/lib/python3.9/site-packages/tensorflow/python/eager/function.py\u001b[0m in \u001b[0;36m_call_flat\u001b[0;34m(self, args, captured_inputs, cancellation_manager)\u001b[0m\n\u001b[1;32m   1916\u001b[0m         and executing_eagerly):\n\u001b[1;32m   1917\u001b[0m       \u001b[0;31m# No tape is watching; skip to running the function.\u001b[0m\u001b[0;34m\u001b[0m\u001b[0;34m\u001b[0m\u001b[0m\n\u001b[0;32m-> 1918\u001b[0;31m       return self._build_call_outputs(self._inference_function.call(\n\u001b[0m\u001b[1;32m   1919\u001b[0m           ctx, args, cancellation_manager=cancellation_manager))\n\u001b[1;32m   1920\u001b[0m     forward_backward = self._select_forward_and_backward_functions(\n",
      "\u001b[0;32m~/anaconda3/envs/tfEnv/lib/python3.9/site-packages/tensorflow/python/eager/function.py\u001b[0m in \u001b[0;36mcall\u001b[0;34m(self, ctx, args, cancellation_manager)\u001b[0m\n\u001b[1;32m    553\u001b[0m       \u001b[0;32mwith\u001b[0m \u001b[0m_InterpolateFunctionError\u001b[0m\u001b[0;34m(\u001b[0m\u001b[0mself\u001b[0m\u001b[0;34m)\u001b[0m\u001b[0;34m:\u001b[0m\u001b[0;34m\u001b[0m\u001b[0;34m\u001b[0m\u001b[0m\n\u001b[1;32m    554\u001b[0m         \u001b[0;32mif\u001b[0m \u001b[0mcancellation_manager\u001b[0m \u001b[0;32mis\u001b[0m \u001b[0;32mNone\u001b[0m\u001b[0;34m:\u001b[0m\u001b[0;34m\u001b[0m\u001b[0;34m\u001b[0m\u001b[0m\n\u001b[0;32m--> 555\u001b[0;31m           outputs = execute.execute(\n\u001b[0m\u001b[1;32m    556\u001b[0m               \u001b[0mstr\u001b[0m\u001b[0;34m(\u001b[0m\u001b[0mself\u001b[0m\u001b[0;34m.\u001b[0m\u001b[0msignature\u001b[0m\u001b[0;34m.\u001b[0m\u001b[0mname\u001b[0m\u001b[0;34m)\u001b[0m\u001b[0;34m,\u001b[0m\u001b[0;34m\u001b[0m\u001b[0;34m\u001b[0m\u001b[0m\n\u001b[1;32m    557\u001b[0m               \u001b[0mnum_outputs\u001b[0m\u001b[0;34m=\u001b[0m\u001b[0mself\u001b[0m\u001b[0;34m.\u001b[0m\u001b[0m_num_outputs\u001b[0m\u001b[0;34m,\u001b[0m\u001b[0;34m\u001b[0m\u001b[0;34m\u001b[0m\u001b[0m\n",
      "\u001b[0;32m~/anaconda3/envs/tfEnv/lib/python3.9/site-packages/tensorflow/python/eager/execute.py\u001b[0m in \u001b[0;36mquick_execute\u001b[0;34m(op_name, num_outputs, inputs, attrs, ctx, name)\u001b[0m\n\u001b[1;32m     57\u001b[0m   \u001b[0;32mtry\u001b[0m\u001b[0;34m:\u001b[0m\u001b[0;34m\u001b[0m\u001b[0;34m\u001b[0m\u001b[0m\n\u001b[1;32m     58\u001b[0m     \u001b[0mctx\u001b[0m\u001b[0;34m.\u001b[0m\u001b[0mensure_initialized\u001b[0m\u001b[0;34m(\u001b[0m\u001b[0;34m)\u001b[0m\u001b[0;34m\u001b[0m\u001b[0;34m\u001b[0m\u001b[0m\n\u001b[0;32m---> 59\u001b[0;31m     tensors = pywrap_tfe.TFE_Py_Execute(ctx._handle, device_name, op_name,\n\u001b[0m\u001b[1;32m     60\u001b[0m                                         inputs, attrs, num_outputs)\n\u001b[1;32m     61\u001b[0m   \u001b[0;32mexcept\u001b[0m \u001b[0mcore\u001b[0m\u001b[0;34m.\u001b[0m\u001b[0m_NotOkStatusException\u001b[0m \u001b[0;32mas\u001b[0m \u001b[0me\u001b[0m\u001b[0;34m:\u001b[0m\u001b[0;34m\u001b[0m\u001b[0;34m\u001b[0m\u001b[0m\n",
      "\u001b[0;31mKeyboardInterrupt\u001b[0m: "
     ]
    }
   ],
   "source": [
    "\n",
    "nn_image = modelOn(nn_im)\n",
    "nn_image.compile(optimizer=Adam(1e-5), loss=sample_bernoulli_nll, run_eagerly=False)  ##adamle-5\n",
    "results = nn_image.fit(x = train_imgs_scaled, \n",
    "                        y = train_labels,\n",
    "                        validation_data = (validation_imgs_scaled, val_labels),\n",
    "                        batch_size=256,\n",
    "                        epochs = 250, ##250\n",
    "                        verbose= True)  "
   ]
  },
  {
   "cell_type": "code",
   "execution_count": null,
   "metadata": {},
   "outputs": [],
   "source": [
    "# save results\n",
    "dat = pd.DataFrame({'train_loss': results.history['loss'], \n",
    "                        'test_loss': results.history['val_loss']})\n",
    "dat.to_csv('./performance/imageTMVI/history.csv', index=False)"
   ]
  },
  {
   "cell_type": "code",
   "execution_count": 35,
   "metadata": {},
   "outputs": [],
   "source": [
    "loss1 = pd.read_csv('./performance/imageTMVI/history.csv')"
   ]
  },
  {
   "cell_type": "code",
   "execution_count": 70,
   "metadata": {},
   "outputs": [
    {
     "data": {
      "text/plain": [
       "<matplotlib.legend.Legend at 0x7fa89dd074f0>"
      ]
     },
     "execution_count": 70,
     "metadata": {},
     "output_type": "execute_result"
    },
    {
     "data": {
      "image/png": "[encoded data removed]",
      "text/plain": [
       "<Figure size 720x432 with 1 Axes>"
      ]
     },
     "metadata": {
      "needs_background": "light"
     },
     "output_type": "display_data"
    }
   ],
   "source": [
    "plt.figure(figsize=(10,6))\n",
    "plt.rcParams.update(({'font.size': 16}))\n",
    "plt.plot(loss1['train_loss'],label=\"Train Loss\")\n",
    "plt.plot(loss1['test_loss'], label=\"Validation Loss\")\n",
    "plt.legend()\n",
    "\n",
    "plt.xlabel(\"epochs\")\n",
    "plt.ylabel(\"loss\")\n",
    "#plt.ylim(1,4)\n",
    "plt.yticks(np.arange(1, 7, 0.5))\n",
    "plt.legend(fontsize='x-small')\n",
    "#plt.yscale('log')"
   ]
  },
  {
   "cell_type": "code",
   "execution_count": 19,
   "metadata": {},
   "outputs": [],
   "source": [
    "#### save model weights only eta\n",
    "#nn_im.save_weights(\"models/CNNLastLayerTMVI\", save_format =\"tf\")\n",
    "#### save model weights whole model\n",
    "#nn_image.save_weights(\"models/CNNLastLayerTMVIWhole\", save_format =\"tf\")"
   ]
  },
  {
   "cell_type": "code",
   "execution_count": 38,
   "metadata": {},
   "outputs": [
    {
     "data": {
      "text/plain": [
       "<tensorflow.python.training.tracking.util.CheckpointLoadStatus at 0x7fb9c6f72d60>"
      ]
     },
     "execution_count": 38,
     "metadata": {},
     "output_type": "execute_result"
    }
   ],
   "source": [
    "### recreate Model eta\n",
    "nn_im.compile(optimizer=RMSprop(), loss=sample_bernoulli_nll, run_eagerly=False,metrics=[sample_bernoulli_nll])\n",
    "nn_im.load_weights(\"models/CNNLastLayerTMVI\")\n",
    "\n",
    "### recreate whole Model\n",
    "nn_image.compile(optimizer=RMSprop(), loss=sample_bernoulli_nll, run_eagerly=False,metrics=[sample_bernoulli_nll])\n",
    "#nn_im.fit(x =train_imgs_scaled,y = train_labels, verbose=True)\n",
    "### load the state of the old model\n",
    "nn_image.load_weights(\"models/CNNLastLayerTMVIWhole\")"
   ]
  },
  {
   "cell_type": "markdown",
   "metadata": {},
   "source": [
    "## Posterior for 1, 2 images"
   ]
  },
  {
   "cell_type": "code",
   "execution_count": 204,
   "metadata": {},
   "outputs": [
    {
     "data": {
      "image/png": "[encoded data removed]",
      "text/plain": [
       "<Figure size 864x360 with 2 Axes>"
      ]
     },
     "metadata": {
      "needs_background": "light"
     },
     "output_type": "display_data"
    }
   ],
   "source": [
    "\n",
    "\n",
    "\n",
    "fig =plt.figure(figsize=(12,5))\n",
    "plt.rcParams.update(({'font.size': 16}))\n",
    "plt.subplot(121)\n",
    "y_pred = nn_im.predict(test_imgs_scaled[8:9],batch_size =1)\n",
    "flat_list = [item for sublist in y_pred for item in sublist]\n",
    "flat_list2 =[item for sublist in flat_list for item in sublist]\n",
    "sns.kdeplot(flat_list2,label=\"TM-VI\")\n",
    "\n",
    "y_pred = nn_imG.predict(test_imgs_scaled[8:9],batch_size =1)\n",
    "flat_list = [item for sublist in y_pred for item in sublist]\n",
    "flat_list2 =[item for sublist in flat_list for item in sublist]\n",
    "sns.kdeplot(flat_list2, label=\"Gaussian-VI\")\n",
    "plt.yticks(np.arange(0, 0.9, 0.1))\n",
    "plt.xticks(np.arange(-10, 2, 2))\n",
    "plt.xlabel(\"$\\\\vartheta(B)$\")\n",
    "plt.ylabel(\"$p(\\\\vartheta(B)|D)$\")\n",
    "\n",
    "\n",
    "\n",
    "plt.legend(fontsize=12)\n",
    "\n",
    "\n",
    "\n",
    "\n",
    "\n",
    "\n",
    "\n",
    "\n",
    "\n",
    "plt.subplot(122)\n",
    "y_pred = nn_im.predict(test_imgs_scaled[7:8],batch_size =1)\n",
    "flat_list = [item for sublist in y_pred for item in sublist]\n",
    "flat_list2 =[item for sublist in flat_list for item in sublist]\n",
    "sns.kdeplot(flat_list2,label=\"TM-VI\")\n",
    "\n",
    "y_pred = nn_imG.predict(test_imgs_scaled[7:8],batch_size =1)\n",
    "flat_list = [item for sublist in y_pred for item in sublist]\n",
    "flat_list2 =[item for sublist in flat_list for item in sublist]\n",
    "sns.kdeplot(flat_list2, label=\"Gaussian-VI\")\n",
    "plt.xlabel(\"$\\\\vartheta(B)$\")\n",
    "plt.yticks(np.arange(0, 0.9, 0.1))\n",
    "plt.xticks(np.arange(-10, 2, 2))\n",
    "plt.ylabel(\"$p(\\\\vartheta(B)|D)$\")\n",
    "plt.legend(fontsize=12)\n",
    "\n",
    "\n",
    "\n",
    " \n",
    "\n",
    "\n",
    "\n",
    "\n",
    "\n",
    "\n",
    "\n",
    "\n",
    "\n",
    "\n",
    "\n",
    "fig.tight_layout(pad=1.5)\n",
    "\n",
    "plt.savefig('./plots/uncertainty/imagePosteriorExamples.pdf')\n",
    "\n",
    "\n",
    "plt.show()\n",
    "\n",
    "\n"
   ]
  },
  {
   "cell_type": "code",
   "execution_count": 205,
   "metadata": {},
   "outputs": [
    {
     "data": {
      "text/plain": [
       "<matplotlib.image.AxesImage at 0x7f1a1e161130>"
      ]
     },
     "execution_count": 205,
     "metadata": {},
     "output_type": "execute_result"
    },
    {
     "data": {
      "image/png": "[encoded data removed]",
      "text/plain": [
       "<Figure size 432x288 with 1 Axes>"
      ]
     },
     "metadata": {
      "needs_background": "light"
     },
     "output_type": "display_data"
    }
   ],
   "source": [
    "plt.imshow(train_imgs_scaled[7:8][0])"
   ]
  },
  {
   "cell_type": "code",
   "execution_count": 48,
   "metadata": {},
   "outputs": [
    {
     "name": "stderr",
     "output_type": "stream",
     "text": [
      "2021-11-16 22:11:21.307301: W tensorflow/core/framework/cpu_allocator_impl.cc:80] Allocation of 1302724608 exceeds 10% of free system memory.\n"
     ]
    }
   ],
   "source": [
    "y_pred = nn_image.predict(test_imgs_scaled,batch_size =1)\n",
    "samples = y_pred.reshape(-1, 1000) ###every datapoint one sample\n",
    "meanpred = samples.mean(axis=1)  ###mean samples \n",
    "predictions=meanpred.reshape(6626,1)"
   ]
  },
  {
   "cell_type": "code",
   "execution_count": 111,
   "metadata": {},
   "outputs": [],
   "source": [
    "ss = np.argmax(predictions,axis=1)\n",
    "u =test_labels.values"
   ]
  },
  {
   "cell_type": "code",
   "execution_count": 112,
   "metadata": {},
   "outputs": [],
   "source": [
    "indices = [i for i,v in enumerate(ss) if ss[i]!=u[i]]"
   ]
  },
  {
   "cell_type": "code",
   "execution_count": 113,
   "metadata": {},
   "outputs": [],
   "source": [
    "indicesCorrect = [i for i,v in enumerate(ss) if ss[i]==u[i]]"
   ]
  },
  {
   "cell_type": "code",
   "execution_count": 110,
   "metadata": {
    "scrolled": true
   },
   "outputs": [
    {
     "data": {
      "text/plain": [
       "116"
      ]
     },
     "execution_count": 110,
     "metadata": {},
     "output_type": "execute_result"
    }
   ],
   "source": [
    "testMiss = test_imgs_scaled[indices]\n",
    "testCorrect= test_imgs_scaled[indicesCorrect]\n"
   ]
  },
  {
   "cell_type": "code",
   "execution_count": 170,
   "metadata": {},
   "outputs": [
    {
     "data": {
      "text/plain": [
       "0.0764193419706728"
      ]
     },
     "execution_count": 170,
     "metadata": {},
     "output_type": "execute_result"
    }
   ],
   "source": [
    "logloss = neg_log_likelihood(test_labels,predictions)\n",
    "logloss"
   ]
  },
  {
   "cell_type": "code",
   "execution_count": 259,
   "metadata": {},
   "outputs": [
    {
     "name": "stdout",
     "output_type": "stream",
     "text": [
      "AUC=0.83, 95% CI: 0.80-0.86\n"
     ]
    }
   ],
   "source": [
    "score, ci_lower, ci_upper, scores =score_ci(test_labels, meanpred, score_fun=roc_auc_score)\n",
    "print(\"AUC={:.2f}, 95% CI: {:.2f}-{:.2f}\".format(score, ci_lower, ci_upper))\n",
    "ciAuc= \"{:.2f}-{:.2f}\".format(ci_lower, ci_upper)"
   ]
  },
  {
   "cell_type": "code",
   "execution_count": null,
   "metadata": {},
   "outputs": [],
   "source": []
  },
  {
   "cell_type": "markdown",
   "metadata": {},
   "source": [
    "## OOD "
   ]
  },
  {
   "cell_type": "code",
   "execution_count": 39,
   "metadata": {},
   "outputs": [],
   "source": [
    "###eta\n",
    "y_predTabOOD = nn_im.predict(random,batch_size =1)\n",
    "\n",
    "\n",
    "\n",
    "samplesImgOOD = y_predTabOOD.reshape(-1, 1000) ###every datapoint one sample\n",
    "\n",
    "meanpredImgOOD = samplesImgOOD.mean(axis=1)  ###mean samples \n",
    "predictionsImgOOD=meanpredImgOOD.reshape(17,1)\n",
    "\n",
    "y_predictions_25ImgOOD=np.quantile(samplesImgOOD,0.25,axis=1)\n",
    "y_predictions_75IMGOOD=np.quantile(samplesImgOOD,0.75,axis=1)\n",
    "\n",
    "\n",
    "##dataframe\n",
    "ImgCenterOOD = [sublist[-1] for sublist in predictionsImgOOD]\n",
    "ImgLowOOD = [sublist[-1] for sublist in y_predictions_25ImgOOD.reshape(17,1)]\n",
    "ImgHighOOD = [sublist[-1] for sublist in y_predictions_75IMGOOD.reshape(17,1)]\n",
    "ImgwidthOOD= [x1 - x2 for (x1, x2) in zip(ImgHighOOD, ImgLowOOD)]\n",
    "\n",
    "\n",
    "###eta\n",
    "y_predTabOODA = nn_im.predict(bright,batch_size =1)\n",
    "\n",
    "\n",
    "\n",
    "samplesImgOODA = y_predTabOODA.reshape(-1, 1000) ###every datapoint one sample\n",
    "\n",
    "meanpredImgOODA = samplesImgOODA.mean(axis=1)  ###mean samples \n",
    "predictionsImgOODA=meanpredImgOODA.reshape(103,1)\n",
    "\n",
    "y_predictions_25ImgOODA=np.quantile(samplesImgOODA,0.25,axis=1)\n",
    "y_predictions_75IMGOODA=np.quantile(samplesImgOODA,0.75,axis=1)\n",
    "\n",
    "\n",
    "##dataframe\n",
    "ImgCenterOODA = [sublist[-1] for sublist in predictionsImgOODA]\n",
    "ImgLowOODA = [sublist[-1] for sublist in y_predictions_25ImgOODA.reshape(103,1)]\n",
    "ImgHighOODA = [sublist[-1] for sublist in y_predictions_75IMGOODA.reshape(103,1)]\n",
    "ImgwidthOODA= [x1 - x2 for (x1, x2) in zip(ImgHighOODA, ImgLowOODA)]"
   ]
  },
  {
   "cell_type": "code",
   "execution_count": 40,
   "metadata": {},
   "outputs": [],
   "source": [
    "##PPD\n",
    "\n",
    "y_predTabOODWhole = nn_image.predict(random,batch_size =1)\n",
    "\n",
    "\n",
    "\n",
    "samplesImgOODWhole = y_predTabOODWhole.reshape(-1, 1000) ###every datapoint one sample\n",
    "meanpredImgOODWhole = samplesImgOODWhole.mean(axis=1)  ###mean samples \n",
    "\n",
    "predictionsImgOODWhole=meanpredImgOODWhole.reshape(17,1)\n",
    "\n",
    "y_predictions_25ImgOODWhole=np.quantile(samplesImgOODWhole,0.25,axis=1)\n",
    "y_predictions_75IMGOODWhole=np.quantile(samplesImgOODWhole,0.75,axis=1)\n",
    "\n",
    "\n",
    "##dataframe\n",
    "ImgCenterOODWhole = [sublist[-1] for sublist in predictionsImgOODWhole]\n",
    "ImgLowOODWhole = [sublist[-1] for sublist in y_predictions_25ImgOODWhole.reshape(17,1)]\n",
    "ImgHighOODWhole = [sublist[-1] for sublist in y_predictions_75IMGOODWhole.reshape(17,1)]\n",
    "ImgwidthOODWhole= [x1 - x2 for (x1, x2) in zip(ImgHighOODWhole, ImgLowOODWhole)]\n",
    "\n",
    "\n",
    "##PPD\n",
    "\n",
    "y_predTabOODWholeA = nn_image.predict(bright,batch_size =1)\n",
    "\n",
    "\n",
    "\n",
    "samplesImgOODWholeA = y_predTabOODWholeA.reshape(-1, 1000) ###every datapoint one sample\n",
    "meanpredImgOODWholeA = samplesImgOODWholeA.mean(axis=1)  ###mean samples \n",
    "\n",
    "predictionsImgOODWholeA=meanpredImgOODWholeA.reshape(103,1)\n",
    "\n",
    "y_predictions_25ImgOODWholeA=np.quantile(samplesImgOODWholeA,0.25,axis=1)\n",
    "y_predictions_75IMGOODWholeA=np.quantile(samplesImgOODWholeA,0.75,axis=1)\n",
    "\n",
    "\n",
    "##dataframe\n",
    "ImgCenterOODWholeA = [sublist[-1] for sublist in predictionsImgOODWholeA]\n",
    "ImgLowOODWholeA = [sublist[-1] for sublist in y_predictions_25ImgOODWholeA.reshape(103,1)]\n",
    "ImgHighOODWholeA = [sublist[-1] for sublist in y_predictions_75IMGOODWholeA.reshape(103,1)]\n",
    "ImgwidthOODWholeA= [x1 - x2 for (x1, x2) in zip(ImgHighOODWholeA, ImgLowOODWholeA)]"
   ]
  },
  {
   "cell_type": "code",
   "execution_count": 41,
   "metadata": {},
   "outputs": [],
   "source": [
    "###vorbereitung image\n",
    "\n",
    "\n",
    "y_pred = nn_im.predict(test_imgs_scaled[0:120],batch_size =1)\n",
    "\n",
    "\n",
    "samples = y_pred.reshape(-1, 1000) ###every datapoint one sample\n",
    "\n",
    "meanpred = samples.mean(axis=1)  ###mean samples \n",
    "predictions=meanpred.reshape(120,1)\n",
    "\n",
    "y_predictions_25=np.quantile(samples,0.25,axis=1)\n",
    "y_predictions_75=np.quantile(samples,0.75,axis=1)\n",
    "\n",
    "\n",
    "#\n",
    "ImgCenter = [sublist[-1] for sublist in meanpred.reshape(120,1)]\n",
    "ImgLow = [sublist[-1] for sublist in y_predictions_25.reshape(120,1)]\n",
    "ImgHigh = [sublist[-1] for sublist in y_predictions_75.reshape(120,1)]\n",
    "Imgwidth= [x1 - x2 for (x1, x2) in zip(ImgHigh, ImgLow)]\n",
    "\n",
    "\n",
    "\n",
    "\n",
    "\n",
    "\n",
    "imagedata = pd.DataFrame(\n",
    "    {'width': Imgwidth,\n",
    "     'center': ImgCenter\n",
    "    })\n",
    "\n",
    "###Out of distribution\n",
    "\n",
    "imagadataOOD = pd.DataFrame(\n",
    "    {'width': ImgwidthOOD,\n",
    "     'center': ImgCenterOOD\n",
    "    })\n",
    "\n",
    "###Out of distribution\n",
    "\n",
    "imagadataOODA = pd.DataFrame(\n",
    "    {'width': ImgwidthOODA,\n",
    "     'center': ImgCenterOODA\n",
    "    })"
   ]
  },
  {
   "cell_type": "code",
   "execution_count": 42,
   "metadata": {},
   "outputs": [],
   "source": [
    "###vorbereitung image whole\n",
    "\n",
    "\n",
    "y_predWhole = nn_image.predict(test_imgs_scaled[0:120],batch_size =1)\n",
    "\n",
    "\n",
    "samplesWhole = y_predWhole.reshape(-1, 1000) ###every datapoint 1000 samples\n",
    "meanpredWhole = samplesWhole.mean(axis=1)  ###mean samples \n",
    "entropy_Correcet = -np.sum(y_predWhole * np.log2(y_predWhole ),axis=1) \n",
    "predictionsWhole=meanpredWhole.reshape(120,1)\n",
    "\n",
    "y_predictions_25Whole=np.quantile(samplesWhole,0.25,axis=1)\n",
    "y_predictions_75Whole=np.quantile(samplesWhole,0.75,axis=1)\n",
    "\n",
    "\n",
    "#\n",
    "ImgCenterWhole = [sublist[-1] for sublist in meanpredWhole.reshape(120,1)]\n",
    "ImgLowWhole = [sublist[-1] for sublist in y_predictions_25Whole.reshape(120,1)]\n",
    "ImgHighWhole = [sublist[-1] for sublist in y_predictions_75Whole.reshape(120,1)]\n",
    "ImgwidthWhole= [x1 - x2 for (x1, x2) in zip(ImgHighWhole, ImgLowWhole)]\n",
    "\n",
    "\n",
    "\n",
    "\n",
    "\n",
    "\n",
    "imagedataWhole = pd.DataFrame(\n",
    "    {'width': ImgwidthWhole,\n",
    "     'center': ImgCenterWhole\n",
    "    })\n",
    "\n",
    "###Out of distribution\n",
    "\n",
    "imagadataOODWhole = pd.DataFrame(\n",
    "    {'width': ImgwidthOODWhole,\n",
    "     'center': ImgCenterOODWhole\n",
    "    })\n",
    "\n",
    "###Out of distribution\n",
    "\n",
    "imagadataOODWholeA = pd.DataFrame(\n",
    "    {'width': ImgwidthOODWholeA,\n",
    "     'center': ImgCenterOODWholeA\n",
    "    })"
   ]
  },
  {
   "cell_type": "code",
   "execution_count": 43,
   "metadata": {},
   "outputs": [
    {
     "data": {
      "image/png": "[encoded data removed]",
      "text/plain": [
       "<Figure size 1440x576 with 2 Axes>"
      ]
     },
     "metadata": {
      "needs_background": "light"
     },
     "output_type": "display_data"
    }
   ],
   "source": [
    "fig = plt.figure(figsize=(20,8))\n",
    "\n",
    "plt.rcParams.update(({'font.size': 30}))\n",
    "\n",
    "\n",
    "\n",
    "fig.add_subplot(121)\n",
    "plt.scatter(imagadataOODA[\"center\"],imagadataOODA[\"width\"],alpha=0.3,s=25, label= \"TM-VI\\nOOD (modified)\",color=\"dodgerblue\")\n",
    "plt.scatter(imagadataOOD[\"center\"],imagadataOOD[\"width\"],alpha=0.7,s=25, label= \"TM-VI\\nOOD (random)\",color=\"darkblue\")\n",
    "plt.scatter(imagedata[\"center\"],imagedata[\"width\"],label=\"TM-VI ID\",alpha=0.3,s=25,color=\"orange\")\n",
    "plt.text(-22, 5.5,\"A\", \n",
    "            size=30, weight='bold')\n",
    "plt.ylabel(\"IQR\")\n",
    "plt.xlabel(\"mean $\\\\vartheta(B)$\")\n",
    "plt.yticks(np.arange(0, 6, 1))\n",
    "plt.xticks(np.arange(-20, 10, 5))\n",
    "plt.legend(fontsize=25)\n",
    "\n",
    "\n",
    "\n",
    "#fig.add_subplot(122)\n",
    "#plt.scatter(imagadataOODWholeA[\"center\"],imagadataOODWholeA[\"width\"],label=\"TM-VI\\nOOD (modified)\",alpha=0.3,s=20,color=\"dodgerblue\")\n",
    "#plt.scatter(imagadataOODWhole[\"center\"],imagadataOODWhole[\"width\"],label=\"TM-VI\\nOOD (random)\",alpha=0.7,s=20,color=\"darkblue\")\n",
    "#plt.scatter(imagedataWhole[\"center\"],imagedataWhole[\"width\"],label=\"TM-VI ID\",alpha=0.3,s=20,color=\"orange\")\n",
    "#plt.legend(fontsize=13)\n",
    "#plt.ylabel(\"interquartile range\")\n",
    "#plt.xlabel(\"mean $\\sigma(\\\\vartheta(B)$)\")\n",
    "#plt.yticks(np.arange(0, 0.1, 0.025))\n",
    "#plt.xticks(np.arange(0, 1.2, 0.2))\n",
    "\n",
    "\n",
    "fig.add_subplot(122)\n",
    "plt.scatter(GimagadataOODA[\"Gcenter\"],GimagadataOODA[\"Gwidth\"],label=\"Gaussian-VI\\nOOD (modified)\",s=25,alpha=0.3, color=\"dodgerblue\")\n",
    "plt.scatter(GimagadataOOD[\"Gcenter\"],GimagadataOOD[\"Gwidth\"],label=\"Gaussian-VI\\nOOD (random)\",s=25,alpha=0.7,color=\"darkblue\")\n",
    "plt.scatter(Gimagedata[\"Gcenter\"],Gimagedata[\"Gwidth\"],label=\"Gaussian-VI ID\",alpha=0.3,s=25,color=\"orange\")\n",
    "plt.text(-22, 5.5,\"B\", \n",
    "            size=30, weight='bold')\n",
    "plt.ylabel(\"IQR\")\n",
    "plt.xlabel(\"mean $\\\\vartheta(B)$\")\n",
    "plt.yticks(np.arange(0, 6, 1))\n",
    "plt.xticks(np.arange(-20, 10, 5))\n",
    "plt.legend(fontsize=25)\n",
    "\n",
    "\n",
    "\n",
    "fig.tight_layout(pad=1.5)\n",
    "\n",
    "#plt.savefig(\"./plots/uncertainty/imagegausTMVIcompare1.pdf\")"
   ]
  },
  {
   "cell_type": "code",
   "execution_count": null,
   "metadata": {},
   "outputs": [],
   "source": []
  },
  {
   "cell_type": "code",
   "execution_count": null,
   "metadata": {},
   "outputs": [],
   "source": []
  }
 ],
 "metadata": {
  "interpreter": {
   "hash": "0288ab4f19d6987ea2f50a7645b0e5f094734e2743686dabe7386fd0f317d35b"
  },
  "kernelspec": {
   "display_name": "tfEnv2",
   "language": "python",
   "name": "python3"
  },
  "language_info": {
   "codemirror_mode": {
    "name": "ipython",
    "version": 3
   },
   "file_extension": ".py",
   "mimetype": "text/x-python",
   "name": "python",
   "nbconvert_exporter": "python",
   "pygments_lexer": "ipython3",
   "version": "3.9.7"
  }
 },
 "nbformat": 4,
 "nbformat_minor": 4
}
